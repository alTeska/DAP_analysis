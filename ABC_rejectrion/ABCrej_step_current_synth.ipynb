{
 "cells": [
  {
   "cell_type": "markdown",
   "metadata": {},
   "source": [
    "# Notebook to develop and test the ABC Rejection on DAP cell model"
   ]
  },
  {
   "cell_type": "code",
   "execution_count": 1,
   "metadata": {},
   "outputs": [],
   "source": [
    "import numpy as np\n",
    "import matplotlib.pyplot as plt\n",
    "from scipy.stats import zscore\n",
    "from tqdm import tqdm\n",
    "\n",
    "from delfi.distribution import Uniform\n",
    "from dap.utils import obs_params_gbar, syn_current, load_current\n",
    "from dap.dap_sumstats_step_mom import DAPSummaryStatsStepMoments\n",
    "from dap import DAPcython\n",
    "from dap.dap_simulator import DAPSimulator"
   ]
  },
  {
   "cell_type": "markdown",
   "metadata": {},
   "source": [
    "### General Settings Pick"
   ]
  },
  {
   "cell_type": "code",
   "execution_count": 2,
   "metadata": {},
   "outputs": [],
   "source": [
    "n_samples = 100\n",
    "n_summary = 17\n",
    "dt = 0.1"
   ]
  },
  {
   "cell_type": "markdown",
   "metadata": {},
   "source": [
    "### Get current"
   ]
  },
  {
   "cell_type": "code",
   "execution_count": 3,
   "metadata": {},
   "outputs": [],
   "source": [
    "# load the data\n",
    "data_dir = '/home/alteska/Desktop/LFI_DAP/data/rawData/2015_08_26b.dat'    # best cell\n",
    "I, v, t, t_on, t_off, dt = load_current(data_dir, protocol='IV', ramp_amp=1)\n",
    "\n",
    "# generate syntetic data\n",
    "params, labels = obs_params_gbar(reduced_model=True)"
   ]
  },
  {
   "cell_type": "code",
   "execution_count": 4,
   "metadata": {},
   "outputs": [
    {
     "data": {
      "image/png": "[encoded data removed]",
      "text/plain": [
       "<Figure size 432x288 with 1 Axes>"
      ]
     },
     "metadata": {},
     "output_type": "display_data"
    }
   ],
   "source": [
    "dap = DAPcython(-75, params)\n",
    "U = dap.simulate(dt, t, I)\n",
    "plt.plot(U);"
   ]
  },
  {
   "cell_type": "markdown",
   "metadata": {},
   "source": [
    "### Set up the model"
   ]
  },
  {
   "cell_type": "code",
   "execution_count": 5,
   "metadata": {},
   "outputs": [],
   "source": [
    "sim = DAPSimulator(I, dt, -75, dim_param=1)\n",
    "stats = DAPSummaryStatsStepMoments(t_on, t_off, n_summary=n_summary)"
   ]
  },
  {
   "cell_type": "markdown",
   "metadata": {},
   "source": [
    "### Setup Priors"
   ]
  },
  {
   "cell_type": "code",
   "execution_count": 6,
   "metadata": {},
   "outputs": [],
   "source": [
    "prior_min = np.array([0])\n",
    "prior_max = np.array([1])\n",
    "prior_unif = Uniform(lower=prior_min, upper=prior_max)"
   ]
  },
  {
   "cell_type": "code",
   "execution_count": 7,
   "metadata": {},
   "outputs": [
    {
     "data": {
      "text/plain": [
       "array([[0.95692502],\n",
       "       [0.72743886],\n",
       "       [0.23519327],\n",
       "       ...,\n",
       "       [0.18385278],\n",
       "       [0.29958589],\n",
       "       [0.18860876]])"
      ]
     },
     "execution_count": 7,
     "metadata": {},
     "output_type": "execute_result"
    }
   ],
   "source": [
    "params = prior_unif.gen(n_samples=2000)\n",
    "params"
   ]
  },
  {
   "cell_type": "markdown",
   "metadata": {},
   "source": [
    "### generate desired data"
   ]
  },
  {
   "cell_type": "code",
   "execution_count": 8,
   "metadata": {},
   "outputs": [
    {
     "data": {
      "text/plain": [
       "array([[-7.51897511e+01,  3.35922664e-02, -5.36251254e+01,\n",
       "         3.80000000e+01,  3.80000000e+01,  2.26939721e-01,\n",
       "        -1.48323413e-01, -1.42300744e-01, -1.26234404e-01,\n",
       "         4.66200349e+02,  2.98241674e+00,  1.19169204e+01,\n",
       "         4.87785494e+01,  9.15000000e+00,  1.21500000e+01,\n",
       "         1.33000000e+01]])"
      ]
     },
     "execution_count": 8,
     "metadata": {},
     "output_type": "execute_result"
    }
   ],
   "source": [
    "U = dap.simulate(dt, t, I)\n",
    "y_o = {'data': U.reshape(-1),\n",
    "       'time': t,\n",
    "       'dt': dt,\n",
    "       'I': I}\n",
    "y = stats.calc([y_o])\n",
    "y"
   ]
  },
  {
   "cell_type": "code",
   "execution_count": 9,
   "metadata": {},
   "outputs": [
    {
     "data": {
      "text/plain": [
       "array([[-0.92367661, -0.27527488, -0.73779627,  0.0519837 ,  0.0519837 ,\n",
       "        -0.27360828, -0.27684293, -0.27679102, -0.27665253,  3.742937  ,\n",
       "        -0.24985693, -0.1728443 ,  0.14489143, -0.19669429, -0.17083522,\n",
       "        -0.16092258]])"
      ]
     },
     "execution_count": 9,
     "metadata": {},
     "output_type": "execute_result"
    }
   ],
   "source": [
    "sum_stats = zscore(y, axis=1)\n",
    "sum_stats"
   ]
  },
  {
   "cell_type": "markdown",
   "metadata": {},
   "source": [
    "## Repeat for 100 in a loop"
   ]
  },
  {
   "cell_type": "code",
   "execution_count": 10,
   "metadata": {},
   "outputs": [],
   "source": [
    "n_samples = 100\n",
    "eps = 1"
   ]
  },
  {
   "cell_type": "code",
   "execution_count": 11,
   "metadata": {},
   "outputs": [],
   "source": [
    "params = prior_unif.gen(n_samples=n_samples)\n",
    "params_std = params.std()\n",
    "params_mean = params.mean()"
   ]
  },
  {
   "cell_type": "code",
   "execution_count": 12,
   "metadata": {},
   "outputs": [
    {
     "name": "stderr",
     "output_type": "stream",
     "text": [
      "100%|██████████| 100/100 [01:04<00:00,  1.55it/s]\n"
     ]
    }
   ],
   "source": [
    "norms = []\n",
    "\n",
    "for p in tqdm(params):\n",
    "    x_o = sim.gen_single(p)\n",
    "    y_obs = stats.calc([x_o])    \n",
    "    obs_zt = zscore(y_obs, axis=1)\n",
    "    dist_sum_stats = np.linalg.norm((sum_stats-obs_zt),axis=1)\n",
    "\n",
    "    norms.append(dist_sum_stats)"
   ]
  },
  {
   "cell_type": "code",
   "execution_count": 13,
   "metadata": {},
   "outputs": [
    {
     "data": {
      "image/png": "[encoded data removed]",
      "text/plain": [
       "<Figure size 432x288 with 1 Axes>"
      ]
     },
     "metadata": {},
     "output_type": "display_data"
    }
   ],
   "source": [
    "N1 = np.array(norms)\n",
    "plt.hist(x=N1, bins='auto', alpha=0.7, rwidth=0.85);"
   ]
  },
  {
   "cell_type": "markdown",
   "metadata": {},
   "source": [
    "## Sort the stuff"
   ]
  },
  {
   "cell_type": "code",
   "execution_count": 14,
   "metadata": {},
   "outputs": [],
   "source": [
    "scores = N1.transpose()[0]\n",
    "arg_sorted = np.argsort(scores)"
   ]
  },
  {
   "cell_type": "code",
   "execution_count": 15,
   "metadata": {},
   "outputs": [],
   "source": [
    "# rejection criterion\n",
    "percent_accept = 10\n",
    "percent_criterion = int(len(arg_sorted)*percent_accept/100)"
   ]
  },
  {
   "cell_type": "code",
   "execution_count": 16,
   "metadata": {},
   "outputs": [],
   "source": [
    "# rejection (or more positively, acceptance) of the z-scored parameters 'params' and inverse z-scoring of the accepted parameters\n",
    "params_accept = params[arg_sorted[0:percent_criterion],:]*params_std + params_mean"
   ]
  },
  {
   "cell_type": "code",
   "execution_count": 17,
   "metadata": {},
   "outputs": [
    {
     "data": {
      "image/png": "[encoded data removed]",
      "text/plain": [
       "<Figure size 720x360 with 1 Axes>"
      ]
     },
     "metadata": {},
     "output_type": "display_data"
    }
   ],
   "source": [
    "fig, ax = plt.subplots(1,1,figsize=(10,5))\n",
    "ax.hist(x=params_accept[:,0], bins='auto', alpha=0.7, rwidth=0.85);\n",
    "ax.set_title(labels[0]);"
   ]
  },
  {
   "cell_type": "code",
   "execution_count": 18,
   "metadata": {},
   "outputs": [
    {
     "data": {
      "image/png": "[encoded data removed]",
      "text/plain": [
       "<Figure size 432x288 with 1 Axes>"
      ]
     },
     "metadata": {},
     "output_type": "display_data"
    }
   ],
   "source": [
    "plt.scatter(params, scores)\n",
    "plt.xlabel('params')\n",
    "plt.ylabel('score');"
   ]
  },
  {
   "cell_type": "code",
   "execution_count": 19,
   "metadata": {},
   "outputs": [
    {
     "data": {
      "image/png": "[encoded data removed]",
      "text/plain": [
       "<Figure size 720x360 with 1 Axes>"
      ]
     },
     "metadata": {},
     "output_type": "display_data"
    }
   ],
   "source": [
    "# rejection (or more positively, acceptance) of the z-scored parameters 'params' and inverse z-scoring of the accepted parameters\n",
    "params_accept = params[arg_sorted[0:percent_criterion],:]\n",
    "fig, ax = plt.subplots(1,1,figsize=(10,5))\n",
    "ax.hist(x=params_accept[:,0], bins='auto', alpha=0.7, rwidth=0.85);\n",
    "ax.set_title(labels[0]);"
   ]
  },
  {
   "cell_type": "code",
   "execution_count": 20,
   "metadata": {},
   "outputs": [
    {
     "data": {
      "image/png": "[encoded data removed]",
      "text/plain": [
       "<Figure size 432x288 with 1 Axes>"
      ]
     },
     "metadata": {},
     "output_type": "display_data"
    }
   ],
   "source": [
    "plt.scatter(params, scores)\n",
    "plt.xlabel('params')\n",
    "plt.ylabel('score');"
   ]
  },
  {
   "cell_type": "markdown",
   "metadata": {},
   "source": [
    "## Repeat for 1000 in a loop"
   ]
  },
  {
   "cell_type": "code",
   "execution_count": 21,
   "metadata": {},
   "outputs": [],
   "source": [
    "n_samples = 1000\n",
    "eps = 1"
   ]
  },
  {
   "cell_type": "code",
   "execution_count": 22,
   "metadata": {},
   "outputs": [],
   "source": [
    "params = prior_unif.gen(n_samples=n_samples)\n",
    "params_std = params.std()\n",
    "params_mean = params.mean()"
   ]
  },
  {
   "cell_type": "code",
   "execution_count": 23,
   "metadata": {},
   "outputs": [
    {
     "name": "stderr",
     "output_type": "stream",
     "text": [
      "100%|██████████| 1000/1000 [12:01<00:00,  1.39it/s]\n"
     ]
    }
   ],
   "source": [
    "norms = []\n",
    "\n",
    "for p in tqdm(params):\n",
    "    x_o = sim.gen_single(p)\n",
    "    y_obs = stats.calc([x_o])    \n",
    "    obs_zt = zscore(y_obs, axis=1)\n",
    "    dist_sum_stats = np.linalg.norm((sum_stats-obs_zt),axis=1)\n",
    "\n",
    "    norms.append(dist_sum_stats)"
   ]
  },
  {
   "cell_type": "code",
   "execution_count": 24,
   "metadata": {},
   "outputs": [
    {
     "data": {
      "image/png": "[encoded data removed]",
      "text/plain": [
       "<Figure size 432x288 with 1 Axes>"
      ]
     },
     "metadata": {},
     "output_type": "display_data"
    }
   ],
   "source": [
    "N5 = np.array(norms)\n",
    "plt.hist(x=N5, bins='auto', alpha=0.7, rwidth=0.85);"
   ]
  },
  {
   "cell_type": "markdown",
   "metadata": {},
   "source": [
    "## Sort the stuff"
   ]
  },
  {
   "cell_type": "code",
   "execution_count": 25,
   "metadata": {},
   "outputs": [],
   "source": [
    "scores = N5.transpose()[0]\n",
    "arg_sorted = np.argsort(scores)"
   ]
  },
  {
   "cell_type": "code",
   "execution_count": 26,
   "metadata": {},
   "outputs": [],
   "source": [
    "# rejection criterion\n",
    "percent_accept = 10\n",
    "percent_criterion = int(len(arg_sorted)*percent_accept/100)"
   ]
  },
  {
   "cell_type": "code",
   "execution_count": 27,
   "metadata": {},
   "outputs": [],
   "source": [
    "# rejection (or more positively, acceptance) of the z-scored parameters 'params' and inverse z-scoring of the accepted parameters\n",
    "params_accept = params[arg_sorted[0:percent_criterion],:]*params_std + params_mean\n",
    "# params_accept = params[arg_sorted[0:percent_criterion],:]\n",
    "params_accept = params[arg_sorted[0:percent_criterion],:]*params_mean + params_std"
   ]
  },
  {
   "cell_type": "code",
   "execution_count": 28,
   "metadata": {},
   "outputs": [
    {
     "data": {
      "image/png": "[encoded data removed]",
      "text/plain": [
       "<Figure size 720x360 with 1 Axes>"
      ]
     },
     "metadata": {},
     "output_type": "display_data"
    }
   ],
   "source": [
    "fig, ax = plt.subplots(1,1,figsize=(10,5))\n",
    "ax.hist(x=params_accept[:], bins='auto', alpha=0.7, rwidth=0.85);\n",
    "ax.set_title(labels[0]);"
   ]
  },
  {
   "cell_type": "markdown",
   "metadata": {},
   "source": [
    "## Repeat for 2000 in a loop"
   ]
  },
  {
   "cell_type": "code",
   "execution_count": 29,
   "metadata": {},
   "outputs": [],
   "source": [
    "n_samples = 2000\n",
    "eps = 1"
   ]
  },
  {
   "cell_type": "code",
   "execution_count": 30,
   "metadata": {},
   "outputs": [],
   "source": [
    "params = prior_unif.gen(n_samples=n_samples)\n",
    "params_std = params.std()\n",
    "params_mean = params.mean()"
   ]
  },
  {
   "cell_type": "code",
   "execution_count": 31,
   "metadata": {},
   "outputs": [
    {
     "name": "stderr",
     "output_type": "stream",
     "text": [
      "100%|██████████| 2000/2000 [22:17<00:00,  1.50it/s]\n"
     ]
    }
   ],
   "source": [
    "norms = []\n",
    "\n",
    "for p in tqdm(params):\n",
    "    x_o = sim.gen_single(p)\n",
    "    y_obs = stats.calc([x_o])    \n",
    "    obs_zt = zscore(y_obs, axis=1)\n",
    "    dist_sum_stats = np.linalg.norm((sum_stats-obs_zt),axis=1)\n",
    "\n",
    "    norms.append(dist_sum_stats)"
   ]
  },
  {
   "cell_type": "code",
   "execution_count": 32,
   "metadata": {},
   "outputs": [
    {
     "data": {
      "image/png": "[encoded data removed]",
      "text/plain": [
       "<Figure size 432x288 with 1 Axes>"
      ]
     },
     "metadata": {},
     "output_type": "display_data"
    }
   ],
   "source": [
    "N5 = np.array(norms)\n",
    "plt.hist(x=N5, bins='auto', alpha=0.7, rwidth=0.85);"
   ]
  },
  {
   "cell_type": "markdown",
   "metadata": {},
   "source": [
    "## Sort the stuff"
   ]
  },
  {
   "cell_type": "code",
   "execution_count": 33,
   "metadata": {},
   "outputs": [],
   "source": [
    "scores = N5.transpose()[0]\n",
    "arg_sorted = np.argsort(scores)"
   ]
  },
  {
   "cell_type": "code",
   "execution_count": 34,
   "metadata": {},
   "outputs": [],
   "source": [
    "# rejection criterion\n",
    "percent_accept = 2\n",
    "percent_criterion = int(len(arg_sorted)*percent_accept/100)"
   ]
  },
  {
   "cell_type": "code",
   "execution_count": 35,
   "metadata": {},
   "outputs": [],
   "source": [
    "# rejection (or more positively, acceptance) of the z-scored parameters 'params' and inverse z-scoring of the accepted parameters\n",
    "params_accept = params[arg_sorted[0:percent_criterion],:]*params_std + params_mean\n",
    "# params_accept = params[arg_sorted[0:percent_criterion],:]\n",
    "params_accept = params[arg_sorted[0:percent_criterion],:]*params_mean + params_std"
   ]
  },
  {
   "cell_type": "code",
   "execution_count": 36,
   "metadata": {},
   "outputs": [
    {
     "data": {
      "image/png": "[encoded data removed]",
      "text/plain": [
       "<Figure size 720x360 with 1 Axes>"
      ]
     },
     "metadata": {},
     "output_type": "display_data"
    }
   ],
   "source": [
    "fig, ax = plt.subplots(1,1,figsize=(10,5))\n",
    "ax.hist(x=params_accept[:], bins='auto', alpha=0.7, rwidth=0.85);\n",
    "ax.set_title(labels[0]);"
   ]
  },
  {
   "cell_type": "code",
   "execution_count": 37,
   "metadata": {},
   "outputs": [
    {
     "data": {
      "image/png": "[encoded data removed]",
      "text/plain": [
       "<Figure size 432x288 with 1 Axes>"
      ]
     },
     "metadata": {},
     "output_type": "display_data"
    }
   ],
   "source": [
    "plt.scatter(params, scores)\n",
    "plt.xlabel('params')\n",
    "plt.ylabel('score');"
   ]
  },
  {
   "cell_type": "code",
   "execution_count": 38,
   "metadata": {},
   "outputs": [
    {
     "data": {
      "text/plain": [
       "array([[0.99434835],\n",
       "       [0.64890458],\n",
       "       [0.07144252],\n",
       "       ...,\n",
       "       [0.75376896],\n",
       "       [0.20161021],\n",
       "       [0.67271696]])"
      ]
     },
     "execution_count": 38,
     "metadata": {},
     "output_type": "execute_result"
    }
   ],
   "source": [
    "params"
   ]
  },
  {
   "cell_type": "code",
   "execution_count": 39,
   "metadata": {},
   "outputs": [
    {
     "data": {
      "text/plain": [
       "array([5.59874733, 5.78868154, 5.83708837, ..., 5.62269931, 0.65521319,\n",
       "       5.71897561])"
      ]
     },
     "execution_count": 39,
     "metadata": {},
     "output_type": "execute_result"
    }
   ],
   "source": [
    "scores"
   ]
  },
  {
   "cell_type": "code",
   "execution_count": 40,
   "metadata": {},
   "outputs": [
    {
     "data": {
      "image/png": "[encoded data removed]",
      "text/plain": [
       "<Figure size 432x288 with 1 Axes>"
      ]
     },
     "metadata": {},
     "output_type": "display_data"
    }
   ],
   "source": [
    "p = params[arg_sorted[0:percent_criterion],:]\n",
    "s = scores[arg_sorted[0:percent_criterion]]\n",
    "\n",
    "plt.scatter(p, s)\n",
    "plt.xlabel('params')\n",
    "plt.ylabel('score');"
   ]
  },
  {
   "cell_type": "code",
   "execution_count": 41,
   "metadata": {},
   "outputs": [
    {
     "data": {
      "text/plain": [
       "array([0.15245836])"
      ]
     },
     "execution_count": 41,
     "metadata": {},
     "output_type": "execute_result"
    }
   ],
   "source": [
    "p[0]"
   ]
  },
  {
   "cell_type": "code",
   "execution_count": 42,
   "metadata": {},
   "outputs": [],
   "source": [
    "dap_abc = DAPcython(-75, p[0])\n",
    "U_abc = dap.simulate(dt, t, I)"
   ]
  },
  {
   "cell_type": "code",
   "execution_count": 43,
   "metadata": {},
   "outputs": [
    {
     "name": "stderr",
     "output_type": "stream",
     "text": [
      "No handles with labels found to put in legend.\n"
     ]
    },
    {
     "data": {
      "image/png": "[encoded data removed]",
      "text/plain": [
       "<Figure size 432x288 with 1 Axes>"
      ]
     },
     "metadata": {},
     "output_type": "display_data"
    }
   ],
   "source": [
    "plt.plot(I)\n",
    "plt.plot(U)\n",
    "plt.plot(U_abc)\n",
    "plt.legend();\n"
   ]
  }
 ],
 "metadata": {
  "kernelspec": {
   "display_name": "Python 3",
   "language": "python",
   "name": "python3"
  },
  "language_info": {
   "codemirror_mode": {
    "name": "ipython",
    "version": 3
   },
   "file_extension": ".py",
   "mimetype": "text/x-python",
   "name": "python",
   "nbconvert_exporter": "python",
   "pygments_lexer": "ipython3",
   "version": "3.6.8"
  }
 },
 "nbformat": 4,
 "nbformat_minor": 2
}
