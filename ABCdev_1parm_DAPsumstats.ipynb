{
 "cells": [
  {
   "cell_type": "markdown",
   "metadata": {},
   "source": [
    "# Notebook to develop and test the ABC Rejection on DAP cell model"
   ]
  },
  {
   "cell_type": "code",
   "execution_count": 1,
   "metadata": {},
   "outputs": [],
   "source": [
    "import numpy as np\n",
    "import matplotlib.pyplot as plt\n",
    "from scipy.stats import zscore\n",
    "from tqdm import tqdm\n",
    "\n",
    "from delfi.distribution import Uniform\n",
    "from dap.utils import obs_params_gbar, syn_current\n",
    "from dap.dap_sumstats_moments import DAPSummaryStatsMoments\n",
    "from dap.dap_sumstats import DAPSummaryStats\n",
    "from dap import DAPcython\n",
    "from dap.dap_simulator import DAPSimulator"
   ]
  },
  {
   "cell_type": "markdown",
   "metadata": {},
   "source": [
    "### General Settings Pick"
   ]
  },
  {
   "cell_type": "code",
   "execution_count": 2,
   "metadata": {},
   "outputs": [],
   "source": [
    "n_samples = 100\n",
    "n_summary = 13\n",
    "dt = 0.01"
   ]
  },
  {
   "cell_type": "markdown",
   "metadata": {},
   "source": [
    "### Get current"
   ]
  },
  {
   "cell_type": "code",
   "execution_count": 3,
   "metadata": {},
   "outputs": [
    {
     "data": {
      "text/plain": [
       "0.1527"
      ]
     },
     "execution_count": 3,
     "metadata": {},
     "output_type": "execute_result"
    }
   ],
   "source": [
    "I, t, t_on, t_off = syn_current(duration=70, dt=dt, t_on=15, t_off=20, amp=3.1)\n",
    "params, labels = obs_params_gbar(reduced_model=True)\n",
    "params[0] * 10"
   ]
  },
  {
   "cell_type": "code",
   "execution_count": 4,
   "metadata": {},
   "outputs": [
    {
     "data": {
      "image/png": "[encoded data removed]",
      "text/plain": [
       "<Figure size 432x288 with 1 Axes>"
      ]
     },
     "metadata": {},
     "output_type": "display_data"
    }
   ],
   "source": [
    "dap = DAPcython(-75, params*10)\n",
    "U = dap.simulate(dt, t, I)\n",
    "plt.plot(U);"
   ]
  },
  {
   "cell_type": "markdown",
   "metadata": {},
   "source": [
    "### Set up the model"
   ]
  },
  {
   "cell_type": "code",
   "execution_count": 5,
   "metadata": {},
   "outputs": [],
   "source": [
    "sim = DAPSimulator(I, dt, -75, dim_param=1)\n",
    "stats = DAPSummaryStats(t_on, t_off, n_summary=n_summary)"
   ]
  },
  {
   "cell_type": "markdown",
   "metadata": {},
   "source": [
    "### Setup Priors"
   ]
  },
  {
   "cell_type": "code",
   "execution_count": 6,
   "metadata": {},
   "outputs": [],
   "source": [
    "prior_min = np.array([0])\n",
    "prior_max = np.array([1])\n",
    "prior_unif = Uniform(lower=prior_min, upper=prior_max)"
   ]
  },
  {
   "cell_type": "code",
   "execution_count": 7,
   "metadata": {},
   "outputs": [
    {
     "data": {
      "text/plain": [
       "array([[0.47560758],\n",
       "       [0.98612683],\n",
       "       [0.04617458],\n",
       "       ...,\n",
       "       [0.89200673],\n",
       "       [0.2301235 ],\n",
       "       [0.58430737]])"
      ]
     },
     "execution_count": 7,
     "metadata": {},
     "output_type": "execute_result"
    }
   ],
   "source": [
    "params = prior_unif.gen(n_samples=2000)\n",
    "params"
   ]
  },
  {
   "cell_type": "markdown",
   "metadata": {},
   "source": [
    "### generate desired data"
   ]
  },
  {
   "cell_type": "code",
   "execution_count": 8,
   "metadata": {},
   "outputs": [
    {
     "data": {
      "text/plain": [
       "array([[-75.05683949, 131.37650415,   0.77      , -64.27035326,\n",
       "         10.27811835,  23.06      ,  -0.50836788,   2.66      ,\n",
       "        -77.39146766]])"
      ]
     },
     "execution_count": 8,
     "metadata": {},
     "output_type": "execute_result"
    }
   ],
   "source": [
    "U = dap.simulate(dt, t, I)\n",
    "y_o = {'data': U.reshape(-1),\n",
    "       'time': t,\n",
    "       'dt': dt,\n",
    "       'I': I}\n",
    "y = stats.calc([y_o])\n",
    "y"
   ]
  },
  {
   "cell_type": "code",
   "execution_count": 9,
   "metadata": {},
   "outputs": [
    {
     "data": {
      "text/plain": [
       "array([[-1.14270841,  2.24640282,  0.10217572, -0.9656217 ,  0.25827487,\n",
       "         0.46812091,  0.08118816,  0.13320472, -1.18103708]])"
      ]
     },
     "execution_count": 9,
     "metadata": {},
     "output_type": "execute_result"
    }
   ],
   "source": [
    "sum_stats = zscore(y, axis=1)\n",
    "sum_stats"
   ]
  },
  {
   "cell_type": "markdown",
   "metadata": {},
   "source": [
    "## Repeat for 100 in a loop"
   ]
  },
  {
   "cell_type": "code",
   "execution_count": 10,
   "metadata": {},
   "outputs": [],
   "source": [
    "n_samples = 100\n",
    "eps = 1"
   ]
  },
  {
   "cell_type": "code",
   "execution_count": 11,
   "metadata": {},
   "outputs": [],
   "source": [
    "params = prior_unif.gen(n_samples=n_samples)\n",
    "params_std = params.std()\n",
    "params_mean = params.mean()"
   ]
  },
  {
   "cell_type": "code",
   "execution_count": 12,
   "metadata": {},
   "outputs": [
    {
     "name": "stderr",
     "output_type": "stream",
     "text": [
      "100%|██████████| 100/100 [00:23<00:00,  4.25it/s]\n"
     ]
    }
   ],
   "source": [
    "norms = []\n",
    "\n",
    "for p in tqdm(params):\n",
    "    x_o = sim.gen_single(p)\n",
    "    y_obs = stats.calc([x_o])    \n",
    "    obs_zt = zscore(y_obs, axis=1)\n",
    "    dist_sum_stats = np.linalg.norm((sum_stats-obs_zt),axis=1)\n",
    "\n",
    "    norms.append(dist_sum_stats)"
   ]
  },
  {
   "cell_type": "code",
   "execution_count": 13,
   "metadata": {},
   "outputs": [
    {
     "data": {
      "image/png": "[encoded data removed]",
      "text/plain": [
       "<Figure size 432x288 with 1 Axes>"
      ]
     },
     "metadata": {},
     "output_type": "display_data"
    }
   ],
   "source": [
    "N1 = np.array(norms)\n",
    "plt.hist(x=N1, bins='auto', alpha=0.7, rwidth=0.85);"
   ]
  },
  {
   "cell_type": "markdown",
   "metadata": {},
   "source": [
    "## Sort the stuff"
   ]
  },
  {
   "cell_type": "code",
   "execution_count": 14,
   "metadata": {},
   "outputs": [],
   "source": [
    "scores = N1.transpose()[0]\n",
    "arg_sorted = np.argsort(scores)"
   ]
  },
  {
   "cell_type": "code",
   "execution_count": 15,
   "metadata": {},
   "outputs": [],
   "source": [
    "# rejection criterion\n",
    "percent_accept = 10\n",
    "percent_criterion = int(len(arg_sorted)*percent_accept/100)"
   ]
  },
  {
   "cell_type": "code",
   "execution_count": 16,
   "metadata": {},
   "outputs": [],
   "source": [
    "# rejection (or more positively, acceptance) of the z-scored parameters 'params' and inverse z-scoring of the accepted parameters\n",
    "params_accept = params[arg_sorted[0:percent_criterion],:]*params_std + params_mean"
   ]
  },
  {
   "cell_type": "code",
   "execution_count": 37,
   "metadata": {},
   "outputs": [
    {
     "data": {
      "image/png": "[encoded data removed]",
      "text/plain": [
       "<Figure size 720x360 with 1 Axes>"
      ]
     },
     "metadata": {},
     "output_type": "display_data"
    }
   ],
   "source": [
    "fig, ax = plt.subplots(1,1,figsize=(10,5))\n",
    "ax.hist(x=params_accept[:,0], bins='auto', alpha=0.7, rwidth=0.85);\n",
    "ax.set_title(labels[0]);"
   ]
  },
  {
   "cell_type": "code",
   "execution_count": 38,
   "metadata": {},
   "outputs": [
    {
     "data": {
      "image/png": "[encoded data removed]",
      "text/plain": [
       "<Figure size 432x288 with 1 Axes>"
      ]
     },
     "metadata": {},
     "output_type": "display_data"
    }
   ],
   "source": [
    "plt.scatter(params, scores)\n",
    "plt.xlabel('params')\n",
    "plt.ylabel('score');"
   ]
  },
  {
   "cell_type": "code",
   "execution_count": 19,
   "metadata": {},
   "outputs": [
    {
     "data": {
      "image/png": "[encoded data removed]",
      "text/plain": [
       "<Figure size 720x360 with 1 Axes>"
      ]
     },
     "metadata": {},
     "output_type": "display_data"
    }
   ],
   "source": [
    "# rejection (or more positively, acceptance) of the z-scored parameters 'params' and inverse z-scoring of the accepted parameters\n",
    "params_accept = params[arg_sorted[0:percent_criterion],:]\n",
    "fig, ax = plt.subplots(1,1,figsize=(10,5))\n",
    "ax.hist(x=params_accept[:,0], bins='auto', alpha=0.7, rwidth=0.85);\n",
    "ax.set_title(labels[0]);"
   ]
  },
  {
   "cell_type": "code",
   "execution_count": 20,
   "metadata": {},
   "outputs": [
    {
     "data": {
      "image/png": "[encoded data removed]",
      "text/plain": [
       "<Figure size 432x288 with 1 Axes>"
      ]
     },
     "metadata": {},
     "output_type": "display_data"
    }
   ],
   "source": [
    "plt.scatter(params, scores)\n",
    "plt.xlabel('params')\n",
    "plt.ylabel('score');"
   ]
  },
  {
   "cell_type": "markdown",
   "metadata": {},
   "source": [
    "## Repeat for 1000 in a loop"
   ]
  },
  {
   "cell_type": "code",
   "execution_count": 21,
   "metadata": {},
   "outputs": [],
   "source": [
    "n_samples = 1000\n",
    "eps = 1"
   ]
  },
  {
   "cell_type": "code",
   "execution_count": 22,
   "metadata": {},
   "outputs": [],
   "source": [
    "params = prior_unif.gen(n_samples=n_samples)\n",
    "params_std = params.std()\n",
    "params_mean = params.mean()"
   ]
  },
  {
   "cell_type": "code",
   "execution_count": 23,
   "metadata": {},
   "outputs": [
    {
     "name": "stderr",
     "output_type": "stream",
     "text": [
      "100%|██████████| 1000/1000 [03:54<00:00,  4.27it/s]\n"
     ]
    }
   ],
   "source": [
    "norms = []\n",
    "\n",
    "for p in tqdm(params):\n",
    "    x_o = sim.gen_single(p)\n",
    "    y_obs = stats.calc([x_o])    \n",
    "    obs_zt = zscore(y_obs, axis=1)\n",
    "    dist_sum_stats = np.linalg.norm((sum_stats-obs_zt),axis=1)\n",
    "\n",
    "    norms.append(dist_sum_stats)"
   ]
  },
  {
   "cell_type": "code",
   "execution_count": 24,
   "metadata": {},
   "outputs": [
    {
     "data": {
      "image/png": "[encoded data removed]",
      "text/plain": [
       "<Figure size 432x288 with 1 Axes>"
      ]
     },
     "metadata": {},
     "output_type": "display_data"
    }
   ],
   "source": [
    "N5 = np.array(norms)\n",
    "plt.hist(x=N5, bins='auto', alpha=0.7, rwidth=0.85);"
   ]
  },
  {
   "cell_type": "markdown",
   "metadata": {},
   "source": [
    "## Sort the stuff"
   ]
  },
  {
   "cell_type": "code",
   "execution_count": 25,
   "metadata": {},
   "outputs": [],
   "source": [
    "scores = N5.transpose()[0]\n",
    "arg_sorted = np.argsort(scores)"
   ]
  },
  {
   "cell_type": "code",
   "execution_count": 26,
   "metadata": {},
   "outputs": [],
   "source": [
    "# rejection criterion\n",
    "percent_accept = 10\n",
    "percent_criterion = int(len(arg_sorted)*percent_accept/100)"
   ]
  },
  {
   "cell_type": "code",
   "execution_count": 27,
   "metadata": {},
   "outputs": [],
   "source": [
    "# rejection (or more positively, acceptance) of the z-scored parameters 'params' and inverse z-scoring of the accepted parameters\n",
    "params_accept = params[arg_sorted[0:percent_criterion],:]*params_std + params_mean\n",
    "# params_accept = params[arg_sorted[0:percent_criterion],:]\n",
    "params_accept = params[arg_sorted[0:percent_criterion],:]*params_mean + params_std"
   ]
  },
  {
   "cell_type": "code",
   "execution_count": 28,
   "metadata": {},
   "outputs": [
    {
     "data": {
      "image/png": "[encoded data removed]",
      "text/plain": [
       "<Figure size 720x360 with 1 Axes>"
      ]
     },
     "metadata": {},
     "output_type": "display_data"
    }
   ],
   "source": [
    "fig, ax = plt.subplots(1,1,figsize=(10,5))\n",
    "ax.hist(x=params_accept[:], bins='auto', alpha=0.7, rwidth=0.85);\n",
    "ax.set_title(labels[0]);"
   ]
  },
  {
   "cell_type": "markdown",
   "metadata": {},
   "source": [
    "## Repeat for 2000 in a loop"
   ]
  },
  {
   "cell_type": "code",
   "execution_count": 29,
   "metadata": {},
   "outputs": [],
   "source": [
    "n_samples = 2000\n",
    "eps = 1"
   ]
  },
  {
   "cell_type": "code",
   "execution_count": 30,
   "metadata": {},
   "outputs": [],
   "source": [
    "params = prior_unif.gen(n_samples=n_samples)\n",
    "params_std = params.std()\n",
    "params_mean = params.mean()"
   ]
  },
  {
   "cell_type": "code",
   "execution_count": 31,
   "metadata": {},
   "outputs": [
    {
     "name": "stderr",
     "output_type": "stream",
     "text": [
      "100%|██████████| 2000/2000 [07:22<00:00,  4.52it/s]\n"
     ]
    }
   ],
   "source": [
    "norms = []\n",
    "\n",
    "for p in tqdm(params):\n",
    "    x_o = sim.gen_single(p)\n",
    "    y_obs = stats.calc([x_o])    \n",
    "    obs_zt = zscore(y_obs, axis=1)\n",
    "    dist_sum_stats = np.linalg.norm((sum_stats-obs_zt),axis=1)\n",
    "\n",
    "    norms.append(dist_sum_stats)"
   ]
  },
  {
   "cell_type": "code",
   "execution_count": 32,
   "metadata": {},
   "outputs": [
    {
     "data": {
      "image/png": "[encoded data removed]",
      "text/plain": [
       "<Figure size 432x288 with 1 Axes>"
      ]
     },
     "metadata": {},
     "output_type": "display_data"
    }
   ],
   "source": [
    "N5 = np.array(norms)\n",
    "plt.hist(x=N5, bins='auto', alpha=0.7, rwidth=0.85);"
   ]
  },
  {
   "cell_type": "markdown",
   "metadata": {},
   "source": [
    "## Sort the stuff"
   ]
  },
  {
   "cell_type": "code",
   "execution_count": 33,
   "metadata": {},
   "outputs": [],
   "source": [
    "scores = N5.transpose()[0]\n",
    "arg_sorted = np.argsort(scores)"
   ]
  },
  {
   "cell_type": "code",
   "execution_count": 34,
   "metadata": {},
   "outputs": [],
   "source": [
    "# rejection criterion\n",
    "percent_accept = 2\n",
    "percent_criterion = int(len(arg_sorted)*percent_accept/100)"
   ]
  },
  {
   "cell_type": "code",
   "execution_count": 35,
   "metadata": {},
   "outputs": [],
   "source": [
    "# rejection (or more positively, acceptance) of the z-scored parameters 'params' and inverse z-scoring of the accepted parameters\n",
    "params_accept = params[arg_sorted[0:percent_criterion],:]*params_std + params_mean\n",
    "# params_accept = params[arg_sorted[0:percent_criterion],:]\n",
    "params_accept = params[arg_sorted[0:percent_criterion],:]*params_mean + params_std"
   ]
  },
  {
   "cell_type": "code",
   "execution_count": 36,
   "metadata": {},
   "outputs": [
    {
     "data": {
      "image/png": "[encoded data removed]",
      "text/plain": [
       "<Figure size 720x360 with 1 Axes>"
      ]
     },
     "metadata": {},
     "output_type": "display_data"
    }
   ],
   "source": [
    "fig, ax = plt.subplots(1,1,figsize=(10,5))\n",
    "ax.hist(x=params_accept[:], bins='auto', alpha=0.7, rwidth=0.85);\n",
    "ax.set_title(labels[0]);"
   ]
  },
  {
   "cell_type": "code",
   "execution_count": 39,
   "metadata": {},
   "outputs": [
    {
     "data": {
      "image/png": "[encoded data removed]",
      "text/plain": [
       "<Figure size 432x288 with 1 Axes>"
      ]
     },
     "metadata": {},
     "output_type": "display_data"
    }
   ],
   "source": [
    "plt.scatter(params, scores)\n",
    "plt.xlabel('params')\n",
    "plt.ylabel('score');"
   ]
  },
  {
   "cell_type": "code",
   "execution_count": 43,
   "metadata": {},
   "outputs": [
    {
     "data": {
      "text/plain": [
       "array([[0.51720983],\n",
       "       [0.22671018],\n",
       "       [0.44857866],\n",
       "       ...,\n",
       "       [0.13718249],\n",
       "       [0.90826769],\n",
       "       [0.48146616]])"
      ]
     },
     "execution_count": 43,
     "metadata": {},
     "output_type": "execute_result"
    }
   ],
   "source": [
    "params"
   ]
  },
  {
   "cell_type": "code",
   "execution_count": 44,
   "metadata": {},
   "outputs": [
    {
     "data": {
      "text/plain": [
       "array([1.41842214, 1.30411685, 1.85954799, ..., 0.15594212, 1.58063624,\n",
       "       1.36025992])"
      ]
     },
     "execution_count": 44,
     "metadata": {},
     "output_type": "execute_result"
    }
   ],
   "source": [
    "scores"
   ]
  },
  {
   "cell_type": "code",
   "execution_count": 50,
   "metadata": {},
   "outputs": [
    {
     "data": {
      "image/png": "[encoded data removed]",
      "text/plain": [
       "<Figure size 432x288 with 1 Axes>"
      ]
     },
     "metadata": {},
     "output_type": "display_data"
    }
   ],
   "source": [
    "p = params[arg_sorted[0:percent_criterion],:]\n",
    "s = scores[arg_sorted[0:percent_criterion]]\n",
    "\n",
    "plt.scatter(p, s)\n",
    "plt.xlabel('params')\n",
    "plt.ylabel('score');"
   ]
  }
 ],
 "metadata": {
  "kernelspec": {
   "display_name": "Python 3",
   "language": "python",
   "name": "python3"
  },
  "language_info": {
   "codemirror_mode": {
    "name": "ipython",
    "version": 3
   },
   "file_extension": ".py",
   "mimetype": "text/x-python",
   "name": "python",
   "nbconvert_exporter": "python",
   "pygments_lexer": "ipython3",
   "version": "3.6.8"
  }
 },
 "nbformat": 4,
 "nbformat_minor": 2
}
