{
 "cells": [
  {
   "cell_type": "markdown",
   "metadata": {},
   "source": [
    "# Load parameteres with traces from CSV and calculate their features"
   ]
  },
  {
   "cell_type": "code",
   "execution_count": 1,
   "metadata": {},
   "outputs": [],
   "source": [
    "import os\n",
    "import glob\n",
    "import shutil\n",
    "import pandas as pd\n",
    "import numpy as np\n",
    "import matplotlib.pyplot as plt\n",
    "os.chdir('../')"
   ]
  },
  {
   "cell_type": "code",
   "execution_count": 56,
   "metadata": {},
   "outputs": [],
   "source": [
    "# from utils import calc_features_step, calc_ramp_sum_stats, find_spikes\n",
    "from utils import calc_ramp_sum_stats, find_spikes"
   ]
  },
  {
   "cell_type": "code",
   "execution_count": 2,
   "metadata": {},
   "outputs": [],
   "source": [
    "from dap import DAPcython\n",
    "from dap.utils import obs_params, load_current\n",
    "from tqdm import tqdm\n",
    "from scipy.spatial import distance"
   ]
  },
  {
   "cell_type": "code",
   "execution_count": null,
   "metadata": {},
   "outputs": [],
   "source": [
    "from utils import"
   ]
  },
  {
   "cell_type": "code",
   "execution_count": 3,
   "metadata": {},
   "outputs": [],
   "source": [
    "dt = 1e-2\n",
    "params, labels = obs_params(reduced_model=False)\n",
    "data_dir = '/home/alteska/Desktop/LFI_DAP/data/rawData/2015_08_26b.dat'"
   ]
  },
  {
   "cell_type": "code",
   "execution_count": 4,
   "metadata": {},
   "outputs": [],
   "source": [
    "# load the file\n",
    "directory = './parameters/'\n",
    "dir = glob.glob(directory + '*')"
   ]
  },
  {
   "cell_type": "code",
   "execution_count": 5,
   "metadata": {},
   "outputs": [],
   "source": [
    "fname_start = dir[0].find('dap_')\n",
    "fname_stop = dir[0].find('n_')\n",
    "fname = dir[0][fname_start:fname_stop] + '.csv'"
   ]
  },
  {
   "cell_type": "code",
   "execution_count": 6,
   "metadata": {},
   "outputs": [
    {
     "data": {
      "text/html": [
       "<div>\n",
       "<style scoped>\n",
       "    .dataframe tbody tr th:only-of-type {\n",
       "        vertical-align: middle;\n",
       "    }\n",
       "\n",
       "    .dataframe tbody tr th {\n",
       "        vertical-align: top;\n",
       "    }\n",
       "\n",
       "    .dataframe thead th {\n",
       "        text-align: right;\n",
       "    }\n",
       "</style>\n",
       "<table border=\"1\" class=\"dataframe\">\n",
       "  <thead>\n",
       "    <tr style=\"text-align: right;\">\n",
       "      <th></th>\n",
       "      <th>Unnamed: 0</th>\n",
       "      <th>gbar_nap</th>\n",
       "      <th>gbar_leak</th>\n",
       "      <th>gbar_nat</th>\n",
       "      <th>gbar_kdr</th>\n",
       "    </tr>\n",
       "  </thead>\n",
       "  <tbody>\n",
       "    <tr>\n",
       "      <th>0</th>\n",
       "      <td>1x14</td>\n",
       "      <td>17.173732</td>\n",
       "      <td>1.074666</td>\n",
       "      <td>131.422942</td>\n",
       "      <td>3.410514</td>\n",
       "    </tr>\n",
       "    <tr>\n",
       "      <th>1</th>\n",
       "      <td>1x35</td>\n",
       "      <td>17.097219</td>\n",
       "      <td>1.039869</td>\n",
       "      <td>117.684230</td>\n",
       "      <td>3.737484</td>\n",
       "    </tr>\n",
       "    <tr>\n",
       "      <th>2</th>\n",
       "      <td>1x9</td>\n",
       "      <td>19.007380</td>\n",
       "      <td>0.991425</td>\n",
       "      <td>95.365731</td>\n",
       "      <td>2.976070</td>\n",
       "    </tr>\n",
       "    <tr>\n",
       "      <th>3</th>\n",
       "      <td>1x19</td>\n",
       "      <td>16.370543</td>\n",
       "      <td>1.028504</td>\n",
       "      <td>141.774573</td>\n",
       "      <td>3.430032</td>\n",
       "    </tr>\n",
       "    <tr>\n",
       "      <th>4</th>\n",
       "      <td>1x24</td>\n",
       "      <td>15.153335</td>\n",
       "      <td>1.100184</td>\n",
       "      <td>163.721094</td>\n",
       "      <td>3.055541</td>\n",
       "    </tr>\n",
       "  </tbody>\n",
       "</table>\n",
       "</div>"
      ],
      "text/plain": [
       "  Unnamed: 0   gbar_nap  gbar_leak    gbar_nat  gbar_kdr\n",
       "0       1x14  17.173732   1.074666  131.422942  3.410514\n",
       "1       1x35  17.097219   1.039869  117.684230  3.737484\n",
       "2        1x9  19.007380   0.991425   95.365731  2.976070\n",
       "3       1x19  16.370543   1.028504  141.774573  3.430032\n",
       "4       1x24  15.153335   1.100184  163.721094  3.055541"
      ]
     },
     "execution_count": 6,
     "metadata": {},
     "output_type": "execute_result"
    }
   ],
   "source": [
    "df_param = pd.read_csv(fname)\n",
    "df_param.head()"
   ]
  },
  {
   "cell_type": "code",
   "execution_count": 7,
   "metadata": {},
   "outputs": [
    {
     "data": {
      "text/html": [
       "<div>\n",
       "<style scoped>\n",
       "    .dataframe tbody tr th:only-of-type {\n",
       "        vertical-align: middle;\n",
       "    }\n",
       "\n",
       "    .dataframe tbody tr th {\n",
       "        vertical-align: top;\n",
       "    }\n",
       "\n",
       "    .dataframe thead th {\n",
       "        text-align: right;\n",
       "    }\n",
       "</style>\n",
       "<table border=\"1\" class=\"dataframe\">\n",
       "  <thead>\n",
       "    <tr style=\"text-align: right;\">\n",
       "      <th></th>\n",
       "      <th>gbar_nap</th>\n",
       "      <th>gbar_leak</th>\n",
       "      <th>gbar_nat</th>\n",
       "      <th>gbar_kdr</th>\n",
       "    </tr>\n",
       "    <tr>\n",
       "      <th>Unnamed: 0</th>\n",
       "      <th></th>\n",
       "      <th></th>\n",
       "      <th></th>\n",
       "      <th></th>\n",
       "    </tr>\n",
       "  </thead>\n",
       "  <tbody>\n",
       "    <tr>\n",
       "      <th>1x14</th>\n",
       "      <td>17.173732</td>\n",
       "      <td>1.074666</td>\n",
       "      <td>131.422942</td>\n",
       "      <td>3.410514</td>\n",
       "    </tr>\n",
       "    <tr>\n",
       "      <th>1x35</th>\n",
       "      <td>17.097219</td>\n",
       "      <td>1.039869</td>\n",
       "      <td>117.684230</td>\n",
       "      <td>3.737484</td>\n",
       "    </tr>\n",
       "    <tr>\n",
       "      <th>1x9</th>\n",
       "      <td>19.007380</td>\n",
       "      <td>0.991425</td>\n",
       "      <td>95.365731</td>\n",
       "      <td>2.976070</td>\n",
       "    </tr>\n",
       "    <tr>\n",
       "      <th>1x19</th>\n",
       "      <td>16.370543</td>\n",
       "      <td>1.028504</td>\n",
       "      <td>141.774573</td>\n",
       "      <td>3.430032</td>\n",
       "    </tr>\n",
       "    <tr>\n",
       "      <th>1x24</th>\n",
       "      <td>15.153335</td>\n",
       "      <td>1.100184</td>\n",
       "      <td>163.721094</td>\n",
       "      <td>3.055541</td>\n",
       "    </tr>\n",
       "  </tbody>\n",
       "</table>\n",
       "</div>"
      ],
      "text/plain": [
       "             gbar_nap  gbar_leak    gbar_nat  gbar_kdr\n",
       "Unnamed: 0                                            \n",
       "1x14        17.173732   1.074666  131.422942  3.410514\n",
       "1x35        17.097219   1.039869  117.684230  3.737484\n",
       "1x9         19.007380   0.991425   95.365731  2.976070\n",
       "1x19        16.370543   1.028504  141.774573  3.430032\n",
       "1x24        15.153335   1.100184  163.721094  3.055541"
      ]
     },
     "execution_count": 7,
     "metadata": {},
     "output_type": "execute_result"
    }
   ],
   "source": [
    "df_param.set_index('Unnamed: 0', inplace=True)\n",
    "df_param.head()"
   ]
  },
  {
   "cell_type": "code",
   "execution_count": 8,
   "metadata": {},
   "outputs": [],
   "source": [
    "# calculate DAP\n",
    "# load the input data\n",
    "Ir, vr, tr, t_onr, t_offr, dtr = load_current(data_dir, protocol='rampIV', ramp_amp=3.1)\n",
    "Is, vs, ts, t_ons, t_offs, dts = load_current(data_dir, protocol='IV', ramp_amp=1)"
   ]
  },
  {
   "cell_type": "code",
   "execution_count": 9,
   "metadata": {},
   "outputs": [],
   "source": [
    "# define a model\n",
    "dap = DAPcython(-75, params)"
   ]
  },
  {
   "cell_type": "code",
   "execution_count": 10,
   "metadata": {},
   "outputs": [],
   "source": [
    "# run models on original parameters\n",
    "U_step = dap.simulate(dts, ts, Is)\n",
    "U_ramp = dap.simulate(dtr, tr, Ir)"
   ]
  },
  {
   "cell_type": "code",
   "execution_count": 11,
   "metadata": {},
   "outputs": [],
   "source": [
    "# calculate the similarities\n",
    "d_step = distance.euclidean(vs, U_step)\n",
    "d_ramp = distance.euclidean(vr, U_ramp)"
   ]
  },
  {
   "cell_type": "code",
   "execution_count": 13,
   "metadata": {},
   "outputs": [
    {
     "data": {
      "text/html": [
       "<div>\n",
       "<style scoped>\n",
       "    .dataframe tbody tr th:only-of-type {\n",
       "        vertical-align: middle;\n",
       "    }\n",
       "\n",
       "    .dataframe tbody tr th {\n",
       "        vertical-align: top;\n",
       "    }\n",
       "\n",
       "    .dataframe thead th {\n",
       "        text-align: right;\n",
       "    }\n",
       "</style>\n",
       "<table border=\"1\" class=\"dataframe\">\n",
       "  <thead>\n",
       "    <tr style=\"text-align: right;\">\n",
       "      <th>Unnamed: 0</th>\n",
       "      <th>1x14</th>\n",
       "      <th>1x35</th>\n",
       "      <th>1x9</th>\n",
       "      <th>1x19</th>\n",
       "      <th>1x24</th>\n",
       "      <th>1x16</th>\n",
       "      <th>1x31k</th>\n",
       "      <th>1x12</th>\n",
       "      <th>1x27</th>\n",
       "      <th>1x23</th>\n",
       "      <th>...</th>\n",
       "      <th>1x29</th>\n",
       "      <th>1x32</th>\n",
       "      <th>1x38</th>\n",
       "      <th>1x25</th>\n",
       "      <th>1x22</th>\n",
       "      <th>1x33</th>\n",
       "      <th>1x11k</th>\n",
       "      <th>1x21k</th>\n",
       "      <th>1x34</th>\n",
       "      <th>1x17</th>\n",
       "    </tr>\n",
       "  </thead>\n",
       "  <tbody>\n",
       "    <tr>\n",
       "      <th>gbar_nap</th>\n",
       "      <td>17.173732</td>\n",
       "      <td>17.097219</td>\n",
       "      <td>19.007380</td>\n",
       "      <td>16.370543</td>\n",
       "      <td>15.153335</td>\n",
       "      <td>16.515891</td>\n",
       "      <td>14.387062</td>\n",
       "      <td>16.183388</td>\n",
       "      <td>16.586714</td>\n",
       "      <td>18.934190</td>\n",
       "      <td>...</td>\n",
       "      <td>17.687560</td>\n",
       "      <td>16.339341</td>\n",
       "      <td>15.024635</td>\n",
       "      <td>16.749955</td>\n",
       "      <td>15.366489</td>\n",
       "      <td>18.050893</td>\n",
       "      <td>19.543175</td>\n",
       "      <td>16.077841</td>\n",
       "      <td>16.412064</td>\n",
       "      <td>16.126095</td>\n",
       "    </tr>\n",
       "    <tr>\n",
       "      <th>gbar_leak</th>\n",
       "      <td>1.074666</td>\n",
       "      <td>1.039869</td>\n",
       "      <td>0.991425</td>\n",
       "      <td>1.028504</td>\n",
       "      <td>1.100184</td>\n",
       "      <td>1.121755</td>\n",
       "      <td>1.093874</td>\n",
       "      <td>1.035868</td>\n",
       "      <td>1.046909</td>\n",
       "      <td>1.025682</td>\n",
       "      <td>...</td>\n",
       "      <td>1.071797</td>\n",
       "      <td>0.990389</td>\n",
       "      <td>1.095737</td>\n",
       "      <td>1.124608</td>\n",
       "      <td>1.031578</td>\n",
       "      <td>1.071510</td>\n",
       "      <td>1.085424</td>\n",
       "      <td>0.998721</td>\n",
       "      <td>1.044613</td>\n",
       "      <td>1.050323</td>\n",
       "    </tr>\n",
       "    <tr>\n",
       "      <th>gbar_nat</th>\n",
       "      <td>131.422942</td>\n",
       "      <td>117.684230</td>\n",
       "      <td>95.365731</td>\n",
       "      <td>141.774573</td>\n",
       "      <td>163.721094</td>\n",
       "      <td>120.139337</td>\n",
       "      <td>164.149919</td>\n",
       "      <td>108.916781</td>\n",
       "      <td>169.625743</td>\n",
       "      <td>115.465286</td>\n",
       "      <td>...</td>\n",
       "      <td>95.583603</td>\n",
       "      <td>153.130788</td>\n",
       "      <td>178.050132</td>\n",
       "      <td>118.796892</td>\n",
       "      <td>166.834822</td>\n",
       "      <td>113.726997</td>\n",
       "      <td>125.532725</td>\n",
       "      <td>141.340125</td>\n",
       "      <td>160.322308</td>\n",
       "      <td>115.380782</td>\n",
       "    </tr>\n",
       "    <tr>\n",
       "      <th>gbar_kdr</th>\n",
       "      <td>3.410514</td>\n",
       "      <td>3.737484</td>\n",
       "      <td>2.976070</td>\n",
       "      <td>3.430032</td>\n",
       "      <td>3.055541</td>\n",
       "      <td>3.414985</td>\n",
       "      <td>3.128166</td>\n",
       "      <td>2.994278</td>\n",
       "      <td>3.174331</td>\n",
       "      <td>3.194553</td>\n",
       "      <td>...</td>\n",
       "      <td>3.464703</td>\n",
       "      <td>3.134960</td>\n",
       "      <td>3.207311</td>\n",
       "      <td>3.086094</td>\n",
       "      <td>3.103938</td>\n",
       "      <td>3.787249</td>\n",
       "      <td>3.164570</td>\n",
       "      <td>3.846042</td>\n",
       "      <td>3.103724</td>\n",
       "      <td>3.335470</td>\n",
       "    </tr>\n",
       "  </tbody>\n",
       "</table>\n",
       "<p>4 rows × 34 columns</p>\n",
       "</div>"
      ],
      "text/plain": [
       "Unnamed: 0        1x14        1x35        1x9        1x19        1x24  \\\n",
       "gbar_nap     17.173732   17.097219  19.007380   16.370543   15.153335   \n",
       "gbar_leak     1.074666    1.039869   0.991425    1.028504    1.100184   \n",
       "gbar_nat    131.422942  117.684230  95.365731  141.774573  163.721094   \n",
       "gbar_kdr      3.410514    3.737484   2.976070    3.430032    3.055541   \n",
       "\n",
       "Unnamed: 0        1x16       1x31k        1x12        1x27        1x23  ...  \\\n",
       "gbar_nap     16.515891   14.387062   16.183388   16.586714   18.934190  ...   \n",
       "gbar_leak     1.121755    1.093874    1.035868    1.046909    1.025682  ...   \n",
       "gbar_nat    120.139337  164.149919  108.916781  169.625743  115.465286  ...   \n",
       "gbar_kdr      3.414985    3.128166    2.994278    3.174331    3.194553  ...   \n",
       "\n",
       "Unnamed: 0       1x29        1x32        1x38        1x25        1x22  \\\n",
       "gbar_nap    17.687560   16.339341   15.024635   16.749955   15.366489   \n",
       "gbar_leak    1.071797    0.990389    1.095737    1.124608    1.031578   \n",
       "gbar_nat    95.583603  153.130788  178.050132  118.796892  166.834822   \n",
       "gbar_kdr     3.464703    3.134960    3.207311    3.086094    3.103938   \n",
       "\n",
       "Unnamed: 0        1x33       1x11k       1x21k        1x34        1x17  \n",
       "gbar_nap     18.050893   19.543175   16.077841   16.412064   16.126095  \n",
       "gbar_leak     1.071510    1.085424    0.998721    1.044613    1.050323  \n",
       "gbar_nat    113.726997  125.532725  141.340125  160.322308  115.380782  \n",
       "gbar_kdr      3.787249    3.164570    3.846042    3.103724    3.335470  \n",
       "\n",
       "[4 rows x 34 columns]"
      ]
     },
     "execution_count": 13,
     "metadata": {},
     "output_type": "execute_result"
    }
   ],
   "source": [
    "# run for all cells and save into the the DF\n",
    "df_paramT = df_param.transpose()\n",
    "df_paramT.head()"
   ]
  },
  {
   "cell_type": "code",
   "execution_count": 20,
   "metadata": {},
   "outputs": [],
   "source": [
    "U_steps, U_ramps = [], []"
   ]
  },
  {
   "cell_type": "code",
   "execution_count": 33,
   "metadata": {},
   "outputs": [
    {
     "name": "stderr",
     "output_type": "stream",
     "text": [
      "34it [00:39,  1.14s/it]\n"
     ]
    }
   ],
   "source": [
    "for i, j in tqdm(df_param.iterrows()):\n",
    "    # get parameters\n",
    "    par_temp = j.values\n",
    "\n",
    "    # define a model\n",
    "    dap = DAPcython(-75, j)\n",
    "\n",
    "    # run model\n",
    "    U_step_x = dap.simulate(dts, ts, Is)\n",
    "    U_ramp_x = dap.simulate(dtr, tr, Ir)\n",
    "\n",
    "    # run model\n",
    "    U_steps.append(U_step_x)\n",
    "    U_ramps.append(U_ramp_x)\n",
    "\n",
    "    # calculate distance for both currents\n",
    "    dis_step = distance.euclidean(vs, U_step_x)\n",
    "    dis_ramp = distance.euclidean(vr, U_ramp_x)\n",
    "\n",
    "    # save into new columns\n",
    "    df_paramT.loc[i, 'distance_ramp'] = dis_ramp\n",
    "    df_paramT.loc[i, 'distance_step'] = dis_step\n",
    "    df_paramT.loc[i, 'distance_sum'] = dis_ramp + dis_step"
   ]
  },
  {
   "cell_type": "code",
   "execution_count": 35,
   "metadata": {},
   "outputs": [],
   "source": [
    "U_steps[0]"
   ]
  },
  {
   "cell_type": "code",
   "execution_count": 38,
   "metadata": {},
   "outputs": [
    {
     "data": {
      "text/plain": [
       "array([-69.09264538775403, 0.03299505873564305, 41,\n",
       "       array([252.25, 252.35, 262.15, 274.15, 286.6 , 299.15, 311.75, 324.4 ,\n",
       "       336.95, 349.55, 362.25, 374.95, 387.6 , 400.2 , 412.85, 425.5 ,\n",
       "       438.15, 450.85, 463.5 , 476.15, 488.8 , 501.5 , 514.2 , 526.9 ,\n",
       "       539.6 , 552.3 , 564.95, 577.7 , 590.35, 603.  , 615.65, 628.3 ,\n",
       "       640.9 , 653.6 , 666.2 , 678.9 , 691.55, 704.2 , 716.9 , 729.55,\n",
       "       742.25]),\n",
       "       82.0, 12.250000000000004, 1.9984994370777323], dtype=object)"
      ]
     },
     "execution_count": 38,
     "metadata": {},
     "output_type": "execute_result"
    }
   ],
   "source": [
    "stats = calc_features_step(U_steps[0], ts, dts, t_ons, t_offs)\n",
    "stats"
   ]
  },
  {
   "cell_type": "code",
   "execution_count": 51,
   "metadata": {},
   "outputs": [
    {
     "name": "stdout",
     "output_type": "stream",
     "text": [
      "[-75.01744904 -74.90108798 -74.79126475 ... -52.22251678 -52.22002466\n",
      " -52.2388784 ]\n"
     ]
    }
   ],
   "source": [
    "print(U_steps[15])"
   ]
  },
  {
   "cell_type": "code",
   "execution_count": 57,
   "metadata": {},
   "outputs": [],
   "source": [
    "def calc_features_step(U, t, dt, t_on, t_off):\n",
    "    v = U.copy()\n",
    "    N = v.shape[0]\n",
    "\n",
    "    # resting potential\n",
    "    rest_pot = np.mean(v[t<t_on])\n",
    "    rest_pot_std = np.std(v[int(.9*t_on/dt):int(t_on/dt)])  \n",
    " \n",
    "    ind = find_spikes(v)\n",
    "\n",
    "    spike_times = np.array(t)[ind]\n",
    "    spike_times_stim = spike_times[(spike_times > t_on)  & (spike_times < t_off)]\n",
    "    ind_stim1 = ind[(spike_times > t_on) & (spike_times < t_off)]\n",
    "    ind_stim = ind_stim1.astype(int)\n",
    "\n",
    "    firing_rate = 1e3*np.absolute(spike_times_stim.shape[0]/(t_off-t_on))\n",
    "    \n",
    "\n",
    "    print(spike_times_stim)\n",
    "    time_1st_spike = spike_times_stim[spike_times_stim>t_on][0]\n",
    "    ISI = np.diff(spike_times_stim).astype(float)\n",
    "\n",
    "    \n",
    "    sum_stats_vec = np.array([\n",
    "                rest_pot,\n",
    "                rest_pot_std,\n",
    "                len(spike_times_stim),\n",
    "                spike_times_stim,\n",
    "                firing_rate,\n",
    "                ISI.mean(),\n",
    "                ISI.std()\n",
    "                ])\n",
    "\n",
    "\n",
    "    return sum_stats_vec"
   ]
  },
  {
   "cell_type": "code",
   "execution_count": 58,
   "metadata": {},
   "outputs": [
    {
     "name": "stdout",
     "output_type": "stream",
     "text": [
      "0\n",
      "[252.25 252.35 262.15 274.15 286.6  299.15 311.75 324.4  336.95 349.55\n",
      " 362.25 374.95 387.6  400.2  412.85 425.5  438.15 450.85 463.5  476.15\n",
      " 488.8  501.5  514.2  526.9  539.6  552.3  564.95 577.7  590.35 603.\n",
      " 615.65 628.3  640.9  653.6  666.2  678.9  691.55 704.2  716.9  729.55\n",
      " 742.25]\n",
      "1\n",
      "[253.75]\n",
      "2\n",
      "[254.6  261.6  268.55 275.45 282.35 289.25 296.15 303.05 309.95 316.85\n",
      " 323.8  330.65 337.55 344.45 351.4  358.25 365.15 372.05 378.95 385.85\n",
      " 392.75 399.65 406.55 413.45 420.35 427.25 434.15 441.05 447.95 454.85\n",
      " 461.75 468.6  475.5  482.4  489.3  496.2  503.1  510.   516.9  523.8\n",
      " 530.7  537.6  544.5  551.4  558.3  565.2  572.1  579.   585.9  592.8\n",
      " 599.7  606.6  613.5  620.4  627.3  634.2  641.1  648.   654.9  661.8\n",
      " 668.7  675.6  682.5  689.4  696.3  703.2  710.1  717.   723.9  730.8\n",
      " 737.7  744.6 ]\n",
      "3\n",
      "[253.15 253.25 263.75 278.65 294.4  294.5  310.15 326.   341.8  357.6\n",
      " 373.5  389.45 389.55 405.3  421.25 437.2  437.3  453.05 469.   469.1\n",
      " 484.85 500.8  516.75 516.85 532.55 548.5  564.4  580.25 596.15 612.15\n",
      " 628.1  628.2  644.   660.   675.9  676.   691.75 691.85 707.55 723.45\n",
      " 739.45 739.55]\n",
      "4\n",
      "[253.   253.1  261.75 271.2  271.3  281.25 281.35 291.4  291.5  301.6\n",
      " 301.7  311.8  311.9  321.95 322.05 332.15 332.25 342.4  352.75 363.05\n",
      " 363.15 373.25 383.5  393.85 404.2  414.5  414.6  424.75 424.85 435.\n",
      " 445.3  445.4  455.55 455.65 465.75 465.85 476.   486.3  496.55 506.85\n",
      " 506.95 517.1  517.2  527.35 527.45 537.6  537.7  547.8  547.9  558.05\n",
      " 558.15 568.3  578.6  578.7  588.8  599.1  599.2  609.3  609.4  619.5\n",
      " 619.6  629.7  629.8  639.9  640.   650.15 650.25 660.45 660.55 670.65\n",
      " 680.95 681.05 691.15 691.25 701.35 701.45 711.5  711.6  721.7  732.\n",
      " 742.35]\n",
      "5\n",
      "[253.4  253.5  266.75 285.45 304.35 323.4  342.45 361.65 380.9  400.1\n",
      " 419.35 438.5  457.7  477.   496.2  515.35 534.5  553.65 572.75 591.85\n",
      " 611.   630.3  649.55 668.75 688.05 707.3  726.35 745.5 ]\n",
      "6\n",
      "[253.6  253.7  264.3  264.4  278.85 294.65 294.75 310.05 310.15 325.95\n",
      " 326.05 341.8  357.9  358.   373.55 389.6  389.7  405.55 405.65 421.5\n",
      " 421.6  437.55 453.65 453.75 469.55 469.65 485.3  485.4  501.   501.1\n",
      " 516.75 516.85 532.5  532.6  548.35 548.45 564.25 580.35 580.45 595.95\n",
      " 596.05 611.65 611.75 627.5  627.6  643.1  643.2  659.   659.1  674.7\n",
      " 690.75 690.85 706.85 706.95 722.7  722.8  738.7  738.8 ]\n",
      "7\n",
      "[252.3  261.55 271.85 282.35 292.9  303.55 314.2  324.8  335.45 346.1\n",
      " 356.75 367.45 378.15 388.8  399.45 410.15 420.8  431.45 442.1  452.75\n",
      " 463.4  474.05 484.7  495.4  506.05 516.75 527.45 538.1  548.75 559.4\n",
      " 570.1  580.75 591.4  602.05 612.7  623.4  634.05 644.65 655.3  665.95\n",
      " 676.6  687.25 697.95 708.6  719.25 729.9  740.6 ]\n",
      "8\n",
      "[251.1  251.2  259.15 267.35 275.6  275.7  283.85 283.95 292.05 292.15\n",
      " 300.25 308.5  308.6  316.7  316.8  324.95 325.05 333.15 333.25 341.35\n",
      " 349.6  349.7  357.85 357.95 366.1  374.35 374.45 382.6  390.85 390.95\n",
      " 399.05 407.3  407.4  415.55 415.65 423.8  423.9  432.05 440.3  440.4\n",
      " 448.5  448.6  456.7  456.8  464.95 473.2  481.45 481.55 489.65 489.75\n",
      " 497.85 497.95 506.1  514.35 514.45 522.55 522.65 530.75 539.05 547.3\n",
      " 547.4  555.55 563.8  563.9  572.   580.25 588.5  596.75 596.85 605.\n",
      " 613.25 621.5  621.6  629.75 629.85 638.   638.1  646.2  654.45 654.55\n",
      " 662.7  670.95 671.05 679.15 687.4  687.5  695.6  703.85 712.15 720.4\n",
      " 720.5  728.65 728.75 736.9  745.15 745.25]\n",
      "9\n",
      "[250.85 258.45 266.   273.45 280.9  288.3  295.75 303.15 310.6  318.05\n",
      " 325.5  332.9  340.35 347.75 355.2  362.65 370.1  377.55 384.95 392.35\n",
      " 399.8  407.25 414.7  422.15 429.6  437.   444.45 451.85 459.3  466.75\n",
      " 474.15 481.6  489.05 496.45 503.9  511.35 518.75 526.2  533.65 541.05\n",
      " 548.5  555.95 563.35 570.8  578.25 585.65 593.1  600.5  607.95 615.4\n",
      " 622.85 630.25 637.7  645.1  652.55 660.   667.4  674.85 682.3  689.7\n",
      " 697.15 704.6  712.   719.45 726.9  734.3  741.75 749.2 ]\n",
      "10\n",
      "[251.95]\n",
      "11\n",
      "[250.85 250.95 258.65 266.4  274.1  281.8  289.5  297.2  304.9  312.6\n",
      " 320.3  328.   335.7  343.4  351.1  358.8  366.5  374.15 381.9  389.55\n",
      " 397.25 397.35 404.95 412.65 420.35 428.05 435.75 435.85 443.45 451.1\n",
      " 458.8  466.5  474.2  481.9  489.6  497.3  505.   512.7  520.4  528.1\n",
      " 535.8  535.9  543.45 551.15 551.25 558.85 566.5  574.2  574.3  581.9\n",
      " 589.55 597.25 597.35 604.95 605.05 612.65 620.3  628.   635.7  635.8\n",
      " 643.4  651.1  658.8  666.45 674.15 674.25 681.85 689.5  697.2  704.9\n",
      " 712.6  720.25 727.95 728.05 735.65 735.75 743.3  743.4 ]\n",
      "12\n",
      "[254.15 254.25]\n",
      "13\n",
      "[]\n"
     ]
    },
    {
     "name": "stderr",
     "output_type": "stream",
     "text": [
      "/home/alteska/anaconda3/lib/python3.6/site-packages/ipykernel_launcher.py:29: RuntimeWarning: Mean of empty slice.\n"
     ]
    },
    {
     "ename": "IndexError",
     "evalue": "index 0 is out of bounds for axis 0 with size 0",
     "output_type": "error",
     "traceback": [
      "\u001b[0;31m---------------------------------------------------------------------------\u001b[0m",
      "\u001b[0;31mIndexError\u001b[0m                                Traceback (most recent call last)",
      "\u001b[0;32m<ipython-input-58-9438cb26e881>\u001b[0m in \u001b[0;36m<module>\u001b[0;34m\u001b[0m\n\u001b[1;32m      4\u001b[0m \u001b[0;32mfor\u001b[0m \u001b[0mi\u001b[0m\u001b[0;34m,\u001b[0m\u001b[0mu\u001b[0m \u001b[0;32min\u001b[0m \u001b[0menumerate\u001b[0m\u001b[0;34m(\u001b[0m\u001b[0mU_steps\u001b[0m\u001b[0;34m)\u001b[0m\u001b[0;34m:\u001b[0m\u001b[0;34m\u001b[0m\u001b[0;34m\u001b[0m\u001b[0m\n\u001b[1;32m      5\u001b[0m     \u001b[0mprint\u001b[0m\u001b[0;34m(\u001b[0m\u001b[0mi\u001b[0m\u001b[0;34m)\u001b[0m\u001b[0;34m\u001b[0m\u001b[0;34m\u001b[0m\u001b[0m\n\u001b[0;32m----> 6\u001b[0;31m     \u001b[0mstats\u001b[0m \u001b[0;34m=\u001b[0m \u001b[0mcalc_features_step\u001b[0m\u001b[0;34m(\u001b[0m\u001b[0mu\u001b[0m\u001b[0;34m,\u001b[0m \u001b[0mts\u001b[0m\u001b[0;34m,\u001b[0m \u001b[0mdts\u001b[0m\u001b[0;34m,\u001b[0m \u001b[0mt_ons\u001b[0m\u001b[0;34m,\u001b[0m \u001b[0mt_offs\u001b[0m\u001b[0;34m)\u001b[0m\u001b[0;34m\u001b[0m\u001b[0;34m\u001b[0m\u001b[0m\n\u001b[0m\u001b[1;32m      7\u001b[0m \u001b[0;31m#     stats_step.append(stats)\u001b[0m\u001b[0;34m\u001b[0m\u001b[0;34m\u001b[0m\u001b[0;34m\u001b[0m\u001b[0m\n",
      "\u001b[0;32m<ipython-input-57-1a582ff67699>\u001b[0m in \u001b[0;36mcalc_features_step\u001b[0;34m(U, t, dt, t_on, t_off)\u001b[0m\n\u001b[1;32m     16\u001b[0m \u001b[0;34m\u001b[0m\u001b[0m\n\u001b[1;32m     17\u001b[0m     \u001b[0mfiring_rate\u001b[0m \u001b[0;34m=\u001b[0m \u001b[0;36m1e3\u001b[0m\u001b[0;34m*\u001b[0m\u001b[0mnp\u001b[0m\u001b[0;34m.\u001b[0m\u001b[0mabsolute\u001b[0m\u001b[0;34m(\u001b[0m\u001b[0mspike_times_stim\u001b[0m\u001b[0;34m.\u001b[0m\u001b[0mshape\u001b[0m\u001b[0;34m[\u001b[0m\u001b[0;36m0\u001b[0m\u001b[0;34m]\u001b[0m\u001b[0;34m/\u001b[0m\u001b[0;34m(\u001b[0m\u001b[0mt_off\u001b[0m\u001b[0;34m-\u001b[0m\u001b[0mt_on\u001b[0m\u001b[0;34m)\u001b[0m\u001b[0;34m)\u001b[0m\u001b[0;34m\u001b[0m\u001b[0;34m\u001b[0m\u001b[0m\n\u001b[0;32m---> 18\u001b[0;31m     \u001b[0mtime_1st_spike\u001b[0m \u001b[0;34m=\u001b[0m \u001b[0mspike_times_stim\u001b[0m\u001b[0;34m[\u001b[0m\u001b[0mspike_times_stim\u001b[0m\u001b[0;34m>\u001b[0m\u001b[0mt_on\u001b[0m\u001b[0;34m]\u001b[0m\u001b[0;34m[\u001b[0m\u001b[0;36m0\u001b[0m\u001b[0;34m]\u001b[0m\u001b[0;34m\u001b[0m\u001b[0;34m\u001b[0m\u001b[0m\n\u001b[0m\u001b[1;32m     19\u001b[0m \u001b[0;34m\u001b[0m\u001b[0m\n\u001b[1;32m     20\u001b[0m     \u001b[0mISI\u001b[0m \u001b[0;34m=\u001b[0m \u001b[0mnp\u001b[0m\u001b[0;34m.\u001b[0m\u001b[0mdiff\u001b[0m\u001b[0;34m(\u001b[0m\u001b[0mspike_times_stim\u001b[0m\u001b[0;34m)\u001b[0m\u001b[0;34m.\u001b[0m\u001b[0mastype\u001b[0m\u001b[0;34m(\u001b[0m\u001b[0mfloat\u001b[0m\u001b[0;34m)\u001b[0m\u001b[0;34m\u001b[0m\u001b[0;34m\u001b[0m\u001b[0m\n",
      "\u001b[0;31mIndexError\u001b[0m: index 0 is out of bounds for axis 0 with size 0"
     ]
    }
   ],
   "source": [
    "stats_step = []\n",
    "\n",
    "\n",
    "for i,u in enumerate(U_steps):\n",
    "    print(i)\n",
    "    stats = calc_features_step(u, ts, dts, t_ons, t_offs)\n",
    "#     stats_step.append(stats)"
   ]
  },
  {
   "cell_type": "code",
   "execution_count": null,
   "metadata": {},
   "outputs": [],
   "source": [
    "# save the new data DataFrame\n",
    "# df_paramT.to_csv(fname[:-4] + '_similarity.csv')\n",
    "\n",
    "# remove the temp directory\n",
    "# shutil.rmtree(directory)"
   ]
  }
 ],
 "metadata": {
  "kernelspec": {
   "display_name": "Python 3",
   "language": "python",
   "name": "python3"
  },
  "language_info": {
   "codemirror_mode": {
    "name": "ipython",
    "version": 3
   },
   "file_extension": ".py",
   "mimetype": "text/x-python",
   "name": "python",
   "nbconvert_exporter": "python",
   "pygments_lexer": "ipython3",
   "version": "3.6.8"
  }
 },
 "nbformat": 4,
 "nbformat_minor": 2
}
