{
 "cells": [
  {
   "cell_type": "markdown",
   "metadata": {},
   "source": [
    "# Results Analysis - Use Old Summary Statistics and Similarity Measure "
   ]
  },
  {
   "cell_type": "code",
   "execution_count": 1,
   "metadata": {},
   "outputs": [],
   "source": [
    "import os\n",
    "import glob\n",
    "import shutil\n",
    "import pandas as pd\n",
    "import numpy as np\n",
    "import matplotlib.pyplot as plt\n",
    "os.chdir('../')"
   ]
  },
  {
   "cell_type": "code",
   "execution_count": 2,
   "metadata": {},
   "outputs": [],
   "source": [
    "from scipy.signal import argrelmin, argrelmax"
   ]
  },
  {
   "cell_type": "code",
   "execution_count": 3,
   "metadata": {},
   "outputs": [],
   "source": [
    "from dap import DAPcython\n",
    "from dap.utils import obs_params, load_current\n",
    "from tqdm import tqdm\n",
    "from scipy.spatial import distance"
   ]
  },
  {
   "cell_type": "markdown",
   "metadata": {},
   "source": [
    "### Set Parameters"
   ]
  },
  {
   "cell_type": "code",
   "execution_count": 4,
   "metadata": {},
   "outputs": [],
   "source": [
    "dt = 1e-2\n",
    "params, labels = obs_params(reduced_model=False)\n",
    "data_dir = '/home/alteska/Desktop/LFI_DAP/data/rawData/2015_08_26b.dat'"
   ]
  },
  {
   "cell_type": "markdown",
   "metadata": {},
   "source": [
    "### load the file"
   ]
  },
  {
   "cell_type": "code",
   "execution_count": 5,
   "metadata": {},
   "outputs": [],
   "source": [
    "# directory = './parameters/'\n",
    "# dir = glob.glob(directory + '*')\n",
    "\n",
    "# fname_start = dir[0].find('dap_')\n",
    "# fname_stop = dir[0].find('n_')\n",
    "# fname = dir[0][fname_start:fname_stop] + '.csv'\n",
    "\n",
    "# df_param = pd.read_csv(fname)"
   ]
  },
  {
   "cell_type": "code",
   "execution_count": 6,
   "metadata": {},
   "outputs": [],
   "source": [
    "df_param = pd.read_csv('dap_models_4_param_1x20.csv')"
   ]
  },
  {
   "cell_type": "markdown",
   "metadata": {},
   "source": [
    "### calculate DAP"
   ]
  },
  {
   "cell_type": "code",
   "execution_count": 7,
   "metadata": {},
   "outputs": [],
   "source": [
    "# load the input data\n",
    "Ir, vr, tr, t_onr, t_offr, dtr = load_current(data_dir, protocol='rampIV', ramp_amp=3.1)\n",
    "Is, vs, ts, t_ons, t_offs, dts = load_current(data_dir, protocol='IV', ramp_amp=1)\n",
    "\n",
    "# define a model\n",
    "dap = DAPcython(-75, params)"
   ]
  },
  {
   "cell_type": "code",
   "execution_count": 8,
   "metadata": {},
   "outputs": [],
   "source": [
    "# run models on original parameters\n",
    "U_step = dap.simulate(dts, ts, Is)\n",
    "U_ramp = dap.simulate(dtr, tr, Ir)"
   ]
  },
  {
   "cell_type": "markdown",
   "metadata": {},
   "source": [
    "### calculate the similarities"
   ]
  },
  {
   "cell_type": "code",
   "execution_count": 9,
   "metadata": {},
   "outputs": [
    {
     "data": {
      "text/plain": [
       "2650.3042379402655"
      ]
     },
     "execution_count": 9,
     "metadata": {},
     "output_type": "execute_result"
    }
   ],
   "source": [
    "d_step = distance.euclidean(vs, U_step)\n",
    "d_step"
   ]
  },
  {
   "cell_type": "code",
   "execution_count": 10,
   "metadata": {},
   "outputs": [
    {
     "data": {
      "text/plain": [
       "489.85195375666297"
      ]
     },
     "execution_count": 10,
     "metadata": {},
     "output_type": "execute_result"
    }
   ],
   "source": [
    "d_ramp = distance.euclidean(vr, U_ramp)\n",
    "d_ramp"
   ]
  },
  {
   "cell_type": "code",
   "execution_count": 11,
   "metadata": {},
   "outputs": [
    {
     "data": {
      "text/plain": [
       "3140.1561916969285"
      ]
     },
     "execution_count": 11,
     "metadata": {},
     "output_type": "execute_result"
    }
   ],
   "source": [
    "d_step+d_ramp"
   ]
  },
  {
   "cell_type": "markdown",
   "metadata": {},
   "source": [
    "### run for all cells and save into the the DF"
   ]
  },
  {
   "cell_type": "code",
   "execution_count": 12,
   "metadata": {},
   "outputs": [
    {
     "data": {
      "text/html": [
       "<div>\n",
       "<style scoped>\n",
       "    .dataframe tbody tr th:only-of-type {\n",
       "        vertical-align: middle;\n",
       "    }\n",
       "\n",
       "    .dataframe tbody tr th {\n",
       "        vertical-align: top;\n",
       "    }\n",
       "\n",
       "    .dataframe thead th {\n",
       "        text-align: right;\n",
       "    }\n",
       "</style>\n",
       "<table border=\"1\" class=\"dataframe\">\n",
       "  <thead>\n",
       "    <tr style=\"text-align: right;\">\n",
       "      <th></th>\n",
       "      <th>0</th>\n",
       "      <th>1</th>\n",
       "      <th>2</th>\n",
       "      <th>3</th>\n",
       "    </tr>\n",
       "  </thead>\n",
       "  <tbody>\n",
       "    <tr>\n",
       "      <th>Unnamed: 0</th>\n",
       "      <td>gbar_nap</td>\n",
       "      <td>gbar_leak</td>\n",
       "      <td>gbar_nat</td>\n",
       "      <td>gbar_kdr</td>\n",
       "    </tr>\n",
       "    <tr>\n",
       "      <th>1x14</th>\n",
       "      <td>17.1737</td>\n",
       "      <td>1.07467</td>\n",
       "      <td>131.423</td>\n",
       "      <td>3.41051</td>\n",
       "    </tr>\n",
       "    <tr>\n",
       "      <th>1x35</th>\n",
       "      <td>17.0972</td>\n",
       "      <td>1.03987</td>\n",
       "      <td>117.684</td>\n",
       "      <td>3.73748</td>\n",
       "    </tr>\n",
       "    <tr>\n",
       "      <th>1x9</th>\n",
       "      <td>19.0074</td>\n",
       "      <td>0.991425</td>\n",
       "      <td>95.3657</td>\n",
       "      <td>2.97607</td>\n",
       "    </tr>\n",
       "    <tr>\n",
       "      <th>1x19</th>\n",
       "      <td>16.3705</td>\n",
       "      <td>1.0285</td>\n",
       "      <td>141.775</td>\n",
       "      <td>3.43003</td>\n",
       "    </tr>\n",
       "  </tbody>\n",
       "</table>\n",
       "</div>"
      ],
      "text/plain": [
       "                   0          1         2         3\n",
       "Unnamed: 0  gbar_nap  gbar_leak  gbar_nat  gbar_kdr\n",
       "1x14         17.1737    1.07467   131.423   3.41051\n",
       "1x35         17.0972    1.03987   117.684   3.73748\n",
       "1x9          19.0074   0.991425   95.3657   2.97607\n",
       "1x19         16.3705     1.0285   141.775   3.43003"
      ]
     },
     "execution_count": 12,
     "metadata": {},
     "output_type": "execute_result"
    }
   ],
   "source": [
    "df_paramT = df_param.transpose()\n",
    "df_paramT.head()"
   ]
  },
  {
   "cell_type": "code",
   "execution_count": 13,
   "metadata": {},
   "outputs": [
    {
     "data": {
      "text/html": [
       "<div>\n",
       "<style scoped>\n",
       "    .dataframe tbody tr th:only-of-type {\n",
       "        vertical-align: middle;\n",
       "    }\n",
       "\n",
       "    .dataframe tbody tr th {\n",
       "        vertical-align: top;\n",
       "    }\n",
       "\n",
       "    .dataframe thead th {\n",
       "        text-align: right;\n",
       "    }\n",
       "</style>\n",
       "<table border=\"1\" class=\"dataframe\">\n",
       "  <thead>\n",
       "    <tr style=\"text-align: right;\">\n",
       "      <th></th>\n",
       "      <th>0</th>\n",
       "      <th>1</th>\n",
       "      <th>2</th>\n",
       "      <th>3</th>\n",
       "    </tr>\n",
       "  </thead>\n",
       "  <tbody>\n",
       "    <tr>\n",
       "      <th>1x14</th>\n",
       "      <td>17.1737</td>\n",
       "      <td>1.07467</td>\n",
       "      <td>131.423</td>\n",
       "      <td>3.41051</td>\n",
       "    </tr>\n",
       "    <tr>\n",
       "      <th>1x35</th>\n",
       "      <td>17.0972</td>\n",
       "      <td>1.03987</td>\n",
       "      <td>117.684</td>\n",
       "      <td>3.73748</td>\n",
       "    </tr>\n",
       "    <tr>\n",
       "      <th>1x9</th>\n",
       "      <td>19.0074</td>\n",
       "      <td>0.991425</td>\n",
       "      <td>95.3657</td>\n",
       "      <td>2.97607</td>\n",
       "    </tr>\n",
       "    <tr>\n",
       "      <th>1x19</th>\n",
       "      <td>16.3705</td>\n",
       "      <td>1.0285</td>\n",
       "      <td>141.775</td>\n",
       "      <td>3.43003</td>\n",
       "    </tr>\n",
       "    <tr>\n",
       "      <th>1x24</th>\n",
       "      <td>15.1533</td>\n",
       "      <td>1.10018</td>\n",
       "      <td>163.721</td>\n",
       "      <td>3.05554</td>\n",
       "    </tr>\n",
       "  </tbody>\n",
       "</table>\n",
       "</div>"
      ],
      "text/plain": [
       "            0         1        2        3\n",
       "1x14  17.1737   1.07467  131.423  3.41051\n",
       "1x35  17.0972   1.03987  117.684  3.73748\n",
       "1x9   19.0074  0.991425  95.3657  2.97607\n",
       "1x19  16.3705    1.0285  141.775  3.43003\n",
       "1x24  15.1533   1.10018  163.721  3.05554"
      ]
     },
     "execution_count": 13,
     "metadata": {},
     "output_type": "execute_result"
    }
   ],
   "source": [
    "df_paramT.drop('Unnamed: 0', inplace=True)\n",
    "df_paramT.head()"
   ]
  },
  {
   "cell_type": "code",
   "execution_count": 14,
   "metadata": {},
   "outputs": [
    {
     "name": "stderr",
     "output_type": "stream",
     "text": [
      "34it [01:09,  2.03s/it]\n"
     ]
    }
   ],
   "source": [
    "daps = []\n",
    "U_steps = []\n",
    "U_ramps = []\n",
    "\n",
    "for i, j in tqdm(df_paramT.iterrows()):\n",
    "    # get parameters\n",
    "    par_temp = j.values\n",
    "\n",
    "    # define a model\n",
    "    daps.append(DAPcython(-75, j))\n",
    "\n",
    "    # run model\n",
    "    U_steps.append(dap.simulate(dts, ts, Is))\n",
    "    U_ramps.append(dap.simulate(dtr, tr, Ir))"
   ]
  },
  {
   "cell_type": "markdown",
   "metadata": {},
   "source": [
    "## Calculating the features for each parameter"
   ]
  },
  {
   "cell_type": "code",
   "execution_count": 15,
   "metadata": {},
   "outputs": [],
   "source": [
    "def calc_ramp_sum_stats(v, t, dt, t_on, t_off):\n",
    "    \"\"\"Calculate summary statistics of a single run with ramp current(single spike with DAP)\"\"\"\n",
    "    stats = []\n",
    "    stats_idx = []\n",
    "#     v = v.transpose()\n",
    "    N = v.shape[0]\n",
    "\n",
    "    # resting potential\n",
    "    rest_pot = np.mean(v[t<t_on])\n",
    "    rest_pot_std = np.std(v[int(.9*t_on/dt):int(t_on/dt)])   # TODO: add if needed\n",
    "\n",
    "    # RMSE\n",
    "#     n = len(self.v0)\n",
    "#     rmse = np.linalg.norm(v - self.v0) / np.sqrt(n)\n",
    "\n",
    "    # more then one AP:\n",
    "    multiple_AP = np.shape(np.where(v > 0))[1]\n",
    "\n",
    "    #case without any action potential or more then one AP\n",
    "    if (np.all(v <= 20)):\n",
    "        AP_onsets = 999\n",
    "        AP_amp = 999\n",
    "        AP_width = 999\n",
    "        DAP_amp = 999\n",
    "        DAP_width = 999\n",
    "        DAP_deflection = 999\n",
    "        DAP_time = 999\n",
    "        mAHP = 999\n",
    "        fAHP = 999\n",
    "\n",
    "    else:\n",
    "        threshold = -30\n",
    "        # hyperpolarization after DAP\n",
    "        mAHP_idx = np.argmin(v)\n",
    "        mAHP = v[mAHP_idx]\n",
    "\n",
    "        # Action potential\n",
    "        AP_onsets = np.where(v > threshold)[0]\n",
    "        AP_start = AP_onsets[0]\n",
    "        AP_end = AP_onsets[-1]\n",
    "        AP_max_idx = AP_start + np.argmax(v[AP_start:AP_end])\n",
    "        AP_max = v[AP_max_idx]\n",
    "        AP_amp = AP_max - rest_pot\n",
    "\n",
    "        # AP width\n",
    "        AP_onsets_half_max = np.where(v > (AP_max+rest_pot)/2)[0]\n",
    "        AP_width = t[AP_onsets_half_max[-1]] - t[AP_onsets_half_max[0]]\n",
    "\n",
    "        # DAP: fAHP\n",
    "        v_dap = v[AP_max_idx:]\n",
    "\n",
    "        fAHP_idx = argrelmin(v[AP_max_idx:])[0][0] + AP_max_idx\n",
    "        fAHP = v[fAHP_idx]\n",
    "\n",
    "        # DAP amplitude\n",
    "        DAP_max_idx = argrelmax(v_dap)[0][1] + AP_max_idx\n",
    "        DAP_max = v[DAP_max_idx]\n",
    "        DAP_amp = DAP_max - rest_pot\n",
    "\n",
    "        DAP_deflection = DAP_amp - (fAHP - rest_pot)\n",
    "        DAP_time = t[DAP_max_idx] - t[AP_max_idx]    # Time between AP and DAP maximum\n",
    "\n",
    "        # Width of DAP: between fAHP and halfsize of fAHP after DAP max\n",
    "        vnorm = v[DAP_max_idx:] - rest_pot\n",
    "\n",
    "        if np.any((abs(vnorm) < abs(fAHP - rest_pot)/2)):\n",
    "            half_max = np.where((abs(vnorm) < abs(fAHP - rest_pot)/2))[0]\n",
    "\n",
    "            DAP_width_idx = DAP_max_idx + half_max[0]\n",
    "            DAP_width = (DAP_width_idx - fAHP_idx) * dt\n",
    "        else:\n",
    "            DAP_width = 999\n",
    "\n",
    "\n",
    "    sum_stats_vec = np.array([\n",
    "                    rest_pot,\n",
    "                    AP_amp,\n",
    "                    AP_width,\n",
    "                    fAHP,\n",
    "                    DAP_amp,\n",
    "                    DAP_width,\n",
    "                    DAP_deflection,\n",
    "                    DAP_time,\n",
    "                    mAHP,\n",
    "                    ])\n",
    "\n",
    "\n",
    "    return sum_stats_vec"
   ]
  },
  {
   "cell_type": "code",
   "execution_count": 16,
   "metadata": {},
   "outputs": [
    {
     "data": {
      "text/html": [
       "<div>\n",
       "<style scoped>\n",
       "    .dataframe tbody tr th:only-of-type {\n",
       "        vertical-align: middle;\n",
       "    }\n",
       "\n",
       "    .dataframe tbody tr th {\n",
       "        vertical-align: top;\n",
       "    }\n",
       "\n",
       "    .dataframe thead th {\n",
       "        text-align: right;\n",
       "    }\n",
       "</style>\n",
       "<table border=\"1\" class=\"dataframe\">\n",
       "  <thead>\n",
       "    <tr style=\"text-align: right;\">\n",
       "      <th></th>\n",
       "      <th>0</th>\n",
       "    </tr>\n",
       "  </thead>\n",
       "  <tbody>\n",
       "    <tr>\n",
       "      <th>0</th>\n",
       "      <td>-75.1333</td>\n",
       "    </tr>\n",
       "    <tr>\n",
       "      <th>1</th>\n",
       "      <td>[131.0904952028053]</td>\n",
       "    </tr>\n",
       "    <tr>\n",
       "      <th>2</th>\n",
       "      <td>0.75</td>\n",
       "    </tr>\n",
       "    <tr>\n",
       "      <th>3</th>\n",
       "      <td>[-64.53629526688441]</td>\n",
       "    </tr>\n",
       "    <tr>\n",
       "      <th>4</th>\n",
       "      <td>[10.550658548274896]</td>\n",
       "    </tr>\n",
       "    <tr>\n",
       "      <th>5</th>\n",
       "      <td>22.92</td>\n",
       "    </tr>\n",
       "    <tr>\n",
       "      <th>6</th>\n",
       "      <td>[-0.046336143448968414]</td>\n",
       "    </tr>\n",
       "    <tr>\n",
       "      <th>7</th>\n",
       "      <td>2.4</td>\n",
       "    </tr>\n",
       "    <tr>\n",
       "      <th>8</th>\n",
       "      <td>[-77.72183321671001]</td>\n",
       "    </tr>\n",
       "  </tbody>\n",
       "</table>\n",
       "</div>"
      ],
      "text/plain": [
       "                         0\n",
       "0                 -75.1333\n",
       "1      [131.0904952028053]\n",
       "2                     0.75\n",
       "3     [-64.53629526688441]\n",
       "4     [10.550658548274896]\n",
       "5                    22.92\n",
       "6  [-0.046336143448968414]\n",
       "7                      2.4\n",
       "8     [-77.72183321671001]"
      ]
     },
     "execution_count": 16,
     "metadata": {},
     "output_type": "execute_result"
    }
   ],
   "source": [
    "sim = calc_ramp_sum_stats(U_ramps[0], tr, dtr, t_onr, t_offr)\n",
    "pd.DataFrame(data=sim)"
   ]
  },
  {
   "cell_type": "markdown",
   "metadata": {},
   "source": [
    "## Features Step Current: Outside of The Function\n",
    "to pick required parameters"
   ]
  },
  {
   "cell_type": "code",
   "execution_count": 17,
   "metadata": {},
   "outputs": [
    {
     "data": {
      "text/plain": [
       "23000"
      ]
     },
     "execution_count": 17,
     "metadata": {},
     "output_type": "execute_result"
    }
   ],
   "source": [
    "t, dt, t_on, t_off = ts, dts, t_ons, t_offs\n",
    "v = U_steps[0].copy()\n",
    "\n",
    "stats = []\n",
    "\n",
    "N = v.shape[0]\n",
    "N"
   ]
  },
  {
   "cell_type": "code",
   "execution_count": 18,
   "metadata": {},
   "outputs": [
    {
     "data": {
      "image/png": "[encoded data removed]",
      "text/plain": [
       "<Figure size 1080x504 with 1 Axes>"
      ]
     },
     "metadata": {
      "needs_background": "light"
     },
     "output_type": "display_data"
    }
   ],
   "source": [
    "plt.figure(figsize=(15,7))\n",
    "plt.plot(U_steps[0]);"
   ]
  },
  {
   "cell_type": "markdown",
   "metadata": {},
   "source": [
    "### Get The spike indicies and times"
   ]
  },
  {
   "cell_type": "code",
   "execution_count": 19,
   "metadata": {},
   "outputs": [],
   "source": [
    "# put everything to -10 that is below -10 or has negative slope\n",
    "ind = np.where(v < -10)\n",
    "v[ind] = -10\n",
    "ind = np.where(np.diff(v) < 0)\n",
    "v[ind] = -10"
   ]
  },
  {
   "cell_type": "code",
   "execution_count": 20,
   "metadata": {},
   "outputs": [
    {
     "data": {
      "image/png": "[encoded data removed]",
      "text/plain": [
       "<Figure size 432x288 with 1 Axes>"
      ]
     },
     "metadata": {
      "needs_background": "light"
     },
     "output_type": "display_data"
    }
   ],
   "source": [
    "plt.plot(v);"
   ]
  },
  {
   "cell_type": "code",
   "execution_count": 21,
   "metadata": {},
   "outputs": [],
   "source": [
    "v = v.transpose()"
   ]
  },
  {
   "cell_type": "code",
   "execution_count": 22,
   "metadata": {},
   "outputs": [
    {
     "data": {
      "text/plain": [
       "array([[0., 0., 0., ..., 0., 0., 0.]])"
      ]
     },
     "execution_count": 22,
     "metadata": {},
     "output_type": "execute_result"
    }
   ],
   "source": [
    "np.diff(v)"
   ]
  },
  {
   "cell_type": "code",
   "execution_count": 23,
   "metadata": {},
   "outputs": [],
   "source": [
    "# remaining negative slopes are at spike peaks\n",
    "ind = np.where(np.diff(v) > 0)\n",
    "ind = ind[1]"
   ]
  },
  {
   "cell_type": "code",
   "execution_count": 24,
   "metadata": {},
   "outputs": [
    {
     "data": {
      "text/plain": [
       "array([ 5068,  5069,  5071,  5252,  5253,  5254,  5496,  5497,  5498,\n",
       "        5758,  5759,  6022,  6023,  6025,  6287,  6288,  6290,  6550,\n",
       "        6551,  6552,  6818,  6819,  6821,  7084,  7085,  7087,  7349,\n",
       "        7350,  7351,  7616,  7617,  7618,  7884,  7885,  7887,  8148,\n",
       "        8149,  8150,  8417,  8418,  8420,  8683,  8684,  8685,  8949,\n",
       "        8950,  8951,  9218,  9219,  9484,  9485,  9486,  9488,  9751,\n",
       "        9752,  9753, 10020, 10021, 10023, 10286, 10287, 10288, 10556,\n",
       "       10557, 10824, 10825, 10826, 11093, 11094, 11096, 11359, 11360,\n",
       "       11361, 11363, 11625, 11626, 11627, 11893, 11894, 12161, 12162,\n",
       "       12163, 12429, 12430, 12696, 12697, 12965, 12966, 12967, 13233,\n",
       "       13234, 13236, 13499, 13500, 13501, 13768, 13769, 13771, 14035,\n",
       "       14036, 14038, 14300, 14301, 14303, 14565, 14566, 14567, 14834,\n",
       "       14835, 14837])"
      ]
     },
     "execution_count": 24,
     "metadata": {},
     "output_type": "execute_result"
    }
   ],
   "source": [
    "# choose one spike time within close spike times\n",
    "ind1 = np.array(ind)\n",
    "ind1"
   ]
  },
  {
   "cell_type": "code",
   "execution_count": 25,
   "metadata": {},
   "outputs": [
    {
     "data": {
      "text/plain": [
       "array([253.4 , 253.45, 253.55, 262.6 , 262.65, 262.7 , 274.8 , 274.85,\n",
       "       274.9 , 287.9 , 287.95, 301.1 , 301.15, 301.25, 314.35, 314.4 ,\n",
       "       314.5 , 327.5 , 327.55, 327.6 , 340.9 , 340.95, 341.05, 354.2 ,\n",
       "       354.25, 354.35, 367.45, 367.5 , 367.55, 380.8 , 380.85, 380.9 ,\n",
       "       394.2 , 394.25, 394.35, 407.4 , 407.45, 407.5 , 420.85, 420.9 ,\n",
       "       421.  , 434.15, 434.2 , 434.25, 447.45, 447.5 , 447.55, 460.9 ,\n",
       "       460.95, 474.2 , 474.25, 474.3 , 474.4 , 487.55, 487.6 , 487.65,\n",
       "       501.  , 501.05, 501.15, 514.3 , 514.35, 514.4 , 527.8 , 527.85,\n",
       "       541.2 , 541.25, 541.3 , 554.65, 554.7 , 554.8 , 567.95, 568.  ,\n",
       "       568.05, 568.15, 581.25, 581.3 , 581.35, 594.65, 594.7 , 608.05,\n",
       "       608.1 , 608.15, 621.45, 621.5 , 634.8 , 634.85, 648.25, 648.3 ,\n",
       "       648.35, 661.65, 661.7 , 661.8 , 674.95, 675.  , 675.05, 688.4 ,\n",
       "       688.45, 688.55, 701.75, 701.8 , 701.9 , 715.  , 715.05, 715.15,\n",
       "       728.25, 728.3 , 728.35, 741.7 , 741.75, 741.85])"
      ]
     },
     "execution_count": 25,
     "metadata": {},
     "output_type": "execute_result"
    }
   ],
   "source": [
    "spike_times = np.array(t)[ind]\n",
    "spike_times"
   ]
  },
  {
   "cell_type": "code",
   "execution_count": 26,
   "metadata": {},
   "outputs": [
    {
     "data": {
      "text/plain": [
       "array([253.4 , 253.45, 253.55, 262.6 , 262.65, 262.7 , 274.8 , 274.85,\n",
       "       274.9 , 287.9 , 287.95, 301.1 , 301.15, 301.25, 314.35, 314.4 ,\n",
       "       314.5 , 327.5 , 327.55, 327.6 , 340.9 , 340.95, 341.05, 354.2 ,\n",
       "       354.25, 354.35, 367.45, 367.5 , 367.55, 380.8 , 380.85, 380.9 ,\n",
       "       394.2 , 394.25, 394.35, 407.4 , 407.45, 407.5 , 420.85, 420.9 ,\n",
       "       421.  , 434.15, 434.2 , 434.25, 447.45, 447.5 , 447.55, 460.9 ,\n",
       "       460.95, 474.2 , 474.25, 474.3 , 474.4 , 487.55, 487.6 , 487.65,\n",
       "       501.  , 501.05, 501.15, 514.3 , 514.35, 514.4 , 527.8 , 527.85,\n",
       "       541.2 , 541.25, 541.3 , 554.65, 554.7 , 554.8 , 567.95, 568.  ,\n",
       "       568.05, 568.15, 581.25, 581.3 , 581.35, 594.65, 594.7 , 608.05,\n",
       "       608.1 , 608.15, 621.45, 621.5 , 634.8 , 634.85, 648.25, 648.3 ,\n",
       "       648.35, 661.65, 661.7 , 661.8 , 674.95, 675.  , 675.05, 688.4 ,\n",
       "       688.45, 688.55, 701.75, 701.8 , 701.9 , 715.  , 715.05, 715.15,\n",
       "       728.25, 728.3 , 728.35, 741.7 , 741.75, 741.85])"
      ]
     },
     "execution_count": 26,
     "metadata": {},
     "output_type": "execute_result"
    }
   ],
   "source": [
    "spike_times_stim = spike_times[(spike_times > t_on) & (spike_times < t_off)]\n",
    "spike_times_stim"
   ]
  },
  {
   "cell_type": "code",
   "execution_count": 27,
   "metadata": {},
   "outputs": [
    {
     "data": {
      "text/plain": [
       "array([ 5068,  5069,  5071,  5252,  5253,  5254,  5496,  5497,  5498,\n",
       "        5758,  5759,  6022,  6023,  6025,  6287,  6288,  6290,  6550,\n",
       "        6551,  6552,  6818,  6819,  6821,  7084,  7085,  7087,  7349,\n",
       "        7350,  7351,  7616,  7617,  7618,  7884,  7885,  7887,  8148,\n",
       "        8149,  8150,  8417,  8418,  8420,  8683,  8684,  8685,  8949,\n",
       "        8950,  8951,  9218,  9219,  9484,  9485,  9486,  9488,  9751,\n",
       "        9752,  9753, 10020, 10021, 10023, 10286, 10287, 10288, 10556,\n",
       "       10557, 10824, 10825, 10826, 11093, 11094, 11096, 11359, 11360,\n",
       "       11361, 11363, 11625, 11626, 11627, 11893, 11894, 12161, 12162,\n",
       "       12163, 12429, 12430, 12696, 12697, 12965, 12966, 12967, 13233,\n",
       "       13234, 13236, 13499, 13500, 13501, 13768, 13769, 13771, 14035,\n",
       "       14036, 14038, 14300, 14301, 14303, 14565, 14566, 14567, 14834,\n",
       "       14835, 14837])"
      ]
     },
     "execution_count": 27,
     "metadata": {},
     "output_type": "execute_result"
    }
   ],
   "source": [
    "ind_stim1 = ind1[(spike_times > t_on) & (spike_times < t_off)]\n",
    "ind_stim1"
   ]
  },
  {
   "cell_type": "code",
   "execution_count": 28,
   "metadata": {},
   "outputs": [
    {
     "data": {
      "text/plain": [
       "array([ 5068,  5069,  5071,  5252,  5253,  5254,  5496,  5497,  5498,\n",
       "        5758,  5759,  6022,  6023,  6025,  6287,  6288,  6290,  6550,\n",
       "        6551,  6552,  6818,  6819,  6821,  7084,  7085,  7087,  7349,\n",
       "        7350,  7351,  7616,  7617,  7618,  7884,  7885,  7887,  8148,\n",
       "        8149,  8150,  8417,  8418,  8420,  8683,  8684,  8685,  8949,\n",
       "        8950,  8951,  9218,  9219,  9484,  9485,  9486,  9488,  9751,\n",
       "        9752,  9753, 10020, 10021, 10023, 10286, 10287, 10288, 10556,\n",
       "       10557, 10824, 10825, 10826, 11093, 11094, 11096, 11359, 11360,\n",
       "       11361, 11363, 11625, 11626, 11627, 11893, 11894, 12161, 12162,\n",
       "       12163, 12429, 12430, 12696, 12697, 12965, 12966, 12967, 13233,\n",
       "       13234, 13236, 13499, 13500, 13501, 13768, 13769, 13771, 14035,\n",
       "       14036, 14038, 14300, 14301, 14303, 14565, 14566, 14567, 14834,\n",
       "       14835, 14837])"
      ]
     },
     "execution_count": 28,
     "metadata": {},
     "output_type": "execute_result"
    }
   ],
   "source": [
    "# ind_stim1 = ind_stim1[np.append(1,np.diff(spike_times_stim))>0.5] # ??????????????????????\n",
    "ind_stim = ind_stim1.astype(int)\n",
    "ind_stim"
   ]
  },
  {
   "cell_type": "markdown",
   "metadata": {},
   "source": [
    "### firing rate"
   ]
  },
  {
   "cell_type": "code",
   "execution_count": 29,
   "metadata": {},
   "outputs": [],
   "source": [
    "firing_rate = 1e3*np.absolute(spike_times_stim.shape[0]/(t_off-t_on))\n",
    "\n",
    "time_1st_spike = spike_times_stim[spike_times_stim>t_on][0]"
   ]
  },
  {
   "cell_type": "markdown",
   "metadata": {},
   "source": [
    "### Average Spike Width and InterSpikeInterval"
   ]
  },
  {
   "cell_type": "code",
   "execution_count": 30,
   "metadata": {},
   "outputs": [],
   "source": [
    "if spike_times_stim.shape[0] == 1:\n",
    "    delta_ind_spik = np.round(t[(t>t_on) & (t<t_off)].shape[0]/2).astype(int)\n",
    "else:\n",
    "    ISI = np.diff(spike_times_stim).astype(float)\n",
    "    delta_ind_spik = np.round(np.min(ISI)/(2*dt)).astype(int)    "
   ]
  },
  {
   "cell_type": "code",
   "execution_count": 31,
   "metadata": {},
   "outputs": [
    {
     "data": {
      "text/plain": [
       "array([ 0.05,  0.1 ,  9.05,  0.05,  0.05, 12.1 ,  0.05,  0.05, 13.  ,\n",
       "        0.05, 13.15,  0.05,  0.1 , 13.1 ,  0.05,  0.1 , 13.  ,  0.05,\n",
       "        0.05, 13.3 ,  0.05,  0.1 , 13.15,  0.05,  0.1 , 13.1 ,  0.05,\n",
       "        0.05, 13.25,  0.05,  0.05, 13.3 ,  0.05,  0.1 , 13.05,  0.05,\n",
       "        0.05, 13.35,  0.05,  0.1 , 13.15,  0.05,  0.05, 13.2 ,  0.05,\n",
       "        0.05, 13.35,  0.05, 13.25,  0.05,  0.05,  0.1 , 13.15,  0.05,\n",
       "        0.05, 13.35,  0.05,  0.1 , 13.15,  0.05,  0.05, 13.4 ,  0.05,\n",
       "       13.35,  0.05,  0.05, 13.35,  0.05,  0.1 , 13.15,  0.05,  0.05,\n",
       "        0.1 , 13.1 ,  0.05,  0.05, 13.3 ,  0.05, 13.35,  0.05,  0.05,\n",
       "       13.3 ,  0.05, 13.3 ,  0.05, 13.4 ,  0.05,  0.05, 13.3 ,  0.05,\n",
       "        0.1 , 13.15,  0.05,  0.05, 13.35,  0.05,  0.1 , 13.2 ,  0.05,\n",
       "        0.1 , 13.1 ,  0.05,  0.1 , 13.1 ,  0.05,  0.05, 13.35,  0.05,\n",
       "        0.1 ])"
      ]
     },
     "execution_count": 31,
     "metadata": {},
     "output_type": "execute_result"
    }
   ],
   "source": [
    "ISI"
   ]
  },
  {
   "cell_type": "code",
   "execution_count": 32,
   "metadata": {},
   "outputs": [
    {
     "data": {
      "text/plain": [
       "0"
      ]
     },
     "execution_count": 32,
     "metadata": {},
     "output_type": "execute_result"
    }
   ],
   "source": [
    "delta_ind_spik"
   ]
  },
  {
   "cell_type": "code",
   "execution_count": 33,
   "metadata": {},
   "outputs": [
    {
     "data": {
      "text/plain": [
       "array([0.00000e+00, 5.00000e-02, 1.00000e-01, ..., 1.14985e+03,\n",
       "       1.14990e+03, 1.14995e+03])"
      ]
     },
     "execution_count": 33,
     "metadata": {},
     "output_type": "execute_result"
    }
   ],
   "source": [
    "t"
   ]
  },
  {
   "cell_type": "code",
   "execution_count": 34,
   "metadata": {},
   "outputs": [],
   "source": [
    "v=v.transpose()"
   ]
  },
  {
   "cell_type": "code",
   "execution_count": 35,
   "metadata": {},
   "outputs": [
    {
     "data": {
      "image/png": "[encoded data removed]",
      "text/plain": [
       "<Figure size 1080x504 with 1 Axes>"
      ]
     },
     "metadata": {
      "needs_background": "light"
     },
     "output_type": "display_data"
    }
   ],
   "source": [
    "plt.figure(figsize=(15,7))\n",
    "plt.plot(v);"
   ]
  },
  {
   "cell_type": "code",
   "execution_count": 36,
   "metadata": {},
   "outputs": [],
   "source": [
    "spike_width1 = np.zeros_like(spike_times_stim)\n",
    "for i_sp in range(spike_times_stim.shape[0]):\n",
    "    # voltages post-spike\n",
    "    x_isi = v[ind_stim[i_sp].astype(int):np.minimum(ind_stim[i_sp].astype(int)+delta_ind_spik,N)]\n",
    "    t_isi = t[ind_stim[i_sp].astype(int):np.minimum(ind_stim[i_sp].astype(int)+delta_ind_spik,N)]\n",
    "    \n",
    "#     print(x_isi)\n",
    "#     print(t_isi)\n",
    "    \n",
    "#     x_post = x_isi[0:np.maximum(np.argmin(x_isi),2)]\n",
    "#     t_post = t_isi[0:np.maximum(np.argmin(x_isi),2)]\n",
    "\n",
    "   \n",
    "#     # half-maximum voltage\n",
    "#     x_half_max = 0.5*(x_post[-1]+x_post[0])\n",
    "\n",
    "#     # voltages pre-spike\n",
    "#     x_pre = v[np.maximum(ind_stim[i_sp].astype(int)-delta_ind_spik,0):ind_stim[i_sp].astype(int)]\n",
    "#     t_pre = t[np.maximum(ind_stim[i_sp].astype(int)-delta_ind_spik,0):ind_stim[i_sp].astype(int)]\n",
    "\n",
    "#     spike_width1[i_sp] = t_post[np.argmin(np.absolute(x_post - x_half_max))]-t_pre[np.argmin(np.absolute(x_pre - x_half_max))]\n",
    "\n",
    "# spike_width = np.mean(spike_width1)"
   ]
  },
  {
   "cell_type": "code",
   "execution_count": 38,
   "metadata": {},
   "outputs": [],
   "source": [
    "# spike_width"
   ]
  },
  {
   "cell_type": "code",
   "execution_count": 39,
   "metadata": {},
   "outputs": [
    {
     "data": {
      "text/plain": [
       "array([250.05, 250.1 , 250.15, 250.2 , 250.25, 250.3 , 250.35, 250.4 ,\n",
       "       250.45, 250.5 , 250.55, 250.6 , 250.65, 250.7 , 250.75, 250.8 ,\n",
       "       250.85, 250.9 , 250.95, 251.  , 251.05, 251.1 , 251.15, 251.2 ,\n",
       "       251.25, 251.3 , 251.35, 251.4 , 251.45, 251.5 , 251.55, 251.6 ,\n",
       "       251.65, 251.7 , 251.75, 251.8 , 251.85, 251.9 , 251.95, 252.  ,\n",
       "       252.05, 252.1 , 252.15, 252.2 , 252.25, 252.3 , 252.35, 252.4 ,\n",
       "       252.45, 252.5 , 252.55, 252.6 , 252.65, 252.7 , 252.75, 252.8 ,\n",
       "       252.85, 252.9 , 252.95, 253.  , 253.05, 253.1 , 253.15, 253.2 ,\n",
       "       253.25, 253.3 , 253.35])"
      ]
     },
     "execution_count": 39,
     "metadata": {},
     "output_type": "execute_result"
    }
   ],
   "source": [
    "t_begin = t[(t>t_on) & (t<time_1st_spike)]\n",
    "v_begin = v[(t>t_on) & (t<time_1st_spike)]\n",
    "t_begin"
   ]
  },
  {
   "cell_type": "code",
   "execution_count": 40,
   "metadata": {},
   "outputs": [
    {
     "data": {
      "text/plain": [
       "array([[0., 0., 0., 0., 0., 0., 0., 0., 0., 0., 0., 0., 0., 0., 0., 0.,\n",
       "        0., 0., 0., 0., 0., 0., 0., 0., 0., 0., 0., 0., 0., 0., 0., 0.,\n",
       "        0., 0., 0., 0., 0., 0., 0., 0., 0., 0., 0., 0., 0., 0., 0., 0.,\n",
       "        0., 0., 0., 0., 0., 0., 0., 0., 0., 0., 0., 0., 0., 0., 0., 0.,\n",
       "        0.]])"
      ]
     },
     "execution_count": 40,
     "metadata": {},
     "output_type": "execute_result"
    }
   ],
   "source": [
    "np.diff(v_begin.transpose(), n=2)"
   ]
  },
  {
   "cell_type": "code",
   "execution_count": 41,
   "metadata": {},
   "outputs": [],
   "source": [
    "# latency from stimulus onset to first spike and mean action potential overshoot\n",
    "if t_begin.shape[0] == 0:\n",
    "    AP_latency = 10000\n",
    "    AP_overshoot_mn = np.max(v[(t > t_on) & (t < t_off)])\n",
    "elif t_begin.shape[0] == 1 or t_begin.shape[0] == 2:\n",
    "    AP_latency = np.absolute(t_begin[0])\n",
    "    AP_overshoot_mn = np.absolute(np.mean(v[ind_stim]))\n",
    "else:\n",
    "    AP_latency = np.absolute(t_begin[np.argmax(np.diff(v_begin.transpose(), n=2))])\n",
    "    AP_overshoot_mn = np.absolute(np.mean(v[ind_stim]))\n",
    "\n",
    "# resting potential mean and std\n",
    "rest_pot = np.mean(v[t<t_on])\n",
    "rest_pot_std = np.std(v[int(.9*t_on/dt):int(t_on/dt)])\n",
    "\n",
    "# ISI mean and std\n",
    "if spike_times_stim.shape[0] > 1:\n",
    "    ISImom = np.array([np.mean(ISI),np.std(ISI)])\n",
    "else:\n",
    "    ISImom = np.array([1000.]*2)\n",
    "ISI1 = np.array([1000.]*2)\n",
    "ISI1[0:np.maximum(0,spike_times_stim.shape[0]-1)] = ISImom[0:np.maximum(0,spike_times_stim.shape[0]-1)]\n"
   ]
  },
  {
   "cell_type": "code",
   "execution_count": null,
   "metadata": {},
   "outputs": [],
   "source": []
  },
  {
   "cell_type": "code",
   "execution_count": null,
   "metadata": {},
   "outputs": [],
   "source": []
  }
 ],
 "metadata": {
  "kernelspec": {
   "display_name": "dap_kernel",
   "language": "python",
   "name": "dap_kernel"
  },
  "language_info": {
   "codemirror_mode": {
    "name": "ipython",
    "version": 3
   },
   "file_extension": ".py",
   "mimetype": "text/x-python",
   "name": "python",
   "nbconvert_exporter": "python",
   "pygments_lexer": "ipython3",
   "version": "3.7.3"
  }
 },
 "nbformat": 4,
 "nbformat_minor": 2
}
