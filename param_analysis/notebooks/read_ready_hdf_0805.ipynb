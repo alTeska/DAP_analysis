{
 "cells": [
  {
   "cell_type": "markdown",
   "metadata": {},
   "source": [
    "# Read from HDF and viz "
   ]
  },
  {
   "cell_type": "code",
   "execution_count": 2,
   "metadata": {},
   "outputs": [],
   "source": [
    "import os\n",
    "import glob\n",
    "import shutil\n",
    "import pandas as pd\n",
    "import numpy as np\n",
    "import matplotlib.pyplot as plt\n",
    "os.chdir('../')"
   ]
  },
  {
   "cell_type": "code",
   "execution_count": 5,
   "metadata": {},
   "outputs": [],
   "source": [
    "# load the file\n",
    "fname = 'dap_models_4_param_1x20.hdf'\n",
    "\n",
    "df_steps = pd.read_hdf(fname, key='step_features')\n",
    "df_ramps = pd.read_hdf(fname, key='ramp_features')\n",
    "df_traces = pd.read_hdf(fname, key='param_traces')"
   ]
  },
  {
   "cell_type": "code",
   "execution_count": 8,
   "metadata": {},
   "outputs": [
    {
     "data": {
      "text/html": [
       "<div>\n",
       "<style scoped>\n",
       "    .dataframe tbody tr th:only-of-type {\n",
       "        vertical-align: middle;\n",
       "    }\n",
       "\n",
       "    .dataframe tbody tr th {\n",
       "        vertical-align: top;\n",
       "    }\n",
       "\n",
       "    .dataframe thead th {\n",
       "        text-align: right;\n",
       "    }\n",
       "</style>\n",
       "<table border=\"1\" class=\"dataframe\">\n",
       "  <thead>\n",
       "    <tr style=\"text-align: right;\">\n",
       "      <th></th>\n",
       "      <th>rest_pot</th>\n",
       "      <th>rest_pot_std</th>\n",
       "      <th>firing_rate</th>\n",
       "      <th>ISI_mean</th>\n",
       "      <th>ISI_std</th>\n",
       "      <th>spike_count</th>\n",
       "      <th>spike_times_stim</th>\n",
       "    </tr>\n",
       "    <tr>\n",
       "      <th>Unnamed: 0</th>\n",
       "      <th></th>\n",
       "      <th></th>\n",
       "      <th></th>\n",
       "      <th></th>\n",
       "      <th></th>\n",
       "      <th></th>\n",
       "      <th></th>\n",
       "    </tr>\n",
       "  </thead>\n",
       "  <tbody>\n",
       "    <tr>\n",
       "      <th>1x14</th>\n",
       "      <td>-69.123670</td>\n",
       "      <td>0.049919</td>\n",
       "      <td>82.0</td>\n",
       "      <td>12.245000</td>\n",
       "      <td>1.997398</td>\n",
       "      <td>41</td>\n",
       "      <td>[252.25000000000003, 252.35000000000002, 262.1...</td>\n",
       "    </tr>\n",
       "    <tr>\n",
       "      <th>1x35</th>\n",
       "      <td>-74.257956</td>\n",
       "      <td>0.038838</td>\n",
       "      <td>4.0</td>\n",
       "      <td>0.100000</td>\n",
       "      <td>0.000000</td>\n",
       "      <td>2</td>\n",
       "      <td>[253.70000000000005, 253.8]</td>\n",
       "    </tr>\n",
       "    <tr>\n",
       "      <th>1x9</th>\n",
       "      <td>-49.604905</td>\n",
       "      <td>23.303989</td>\n",
       "      <td>144.0</td>\n",
       "      <td>6.902113</td>\n",
       "      <td>0.029594</td>\n",
       "      <td>72</td>\n",
       "      <td>[254.6, 261.65, 268.6, 275.5, 282.400000000000...</td>\n",
       "    </tr>\n",
       "    <tr>\n",
       "      <th>1x19</th>\n",
       "      <td>-73.982741</td>\n",
       "      <td>0.039286</td>\n",
       "      <td>92.0</td>\n",
       "      <td>10.806667</td>\n",
       "      <td>7.232647</td>\n",
       "      <td>46</td>\n",
       "      <td>[253.14999999999998, 253.25000000000003, 264.1...</td>\n",
       "    </tr>\n",
       "    <tr>\n",
       "      <th>1x24</th>\n",
       "      <td>-74.880624</td>\n",
       "      <td>0.038309</td>\n",
       "      <td>170.0</td>\n",
       "      <td>5.870238</td>\n",
       "      <td>4.940757</td>\n",
       "      <td>85</td>\n",
       "      <td>[253.0, 253.1, 256.1, 264.7, 274.5, 284.6, 284...</td>\n",
       "    </tr>\n",
       "  </tbody>\n",
       "</table>\n",
       "</div>"
      ],
      "text/plain": [
       "             rest_pot  rest_pot_std  firing_rate   ISI_mean   ISI_std  \\\n",
       "Unnamed: 0                                                              \n",
       "1x14       -69.123670      0.049919         82.0  12.245000  1.997398   \n",
       "1x35       -74.257956      0.038838          4.0   0.100000  0.000000   \n",
       "1x9        -49.604905     23.303989        144.0   6.902113  0.029594   \n",
       "1x19       -73.982741      0.039286         92.0  10.806667  7.232647   \n",
       "1x24       -74.880624      0.038309        170.0   5.870238  4.940757   \n",
       "\n",
       "            spike_count                                   spike_times_stim  \n",
       "Unnamed: 0                                                                  \n",
       "1x14                 41  [252.25000000000003, 252.35000000000002, 262.1...  \n",
       "1x35                  2                        [253.70000000000005, 253.8]  \n",
       "1x9                  72  [254.6, 261.65, 268.6, 275.5, 282.400000000000...  \n",
       "1x19                 46  [253.14999999999998, 253.25000000000003, 264.1...  \n",
       "1x24                 85  [253.0, 253.1, 256.1, 264.7, 274.5, 284.6, 284...  "
      ]
     },
     "execution_count": 8,
     "metadata": {},
     "output_type": "execute_result"
    }
   ],
   "source": [
    "df_steps.head()"
   ]
  }
 ],
 "metadata": {
  "kernelspec": {
   "display_name": "dap_kernel",
   "language": "python",
   "name": "dap_kernel"
  },
  "language_info": {
   "codemirror_mode": {
    "name": "ipython",
    "version": 3
   },
   "file_extension": ".py",
   "mimetype": "text/x-python",
   "name": "python",
   "nbconvert_exporter": "python",
   "pygments_lexer": "ipython3",
   "version": "3.7.3"
  }
 },
 "nbformat": 4,
 "nbformat_minor": 2
}
