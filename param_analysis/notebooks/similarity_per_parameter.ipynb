{
 "cells": [
  {
   "cell_type": "markdown",
   "metadata": {},
   "source": [
    "# Similarity Per Parameter set Calculations"
   ]
  },
  {
   "cell_type": "code",
   "execution_count": 1,
   "metadata": {},
   "outputs": [],
   "source": [
    "import glob\n",
    "import shutil\n",
    "import pandas as pd\n",
    "from dap import DAPcython\n",
    "from dap.utils import obs_params, load_current\n",
    "from tqdm import tqdm\n",
    "from scipy.spatial import distance"
   ]
  },
  {
   "cell_type": "code",
   "execution_count": null,
   "metadata": {},
   "outputs": [],
   "source": [
    "import os\n",
    "os.chdir('../')"
   ]
  },
  {
   "cell_type": "code",
   "execution_count": 2,
   "metadata": {},
   "outputs": [],
   "source": [
    "dt = 1e-2\n",
    "params, labels = obs_params(reduced_model=False)\n",
    "data_dir = '/home/alteska/Desktop/LFI_DAP/data/rawData/2015_08_26b.dat'"
   ]
  },
  {
   "cell_type": "code",
   "execution_count": 3,
   "metadata": {},
   "outputs": [],
   "source": [
    "# load the file\n",
    "directory = './parameters/'\n",
    "dir = glob.glob(directory + '*')"
   ]
  },
  {
   "cell_type": "code",
   "execution_count": 4,
   "metadata": {},
   "outputs": [],
   "source": [
    "fname_start = dir[0].find('dap_')\n",
    "fname_stop = dir[0].find('n_')\n",
    "fname = dir[0][fname_start:fname_stop] + '.csv'\n",
    "\n",
    "df_param = pd.read_csv(fname)"
   ]
  },
  {
   "cell_type": "code",
   "execution_count": 5,
   "metadata": {},
   "outputs": [],
   "source": [
    "# calculate DAP\n",
    "# load the input data\n",
    "Ir, vr, tr, t_onr, t_offr, dtr = load_current(data_dir, protocol='rampIV', ramp_amp=3.1)\n",
    "Is, vs, ts, t_ons, t_offs, dts = load_current(data_dir, protocol='IV', ramp_amp=1)\n",
    "\n",
    "# define a model\n",
    "dap = DAPcython(-75, params)"
   ]
  },
  {
   "cell_type": "code",
   "execution_count": 6,
   "metadata": {},
   "outputs": [],
   "source": [
    "# run models on original parameters\n",
    "U_step = dap.simulate(dts, ts, Is)\n",
    "U_ramp = dap.simulate(dtr, tr, Ir)"
   ]
  },
  {
   "cell_type": "code",
   "execution_count": 13,
   "metadata": {},
   "outputs": [
    {
     "data": {
      "text/plain": [
       "2699.36325187886"
      ]
     },
     "execution_count": 13,
     "metadata": {},
     "output_type": "execute_result"
    }
   ],
   "source": [
    "# calculate the similarities\n",
    "d_step = distance.euclidean(vs, U_step)\n",
    "d_step"
   ]
  },
  {
   "cell_type": "code",
   "execution_count": 12,
   "metadata": {},
   "outputs": [
    {
     "data": {
      "text/plain": [
       "503.354576791061"
      ]
     },
     "execution_count": 12,
     "metadata": {},
     "output_type": "execute_result"
    }
   ],
   "source": [
    "d_ramp = distance.euclidean(vr, U_ramp)\n",
    "d_ramp"
   ]
  },
  {
   "cell_type": "code",
   "execution_count": 14,
   "metadata": {},
   "outputs": [
    {
     "data": {
      "text/plain": [
       "3202.717828669921"
      ]
     },
     "execution_count": 14,
     "metadata": {},
     "output_type": "execute_result"
    }
   ],
   "source": [
    "d_step+d_ramp"
   ]
  },
  {
   "cell_type": "code",
   "execution_count": 8,
   "metadata": {},
   "outputs": [
    {
     "data": {
      "text/html": [
       "<div>\n",
       "<style scoped>\n",
       "    .dataframe tbody tr th:only-of-type {\n",
       "        vertical-align: middle;\n",
       "    }\n",
       "\n",
       "    .dataframe tbody tr th {\n",
       "        vertical-align: top;\n",
       "    }\n",
       "\n",
       "    .dataframe thead th {\n",
       "        text-align: right;\n",
       "    }\n",
       "</style>\n",
       "<table border=\"1\" class=\"dataframe\">\n",
       "  <thead>\n",
       "    <tr style=\"text-align: right;\">\n",
       "      <th></th>\n",
       "      <th>0</th>\n",
       "      <th>1</th>\n",
       "      <th>2</th>\n",
       "      <th>3</th>\n",
       "    </tr>\n",
       "  </thead>\n",
       "  <tbody>\n",
       "    <tr>\n",
       "      <th>Unnamed: 0</th>\n",
       "      <td>gbar_nap</td>\n",
       "      <td>gbar_leak</td>\n",
       "      <td>gbar_nat</td>\n",
       "      <td>gbar_kdr</td>\n",
       "    </tr>\n",
       "    <tr>\n",
       "      <th>1x14</th>\n",
       "      <td>17.1737</td>\n",
       "      <td>1.07467</td>\n",
       "      <td>131.423</td>\n",
       "      <td>3.41051</td>\n",
       "    </tr>\n",
       "    <tr>\n",
       "      <th>1x35</th>\n",
       "      <td>17.0972</td>\n",
       "      <td>1.03987</td>\n",
       "      <td>117.684</td>\n",
       "      <td>3.73748</td>\n",
       "    </tr>\n",
       "    <tr>\n",
       "      <th>1x9</th>\n",
       "      <td>19.0074</td>\n",
       "      <td>0.991425</td>\n",
       "      <td>95.3657</td>\n",
       "      <td>2.97607</td>\n",
       "    </tr>\n",
       "    <tr>\n",
       "      <th>1x19</th>\n",
       "      <td>16.3705</td>\n",
       "      <td>1.0285</td>\n",
       "      <td>141.775</td>\n",
       "      <td>3.43003</td>\n",
       "    </tr>\n",
       "  </tbody>\n",
       "</table>\n",
       "</div>"
      ],
      "text/plain": [
       "                   0          1         2         3\n",
       "Unnamed: 0  gbar_nap  gbar_leak  gbar_nat  gbar_kdr\n",
       "1x14         17.1737    1.07467   131.423   3.41051\n",
       "1x35         17.0972    1.03987   117.684   3.73748\n",
       "1x9          19.0074   0.991425   95.3657   2.97607\n",
       "1x19         16.3705     1.0285   141.775   3.43003"
      ]
     },
     "execution_count": 8,
     "metadata": {},
     "output_type": "execute_result"
    }
   ],
   "source": [
    "# run for all cells and save into the the DF\n",
    "df_paramT = df_param.transpose()\n",
    "df_paramT.head()"
   ]
  },
  {
   "cell_type": "code",
   "execution_count": 9,
   "metadata": {},
   "outputs": [
    {
     "data": {
      "text/html": [
       "<div>\n",
       "<style scoped>\n",
       "    .dataframe tbody tr th:only-of-type {\n",
       "        vertical-align: middle;\n",
       "    }\n",
       "\n",
       "    .dataframe tbody tr th {\n",
       "        vertical-align: top;\n",
       "    }\n",
       "\n",
       "    .dataframe thead th {\n",
       "        text-align: right;\n",
       "    }\n",
       "</style>\n",
       "<table border=\"1\" class=\"dataframe\">\n",
       "  <thead>\n",
       "    <tr style=\"text-align: right;\">\n",
       "      <th></th>\n",
       "      <th>0</th>\n",
       "      <th>1</th>\n",
       "      <th>2</th>\n",
       "      <th>3</th>\n",
       "    </tr>\n",
       "  </thead>\n",
       "  <tbody>\n",
       "    <tr>\n",
       "      <th>1x14</th>\n",
       "      <td>17.1737</td>\n",
       "      <td>1.07467</td>\n",
       "      <td>131.423</td>\n",
       "      <td>3.41051</td>\n",
       "    </tr>\n",
       "    <tr>\n",
       "      <th>1x35</th>\n",
       "      <td>17.0972</td>\n",
       "      <td>1.03987</td>\n",
       "      <td>117.684</td>\n",
       "      <td>3.73748</td>\n",
       "    </tr>\n",
       "    <tr>\n",
       "      <th>1x9</th>\n",
       "      <td>19.0074</td>\n",
       "      <td>0.991425</td>\n",
       "      <td>95.3657</td>\n",
       "      <td>2.97607</td>\n",
       "    </tr>\n",
       "    <tr>\n",
       "      <th>1x19</th>\n",
       "      <td>16.3705</td>\n",
       "      <td>1.0285</td>\n",
       "      <td>141.775</td>\n",
       "      <td>3.43003</td>\n",
       "    </tr>\n",
       "    <tr>\n",
       "      <th>1x24</th>\n",
       "      <td>15.1533</td>\n",
       "      <td>1.10018</td>\n",
       "      <td>163.721</td>\n",
       "      <td>3.05554</td>\n",
       "    </tr>\n",
       "  </tbody>\n",
       "</table>\n",
       "</div>"
      ],
      "text/plain": [
       "            0         1        2        3\n",
       "1x14  17.1737   1.07467  131.423  3.41051\n",
       "1x35  17.0972   1.03987  117.684  3.73748\n",
       "1x9   19.0074  0.991425  95.3657  2.97607\n",
       "1x19  16.3705    1.0285  141.775  3.43003\n",
       "1x24  15.1533   1.10018  163.721  3.05554"
      ]
     },
     "execution_count": 9,
     "metadata": {},
     "output_type": "execute_result"
    }
   ],
   "source": [
    "df_paramT.drop('Unnamed: 0', inplace=True)\n",
    "df_paramT.head()"
   ]
  },
  {
   "cell_type": "code",
   "execution_count": 10,
   "metadata": {},
   "outputs": [
    {
     "name": "stderr",
     "output_type": "stream",
     "text": [
      "34it [00:00, 3593.37it/s]"
     ]
    },
    {
     "name": "stdout",
     "output_type": "stream",
     "text": [
      "[17.17373165830238 1.0746656390459317 131.42294160134227 3.410513693315566]\n",
      "[17.097218725893402 1.0398685282458358 117.68422996045706\n",
      " 3.737484012824088]\n",
      "[19.007379625846454 0.9914247812585802 95.36573095222616 2.976070246356468]\n",
      "[16.370542944176396 1.0285044203791625 141.77457317459502\n",
      " 3.4300320685043664]\n",
      "[15.15333474426479 1.1001843946128176 163.72109414916417 3.055540649117644]\n",
      "[16.51589092744879 1.1217549093033687 120.13933653900406 3.414984528678401]\n",
      "[14.387061714904222 1.0938739837995843 164.14991852028754\n",
      " 3.1281664057193974]\n",
      "[16.183387753341865 1.0358684546896884 108.91678074546587\n",
      " 2.9942777815645263]\n",
      "[16.586714040113748 1.0469091967844906 169.62574312814826 3.17433147230534]\n",
      "[18.934190084574553 1.0256818301902488 115.46528640453613\n",
      " 3.1945525210692467]\n",
      "[19.11305080821854 1.1346109550143262 53.6393994945139 3.220647187680138]\n",
      "[16.884771042925188 1.0720373765927735 158.74480350537937\n",
      " 3.113928039541624]\n",
      "[16.041616357273462 1.0329686846283668 117.14503040978228\n",
      " 3.526240659997352]\n",
      "[13.530289884851722 1.2372134712156255 14.69079416986797 1.84808180350847]\n",
      "[17.11043949343459 1.0613735867634655 122.2240574136253 3.5294612699200045]\n",
      "[16.543604426909994 0.4288715556663529 12.798673349682266\n",
      " 2.069493723951898]\n",
      "[17.138812020545682 1.01865215414897 102.8387321661551 3.441272765856924]\n",
      "[18.91970690796745 1.0698613399715906 89.98923246063511 3.855742422451607]\n",
      "[16.42225786699909 1.0258430355909005 147.32780548502728\n",
      " 3.6311408630127673]\n",
      "[16.90263865514906 1.0842249423428914 118.18822078554888\n",
      " 3.5196915329640874]\n",
      "[16.586808406774033 1.0462493407154076 125.77953198590885\n",
      " 3.455369325168218]\n",
      "[19.076895584426815 0.994701202197336 34.40207691660302 2.9658030203106485]\n",
      "[16.547376118880987 1.095794621732496 150.66083142689646 3.403878472459314]\n",
      "[18.434825006590387 0.9464428373714928 22.697625674400648\n",
      " 3.3364699330959664]\n",
      "[17.68756034723681 1.0717973342733866 95.58360294779524 3.464702575438223]\n",
      "[16.339341348801977 0.9903892136237552 153.13078836087655\n",
      " 3.1349598880885527]\n",
      "[15.024634711590526 1.0957369629114193 178.0501324982024\n",
      " 3.2073111632257305]\n",
      "[16.749955472158266 1.1246076209889395 118.79689160836293\n",
      " 3.0860938899576467]\n",
      "[15.36648929508807 1.03157754639889 166.8348220731603 3.1039376935111247]\n",
      "[18.050893372186323 1.0715098307528028 113.72699686224043\n",
      " 3.787248766273291]\n",
      "[19.543175040738586 1.085423524678773 125.53272543285246\n",
      " 3.1645704265935684]\n",
      "[16.077840910203115 0.9987209696467696 141.34012547636706\n",
      " 3.846042050055708]\n",
      "[16.4120636141781 1.0446126215378932 160.322307891236 3.1037237021669046]\n",
      "[16.126094574384314 1.0503225714234334 115.38078195898586\n",
      " 3.3354703436053965]\n"
     ]
    },
    {
     "name": "stderr",
     "output_type": "stream",
     "text": [
      "\n"
     ]
    }
   ],
   "source": [
    "for i, j in tqdm(df_paramT.iterrows()):\n",
    "    # get parameters\n",
    "    par_temp = j.values\n",
    "\n",
    "    print(par_temp)"
   ]
  },
  {
   "cell_type": "code",
   "execution_count": 11,
   "metadata": {},
   "outputs": [
    {
     "name": "stderr",
     "output_type": "stream",
     "text": [
      "0it [00:00, ?it/s]"
     ]
    },
    {
     "name": "stdout",
     "output_type": "stream",
     "text": [
      "['gbar_nap' 17.17373165830238 17.097218725893402 19.007379625846454\n",
      " 16.370542944176396 15.15333474426479 16.51589092744879 14.387061714904222\n",
      " 16.183387753341865 16.586714040113748 18.934190084574553\n",
      " 19.11305080821854 16.884771042925188 16.041616357273462\n",
      " 13.530289884851722 17.11043949343459 16.543604426909994\n",
      " 17.138812020545682 18.91970690796745 16.42225786699909 16.90263865514906\n",
      " 16.586808406774033 19.076895584426815 16.547376118880987\n",
      " 18.434825006590387 17.68756034723681 16.339341348801977\n",
      " 15.024634711590526 16.749955472158266 15.36648929508807\n",
      " 18.050893372186323 19.543175040738586 16.077840910203115 16.4120636141781\n",
      " 16.126094574384314]\n"
     ]
    },
    {
     "name": "stderr",
     "output_type": "stream",
     "text": [
      "\n"
     ]
    },
    {
     "ename": "ValueError",
     "evalue": "You can only provide 1, 2, 3, 4, 5 or 11 parameters!",
     "output_type": "error",
     "traceback": [
      "\u001b[0;31m---------------------------------------------------------------------------\u001b[0m",
      "\u001b[0;31mValueError\u001b[0m                                Traceback (most recent call last)",
      "\u001b[0;32m<ipython-input-11-e2a06ee0d6ff>\u001b[0m in \u001b[0;36m<module>\u001b[0;34m\u001b[0m\n\u001b[1;32m      9\u001b[0m \u001b[0;34m\u001b[0m\u001b[0m\n\u001b[1;32m     10\u001b[0m     \u001b[0;31m# run model\u001b[0m\u001b[0;34m\u001b[0m\u001b[0;34m\u001b[0m\u001b[0;34m\u001b[0m\u001b[0m\n\u001b[0;32m---> 11\u001b[0;31m     \u001b[0mU_step_x\u001b[0m \u001b[0;34m=\u001b[0m \u001b[0mdap\u001b[0m\u001b[0;34m.\u001b[0m\u001b[0msimulate\u001b[0m\u001b[0;34m(\u001b[0m\u001b[0mdts\u001b[0m\u001b[0;34m,\u001b[0m \u001b[0mts\u001b[0m\u001b[0;34m,\u001b[0m \u001b[0mIs\u001b[0m\u001b[0;34m)\u001b[0m\u001b[0;34m\u001b[0m\u001b[0;34m\u001b[0m\u001b[0m\n\u001b[0m\u001b[1;32m     12\u001b[0m     \u001b[0mU_ramp_x\u001b[0m \u001b[0;34m=\u001b[0m \u001b[0mdap\u001b[0m\u001b[0;34m.\u001b[0m\u001b[0msimulate\u001b[0m\u001b[0;34m(\u001b[0m\u001b[0mdtr\u001b[0m\u001b[0;34m,\u001b[0m \u001b[0mtr\u001b[0m\u001b[0;34m,\u001b[0m \u001b[0mIr\u001b[0m\u001b[0;34m)\u001b[0m\u001b[0;34m\u001b[0m\u001b[0;34m\u001b[0m\u001b[0m\n\u001b[1;32m     13\u001b[0m \u001b[0;34m\u001b[0m\u001b[0m\n",
      "\u001b[0;32m~/Desktop/LFI_DAP/DAPmodel/dap/dap_cyth.py\u001b[0m in \u001b[0;36msimulate\u001b[0;34m(self, dt, t, i_inj, channels, noise, noise_fact)\u001b[0m\n\u001b[1;32m     42\u001b[0m     \u001b[0;32mdef\u001b[0m \u001b[0msimulate\u001b[0m\u001b[0;34m(\u001b[0m\u001b[0mself\u001b[0m\u001b[0;34m,\u001b[0m \u001b[0mdt\u001b[0m\u001b[0;34m,\u001b[0m \u001b[0mt\u001b[0m\u001b[0;34m,\u001b[0m \u001b[0mi_inj\u001b[0m\u001b[0;34m,\u001b[0m \u001b[0mchannels\u001b[0m\u001b[0;34m=\u001b[0m\u001b[0;32mFalse\u001b[0m\u001b[0;34m,\u001b[0m \u001b[0mnoise\u001b[0m\u001b[0;34m=\u001b[0m\u001b[0;32mTrue\u001b[0m\u001b[0;34m,\u001b[0m \u001b[0mnoise_fact\u001b[0m\u001b[0;34m=\u001b[0m\u001b[0;36m1e-2\u001b[0m\u001b[0;34m)\u001b[0m\u001b[0;34m:\u001b[0m\u001b[0;34m\u001b[0m\u001b[0;34m\u001b[0m\u001b[0m\n\u001b[1;32m     43\u001b[0m         \u001b[0;34m\"\"\"Run simulation of DAP model given the injection current - CYTHON\"\"\"\u001b[0m\u001b[0;34m\u001b[0m\u001b[0;34m\u001b[0m\u001b[0m\n\u001b[0;32m---> 44\u001b[0;31m         \u001b[0mself\u001b[0m\u001b[0;34m.\u001b[0m\u001b[0msetparams\u001b[0m\u001b[0;34m(\u001b[0m\u001b[0mself\u001b[0m\u001b[0;34m.\u001b[0m\u001b[0mparams\u001b[0m\u001b[0;34m)\u001b[0m\u001b[0;34m\u001b[0m\u001b[0;34m\u001b[0m\u001b[0m\n\u001b[0m\u001b[1;32m     45\u001b[0m         \u001b[0mself\u001b[0m\u001b[0;34m.\u001b[0m\u001b[0msetnoisefactor\u001b[0m\u001b[0;34m(\u001b[0m\u001b[0mnoise_fact\u001b[0m\u001b[0;34m)\u001b[0m\u001b[0;34m\u001b[0m\u001b[0;34m\u001b[0m\u001b[0m\n\u001b[1;32m     46\u001b[0m \u001b[0;34m\u001b[0m\u001b[0m\n",
      "\u001b[0;32m~/Desktop/LFI_DAP/DAPmodel/dap/dap_cython_be.pyx\u001b[0m in \u001b[0;36mdap.dap_cython_be.setparams\u001b[0;34m()\u001b[0m\n",
      "\u001b[0;31mValueError\u001b[0m: You can only provide 1, 2, 3, 4, 5 or 11 parameters!"
     ]
    }
   ],
   "source": [
    "for i, j in tqdm(df_param.iterrows()):\n",
    "    # get parameters\n",
    "    par_temp = j.values\n",
    "\n",
    "    print(par_temp)\n",
    "\n",
    "    # define a model\n",
    "    dap = DAPcython(-75, j)\n",
    "\n",
    "    # run model\n",
    "    U_step_x = dap.simulate(dts, ts, Is)\n",
    "    U_ramp_x = dap.simulate(dtr, tr, Ir)\n",
    "\n",
    "    # calculate distance for both currents\n",
    "    dis_step = distance.euclidean(vs, U_step_x)\n",
    "    dis_ramp = distance.euclidean(vr, U_ramp_x)\n",
    "\n",
    "    # save into new columns\n",
    "    df_paramT.loc[i, 'distance_ramp'] = dis_ramp\n",
    "    df_paramT.loc[i, 'distance_step'] = dis_step\n",
    "    df_paramT.loc[i, 'distance_sum'] = dis_ramp + dis_step\n",
    "\n",
    "# save the new data DataFrame\n",
    "df_paramT.to_csv(fname + '_similarity.csv')\n",
    "\n",
    "# remove the temp directory\n",
    "shutil.rmtree(directory)"
   ]
  }
 ],
 "metadata": {
  "kernelspec": {
   "display_name": "dap_kernel",
   "language": "python",
   "name": "dap_kernel"
  },
  "language_info": {
   "codemirror_mode": {
    "name": "ipython",
    "version": 3
   },
   "file_extension": ".py",
   "mimetype": "text/x-python",
   "name": "python",
   "nbconvert_exporter": "python",
   "pygments_lexer": "ipython3",
   "version": "3.7.3"
  }
 },
 "nbformat": 4,
 "nbformat_minor": 2
}
