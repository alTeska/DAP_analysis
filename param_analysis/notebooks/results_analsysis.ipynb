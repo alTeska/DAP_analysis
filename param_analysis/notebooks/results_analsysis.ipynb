{
 "cells": [
  {
   "cell_type": "markdown",
   "metadata": {},
   "source": [
    "# Analysis of The Paramaeter Results - Template"
   ]
  },
  {
   "cell_type": "code",
   "execution_count": 1,
   "metadata": {},
   "outputs": [],
   "source": [
    "import numpy as np\n",
    "import glob\n",
    "import pandas as pd\n",
    "import matplotlib.pyplot as plt"
   ]
  },
  {
   "cell_type": "markdown",
   "metadata": {},
   "source": [
    "## Load the data"
   ]
  },
  {
   "cell_type": "code",
   "execution_count": 2,
   "metadata": {},
   "outputs": [
    {
     "data": {
      "text/plain": [
       "['./parameters/dap_models_4_param_1x20n_1x14.csv',\n",
       " './parameters/dap_models_4_param_1x20n_1x35.csv',\n",
       " './parameters/dap_models_4_param_1x20n_1x9.csv',\n",
       " './parameters/dap_models_4_param_1x20n_1x19.csv',\n",
       " './parameters/dap_models_4_param_1x20n_1x24.csv',\n",
       " './parameters/dap_models_4_param_1x20n_1x16.csv',\n",
       " './parameters/dap_models_4_param_1x20n_1x31k.csv',\n",
       " './parameters/dap_models_4_param_1x20n_1x12.csv',\n",
       " './parameters/dap_models_4_param_1x20n_1x27.csv',\n",
       " './parameters/dap_models_4_param_1x20n_1x23.csv',\n",
       " './parameters/dap_models_4_param_1x20n_1x5.csv',\n",
       " './parameters/dap_models_4_param_1x20n_1x28.csv',\n",
       " './parameters/dap_models_4_param_1x20n_1x15.csv',\n",
       " './parameters/dap_models_4_param_1x20n_1x2.csv',\n",
       " './parameters/dap_models_4_param_1x20n_1x37.csv',\n",
       " './parameters/dap_models_4_param_1x20n_1x3.csv',\n",
       " './parameters/dap_models_4_param_1x20n_1x8.csv',\n",
       " './parameters/dap_models_4_param_1x20n_1x7.csv',\n",
       " './parameters/dap_models_4_param_1x20n_1x26.csv',\n",
       " './parameters/dap_models_4_param_1x20n_1x36.csv',\n",
       " './parameters/dap_models_4_param_1x20n_1x18.csv',\n",
       " './parameters/dap_models_4_param_1x20n_1x4.csv',\n",
       " './parameters/dap_models_4_param_1x20n_1x39.csv',\n",
       " './parameters/dap_models_4_param_1x20n_1x6.csv',\n",
       " './parameters/dap_models_4_param_1x20n_1x29.csv',\n",
       " './parameters/dap_models_4_param_1x20n_1x32.csv',\n",
       " './parameters/dap_models_4_param_1x20n_1x38.csv',\n",
       " './parameters/dap_models_4_param_1x20n_1x25.csv',\n",
       " './parameters/dap_models_4_param_1x20n_1x22.csv',\n",
       " './parameters/dap_models_4_param_1x20n_1x33.csv',\n",
       " './parameters/dap_models_4_param_1x20n_1x11k.csv',\n",
       " './parameters/dap_models_4_param_1x20n_1x21k.csv',\n",
       " './parameters/dap_models_4_param_1x20n_1x34.csv',\n",
       " './parameters/dap_models_4_param_1x20n_1x17.csv']"
      ]
     },
     "execution_count": 2,
     "metadata": {},
     "output_type": "execute_result"
    }
   ],
   "source": [
    "# dir = glob.glob('/home/alteska/Desktop/dap_results_new/test/parameters/*')\n",
    "dir = glob.glob('./parameters/*')\n",
    "dir"
   ]
  },
  {
   "cell_type": "code",
   "execution_count": 3,
   "metadata": {},
   "outputs": [
    {
     "data": {
      "text/plain": [
       "'./parameters/dap_models_4_param_1x20n_1x14.csv'"
      ]
     },
     "execution_count": 3,
     "metadata": {},
     "output_type": "execute_result"
    }
   ],
   "source": [
    "dir[0]"
   ]
  },
  {
   "cell_type": "code",
   "execution_count": 4,
   "metadata": {},
   "outputs": [
    {
     "data": {
      "text/plain": [
       "['dap_models_4_param_1x20n_1x14',\n",
       " 'dap_models_4_param_1x20n_1x35',\n",
       " 'dap_models_4_param_1x20n_1x9',\n",
       " 'dap_models_4_param_1x20n_1x19',\n",
       " 'dap_models_4_param_1x20n_1x24',\n",
       " 'dap_models_4_param_1x20n_1x16',\n",
       " 'dap_models_4_param_1x20n_1x31k',\n",
       " 'dap_models_4_param_1x20n_1x12',\n",
       " 'dap_models_4_param_1x20n_1x27',\n",
       " 'dap_models_4_param_1x20n_1x23',\n",
       " 'dap_models_4_param_1x20n_1x5',\n",
       " 'dap_models_4_param_1x20n_1x28',\n",
       " 'dap_models_4_param_1x20n_1x15',\n",
       " 'dap_models_4_param_1x20n_1x2',\n",
       " 'dap_models_4_param_1x20n_1x37',\n",
       " 'dap_models_4_param_1x20n_1x3',\n",
       " 'dap_models_4_param_1x20n_1x8',\n",
       " 'dap_models_4_param_1x20n_1x7',\n",
       " 'dap_models_4_param_1x20n_1x26',\n",
       " 'dap_models_4_param_1x20n_1x36',\n",
       " 'dap_models_4_param_1x20n_1x18',\n",
       " 'dap_models_4_param_1x20n_1x4',\n",
       " 'dap_models_4_param_1x20n_1x39',\n",
       " 'dap_models_4_param_1x20n_1x6',\n",
       " 'dap_models_4_param_1x20n_1x29',\n",
       " 'dap_models_4_param_1x20n_1x32',\n",
       " 'dap_models_4_param_1x20n_1x38',\n",
       " 'dap_models_4_param_1x20n_1x25',\n",
       " 'dap_models_4_param_1x20n_1x22',\n",
       " 'dap_models_4_param_1x20n_1x33',\n",
       " 'dap_models_4_param_1x20n_1x11k',\n",
       " 'dap_models_4_param_1x20n_1x21k',\n",
       " 'dap_models_4_param_1x20n_1x34',\n",
       " 'dap_models_4_param_1x20n_1x17']"
      ]
     },
     "execution_count": 4,
     "metadata": {},
     "output_type": "execute_result"
    }
   ],
   "source": [
    "dir_name = []\n",
    "for n in dir:\n",
    "    x = n.find('dap_')\n",
    "    n = n[x:-4]\n",
    "    dir_name.append(n)\n",
    "    \n",
    "dir_name"
   ]
  },
  {
   "cell_type": "code",
   "execution_count": null,
   "metadata": {},
   "outputs": [],
   "source": []
  },
  {
   "cell_type": "markdown",
   "metadata": {},
   "source": [
    "## Create Data Frame"
   ]
  },
  {
   "cell_type": "markdown",
   "metadata": {},
   "source": [
    "### Load the Rows Names"
   ]
  },
  {
   "cell_type": "code",
   "execution_count": 5,
   "metadata": {},
   "outputs": [
    {
     "data": {
      "text/plain": [
       "array(['gbar_nap', 'gbar_leak', 'gbar_nat', 'gbar_kdr'], dtype=object)"
      ]
     },
     "execution_count": 5,
     "metadata": {},
     "output_type": "execute_result"
    }
   ],
   "source": [
    "param_labels = pd.read_csv(dir[0])['Unnamed: 0'].values\n",
    "param_labels "
   ]
  },
  {
   "cell_type": "markdown",
   "metadata": {},
   "source": [
    "### Load all of the parameters into arrays"
   ]
  },
  {
   "cell_type": "code",
   "execution_count": 6,
   "metadata": {},
   "outputs": [],
   "source": [
    "for i, d in enumerate(dir):\n",
    "    vars()[dir_name[i]] = pd.read_csv(d)['mean param'].values"
   ]
  },
  {
   "cell_type": "markdown",
   "metadata": {},
   "source": [
    "### Build one common Array"
   ]
  },
  {
   "cell_type": "code",
   "execution_count": 7,
   "metadata": {},
   "outputs": [
    {
     "data": {
      "text/plain": [
       "array([[ 17.17373166,   1.07466564, 131.4229416 ,   3.41051369],\n",
       "       [ 17.09721873,   1.03986853, 117.68422996,   3.73748401],\n",
       "       [ 19.00737963,   0.99142478,  95.36573095,   2.97607025],\n",
       "       [ 16.37054294,   1.02850442, 141.77457317,   3.43003207],\n",
       "       [ 15.15333474,   1.10018439, 163.72109415,   3.05554065],\n",
       "       [ 16.51589093,   1.12175491, 120.13933654,   3.41498453],\n",
       "       [ 14.38706171,   1.09387398, 164.14991852,   3.12816641],\n",
       "       [ 16.18338775,   1.03586845, 108.91678075,   2.99427778],\n",
       "       [ 16.58671404,   1.0469092 , 169.62574313,   3.17433147],\n",
       "       [ 18.93419008,   1.02568183, 115.4652864 ,   3.19455252],\n",
       "       [ 19.11305081,   1.13461096,  53.63939949,   3.22064719],\n",
       "       [ 16.88477104,   1.07203738, 158.74480351,   3.11392804],\n",
       "       [ 16.04161636,   1.03296868, 117.14503041,   3.52624066],\n",
       "       [ 13.53028988,   1.23721347,  14.69079417,   1.8480818 ],\n",
       "       [ 17.11043949,   1.06137359, 122.22405741,   3.52946127],\n",
       "       [ 16.54360443,   0.42887156,  12.79867335,   2.06949372],\n",
       "       [ 17.13881202,   1.01865215, 102.83873217,   3.44127277],\n",
       "       [ 18.91970691,   1.06986134,  89.98923246,   3.85574242],\n",
       "       [ 16.42225787,   1.02584304, 147.32780549,   3.63114086],\n",
       "       [ 16.90263866,   1.08422494, 118.18822079,   3.51969153],\n",
       "       [ 16.58680841,   1.04624934, 125.77953199,   3.45536933],\n",
       "       [ 19.07689558,   0.9947012 ,  34.40207692,   2.96580302],\n",
       "       [ 16.54737612,   1.09579462, 150.66083143,   3.40387847],\n",
       "       [ 18.43482501,   0.94644284,  22.69762567,   3.33646993],\n",
       "       [ 17.68756035,   1.07179733,  95.58360295,   3.46470258],\n",
       "       [ 16.33934135,   0.99038921, 153.13078836,   3.13495989],\n",
       "       [ 15.02463471,   1.09573696, 178.0501325 ,   3.20731116],\n",
       "       [ 16.74995547,   1.12460762, 118.79689161,   3.08609389],\n",
       "       [ 15.3664893 ,   1.03157755, 166.83482207,   3.10393769],\n",
       "       [ 18.05089337,   1.07150983, 113.72699686,   3.78724877],\n",
       "       [ 19.54317504,   1.08542352, 125.53272543,   3.16457043],\n",
       "       [ 16.07784091,   0.99872097, 141.34012548,   3.84604205],\n",
       "       [ 16.41206361,   1.04461262, 160.32230789,   3.1037237 ],\n",
       "       [ 16.12609457,   1.05032257, 115.38078196,   3.33547034]])"
      ]
     },
     "execution_count": 7,
     "metadata": {},
     "output_type": "execute_result"
    }
   ],
   "source": [
    "parameter_matrix = np.zeros(4)\n",
    "\n",
    "for n in dir_name:\n",
    "    x = vars()[n]\n",
    "    parameter_matrix = np.vstack([parameter_matrix, x])\n",
    "\n",
    "    \n",
    "parameter_matrix = parameter_matrix[1:]\n",
    "parameter_matrix"
   ]
  },
  {
   "cell_type": "markdown",
   "metadata": {},
   "source": [
    "### Save Array into Data Frame"
   ]
  },
  {
   "cell_type": "code",
   "execution_count": 8,
   "metadata": {},
   "outputs": [
    {
     "data": {
      "text/plain": [
       "['1x14',\n",
       " '1x35',\n",
       " '1x9',\n",
       " '1x19',\n",
       " '1x24',\n",
       " '1x16',\n",
       " '1x31k',\n",
       " '1x12',\n",
       " '1x27',\n",
       " '1x23',\n",
       " '1x5',\n",
       " '1x28',\n",
       " '1x15',\n",
       " '1x2',\n",
       " '1x37',\n",
       " '1x3',\n",
       " '1x8',\n",
       " '1x7',\n",
       " '1x26',\n",
       " '1x36',\n",
       " '1x18',\n",
       " '1x4',\n",
       " '1x39',\n",
       " '1x6',\n",
       " '1x29',\n",
       " '1x32',\n",
       " '1x38',\n",
       " '1x25',\n",
       " '1x22',\n",
       " '1x33',\n",
       " '1x11k',\n",
       " '1x21k',\n",
       " '1x34',\n",
       " '1x17']"
      ]
     },
     "execution_count": 8,
     "metadata": {},
     "output_type": "execute_result"
    }
   ],
   "source": [
    "col_names = []\n",
    "for nc in dir:\n",
    "    xc = nc.find('n_')\n",
    "    nc = nc[xc+2:-4]\n",
    "    col_names.append(nc)\n",
    "    \n",
    "col_names"
   ]
  },
  {
   "cell_type": "code",
   "execution_count": 9,
   "metadata": {},
   "outputs": [
    {
     "data": {
      "text/html": [
       "<div>\n",
       "<style scoped>\n",
       "    .dataframe tbody tr th:only-of-type {\n",
       "        vertical-align: middle;\n",
       "    }\n",
       "\n",
       "    .dataframe tbody tr th {\n",
       "        vertical-align: top;\n",
       "    }\n",
       "\n",
       "    .dataframe thead th {\n",
       "        text-align: right;\n",
       "    }\n",
       "</style>\n",
       "<table border=\"1\" class=\"dataframe\">\n",
       "  <thead>\n",
       "    <tr style=\"text-align: right;\">\n",
       "      <th></th>\n",
       "      <th>1x14</th>\n",
       "      <th>1x35</th>\n",
       "      <th>1x9</th>\n",
       "      <th>1x19</th>\n",
       "      <th>1x24</th>\n",
       "      <th>1x16</th>\n",
       "      <th>1x31k</th>\n",
       "      <th>1x12</th>\n",
       "      <th>1x27</th>\n",
       "      <th>1x23</th>\n",
       "      <th>...</th>\n",
       "      <th>1x29</th>\n",
       "      <th>1x32</th>\n",
       "      <th>1x38</th>\n",
       "      <th>1x25</th>\n",
       "      <th>1x22</th>\n",
       "      <th>1x33</th>\n",
       "      <th>1x11k</th>\n",
       "      <th>1x21k</th>\n",
       "      <th>1x34</th>\n",
       "      <th>1x17</th>\n",
       "    </tr>\n",
       "  </thead>\n",
       "  <tbody>\n",
       "    <tr>\n",
       "      <th>0</th>\n",
       "      <td>17.173732</td>\n",
       "      <td>17.097219</td>\n",
       "      <td>19.007380</td>\n",
       "      <td>16.370543</td>\n",
       "      <td>15.153335</td>\n",
       "      <td>16.515891</td>\n",
       "      <td>14.387062</td>\n",
       "      <td>16.183388</td>\n",
       "      <td>16.586714</td>\n",
       "      <td>18.934190</td>\n",
       "      <td>...</td>\n",
       "      <td>17.687560</td>\n",
       "      <td>16.339341</td>\n",
       "      <td>15.024635</td>\n",
       "      <td>16.749955</td>\n",
       "      <td>15.366489</td>\n",
       "      <td>18.050893</td>\n",
       "      <td>19.543175</td>\n",
       "      <td>16.077841</td>\n",
       "      <td>16.412064</td>\n",
       "      <td>16.126095</td>\n",
       "    </tr>\n",
       "    <tr>\n",
       "      <th>1</th>\n",
       "      <td>1.074666</td>\n",
       "      <td>1.039869</td>\n",
       "      <td>0.991425</td>\n",
       "      <td>1.028504</td>\n",
       "      <td>1.100184</td>\n",
       "      <td>1.121755</td>\n",
       "      <td>1.093874</td>\n",
       "      <td>1.035868</td>\n",
       "      <td>1.046909</td>\n",
       "      <td>1.025682</td>\n",
       "      <td>...</td>\n",
       "      <td>1.071797</td>\n",
       "      <td>0.990389</td>\n",
       "      <td>1.095737</td>\n",
       "      <td>1.124608</td>\n",
       "      <td>1.031578</td>\n",
       "      <td>1.071510</td>\n",
       "      <td>1.085424</td>\n",
       "      <td>0.998721</td>\n",
       "      <td>1.044613</td>\n",
       "      <td>1.050323</td>\n",
       "    </tr>\n",
       "    <tr>\n",
       "      <th>2</th>\n",
       "      <td>131.422942</td>\n",
       "      <td>117.684230</td>\n",
       "      <td>95.365731</td>\n",
       "      <td>141.774573</td>\n",
       "      <td>163.721094</td>\n",
       "      <td>120.139337</td>\n",
       "      <td>164.149919</td>\n",
       "      <td>108.916781</td>\n",
       "      <td>169.625743</td>\n",
       "      <td>115.465286</td>\n",
       "      <td>...</td>\n",
       "      <td>95.583603</td>\n",
       "      <td>153.130788</td>\n",
       "      <td>178.050132</td>\n",
       "      <td>118.796892</td>\n",
       "      <td>166.834822</td>\n",
       "      <td>113.726997</td>\n",
       "      <td>125.532725</td>\n",
       "      <td>141.340125</td>\n",
       "      <td>160.322308</td>\n",
       "      <td>115.380782</td>\n",
       "    </tr>\n",
       "    <tr>\n",
       "      <th>3</th>\n",
       "      <td>3.410514</td>\n",
       "      <td>3.737484</td>\n",
       "      <td>2.976070</td>\n",
       "      <td>3.430032</td>\n",
       "      <td>3.055541</td>\n",
       "      <td>3.414985</td>\n",
       "      <td>3.128166</td>\n",
       "      <td>2.994278</td>\n",
       "      <td>3.174331</td>\n",
       "      <td>3.194553</td>\n",
       "      <td>...</td>\n",
       "      <td>3.464703</td>\n",
       "      <td>3.134960</td>\n",
       "      <td>3.207311</td>\n",
       "      <td>3.086094</td>\n",
       "      <td>3.103938</td>\n",
       "      <td>3.787249</td>\n",
       "      <td>3.164570</td>\n",
       "      <td>3.846042</td>\n",
       "      <td>3.103724</td>\n",
       "      <td>3.335470</td>\n",
       "    </tr>\n",
       "  </tbody>\n",
       "</table>\n",
       "<p>4 rows × 34 columns</p>\n",
       "</div>"
      ],
      "text/plain": [
       "         1x14        1x35        1x9        1x19        1x24        1x16  \\\n",
       "0   17.173732   17.097219  19.007380   16.370543   15.153335   16.515891   \n",
       "1    1.074666    1.039869   0.991425    1.028504    1.100184    1.121755   \n",
       "2  131.422942  117.684230  95.365731  141.774573  163.721094  120.139337   \n",
       "3    3.410514    3.737484   2.976070    3.430032    3.055541    3.414985   \n",
       "\n",
       "        1x31k        1x12        1x27        1x23  ...       1x29        1x32  \\\n",
       "0   14.387062   16.183388   16.586714   18.934190  ...  17.687560   16.339341   \n",
       "1    1.093874    1.035868    1.046909    1.025682  ...   1.071797    0.990389   \n",
       "2  164.149919  108.916781  169.625743  115.465286  ...  95.583603  153.130788   \n",
       "3    3.128166    2.994278    3.174331    3.194553  ...   3.464703    3.134960   \n",
       "\n",
       "         1x38        1x25        1x22        1x33       1x11k       1x21k  \\\n",
       "0   15.024635   16.749955   15.366489   18.050893   19.543175   16.077841   \n",
       "1    1.095737    1.124608    1.031578    1.071510    1.085424    0.998721   \n",
       "2  178.050132  118.796892  166.834822  113.726997  125.532725  141.340125   \n",
       "3    3.207311    3.086094    3.103938    3.787249    3.164570    3.846042   \n",
       "\n",
       "         1x34        1x17  \n",
       "0   16.412064   16.126095  \n",
       "1    1.044613    1.050323  \n",
       "2  160.322308  115.380782  \n",
       "3    3.103724    3.335470  \n",
       "\n",
       "[4 rows x 34 columns]"
      ]
     },
     "execution_count": 9,
     "metadata": {},
     "output_type": "execute_result"
    }
   ],
   "source": [
    "df_param = pd.DataFrame(data=parameter_matrix.T, columns=col_names)\n",
    "df_param"
   ]
  },
  {
   "cell_type": "code",
   "execution_count": 10,
   "metadata": {},
   "outputs": [
    {
     "data": {
      "text/html": [
       "<div>\n",
       "<style scoped>\n",
       "    .dataframe tbody tr th:only-of-type {\n",
       "        vertical-align: middle;\n",
       "    }\n",
       "\n",
       "    .dataframe tbody tr th {\n",
       "        vertical-align: top;\n",
       "    }\n",
       "\n",
       "    .dataframe thead th {\n",
       "        text-align: right;\n",
       "    }\n",
       "</style>\n",
       "<table border=\"1\" class=\"dataframe\">\n",
       "  <thead>\n",
       "    <tr style=\"text-align: right;\">\n",
       "      <th></th>\n",
       "      <th>1x14</th>\n",
       "      <th>1x35</th>\n",
       "      <th>1x9</th>\n",
       "      <th>1x19</th>\n",
       "      <th>1x24</th>\n",
       "      <th>1x16</th>\n",
       "      <th>1x31k</th>\n",
       "      <th>1x12</th>\n",
       "      <th>1x27</th>\n",
       "      <th>1x23</th>\n",
       "      <th>...</th>\n",
       "      <th>1x29</th>\n",
       "      <th>1x32</th>\n",
       "      <th>1x38</th>\n",
       "      <th>1x25</th>\n",
       "      <th>1x22</th>\n",
       "      <th>1x33</th>\n",
       "      <th>1x11k</th>\n",
       "      <th>1x21k</th>\n",
       "      <th>1x34</th>\n",
       "      <th>1x17</th>\n",
       "    </tr>\n",
       "  </thead>\n",
       "  <tbody>\n",
       "    <tr>\n",
       "      <th>gbar_nap</th>\n",
       "      <td>17.173732</td>\n",
       "      <td>17.097219</td>\n",
       "      <td>19.007380</td>\n",
       "      <td>16.370543</td>\n",
       "      <td>15.153335</td>\n",
       "      <td>16.515891</td>\n",
       "      <td>14.387062</td>\n",
       "      <td>16.183388</td>\n",
       "      <td>16.586714</td>\n",
       "      <td>18.934190</td>\n",
       "      <td>...</td>\n",
       "      <td>17.687560</td>\n",
       "      <td>16.339341</td>\n",
       "      <td>15.024635</td>\n",
       "      <td>16.749955</td>\n",
       "      <td>15.366489</td>\n",
       "      <td>18.050893</td>\n",
       "      <td>19.543175</td>\n",
       "      <td>16.077841</td>\n",
       "      <td>16.412064</td>\n",
       "      <td>16.126095</td>\n",
       "    </tr>\n",
       "    <tr>\n",
       "      <th>gbar_leak</th>\n",
       "      <td>1.074666</td>\n",
       "      <td>1.039869</td>\n",
       "      <td>0.991425</td>\n",
       "      <td>1.028504</td>\n",
       "      <td>1.100184</td>\n",
       "      <td>1.121755</td>\n",
       "      <td>1.093874</td>\n",
       "      <td>1.035868</td>\n",
       "      <td>1.046909</td>\n",
       "      <td>1.025682</td>\n",
       "      <td>...</td>\n",
       "      <td>1.071797</td>\n",
       "      <td>0.990389</td>\n",
       "      <td>1.095737</td>\n",
       "      <td>1.124608</td>\n",
       "      <td>1.031578</td>\n",
       "      <td>1.071510</td>\n",
       "      <td>1.085424</td>\n",
       "      <td>0.998721</td>\n",
       "      <td>1.044613</td>\n",
       "      <td>1.050323</td>\n",
       "    </tr>\n",
       "    <tr>\n",
       "      <th>gbar_nat</th>\n",
       "      <td>131.422942</td>\n",
       "      <td>117.684230</td>\n",
       "      <td>95.365731</td>\n",
       "      <td>141.774573</td>\n",
       "      <td>163.721094</td>\n",
       "      <td>120.139337</td>\n",
       "      <td>164.149919</td>\n",
       "      <td>108.916781</td>\n",
       "      <td>169.625743</td>\n",
       "      <td>115.465286</td>\n",
       "      <td>...</td>\n",
       "      <td>95.583603</td>\n",
       "      <td>153.130788</td>\n",
       "      <td>178.050132</td>\n",
       "      <td>118.796892</td>\n",
       "      <td>166.834822</td>\n",
       "      <td>113.726997</td>\n",
       "      <td>125.532725</td>\n",
       "      <td>141.340125</td>\n",
       "      <td>160.322308</td>\n",
       "      <td>115.380782</td>\n",
       "    </tr>\n",
       "    <tr>\n",
       "      <th>gbar_kdr</th>\n",
       "      <td>3.410514</td>\n",
       "      <td>3.737484</td>\n",
       "      <td>2.976070</td>\n",
       "      <td>3.430032</td>\n",
       "      <td>3.055541</td>\n",
       "      <td>3.414985</td>\n",
       "      <td>3.128166</td>\n",
       "      <td>2.994278</td>\n",
       "      <td>3.174331</td>\n",
       "      <td>3.194553</td>\n",
       "      <td>...</td>\n",
       "      <td>3.464703</td>\n",
       "      <td>3.134960</td>\n",
       "      <td>3.207311</td>\n",
       "      <td>3.086094</td>\n",
       "      <td>3.103938</td>\n",
       "      <td>3.787249</td>\n",
       "      <td>3.164570</td>\n",
       "      <td>3.846042</td>\n",
       "      <td>3.103724</td>\n",
       "      <td>3.335470</td>\n",
       "    </tr>\n",
       "  </tbody>\n",
       "</table>\n",
       "<p>4 rows × 34 columns</p>\n",
       "</div>"
      ],
      "text/plain": [
       "                 1x14        1x35        1x9        1x19        1x24  \\\n",
       "gbar_nap    17.173732   17.097219  19.007380   16.370543   15.153335   \n",
       "gbar_leak    1.074666    1.039869   0.991425    1.028504    1.100184   \n",
       "gbar_nat   131.422942  117.684230  95.365731  141.774573  163.721094   \n",
       "gbar_kdr     3.410514    3.737484   2.976070    3.430032    3.055541   \n",
       "\n",
       "                 1x16       1x31k        1x12        1x27        1x23  ...  \\\n",
       "gbar_nap    16.515891   14.387062   16.183388   16.586714   18.934190  ...   \n",
       "gbar_leak    1.121755    1.093874    1.035868    1.046909    1.025682  ...   \n",
       "gbar_nat   120.139337  164.149919  108.916781  169.625743  115.465286  ...   \n",
       "gbar_kdr     3.414985    3.128166    2.994278    3.174331    3.194553  ...   \n",
       "\n",
       "                1x29        1x32        1x38        1x25        1x22  \\\n",
       "gbar_nap   17.687560   16.339341   15.024635   16.749955   15.366489   \n",
       "gbar_leak   1.071797    0.990389    1.095737    1.124608    1.031578   \n",
       "gbar_nat   95.583603  153.130788  178.050132  118.796892  166.834822   \n",
       "gbar_kdr    3.464703    3.134960    3.207311    3.086094    3.103938   \n",
       "\n",
       "                 1x33       1x11k       1x21k        1x34        1x17  \n",
       "gbar_nap    18.050893   19.543175   16.077841   16.412064   16.126095  \n",
       "gbar_leak    1.071510    1.085424    0.998721    1.044613    1.050323  \n",
       "gbar_nat   113.726997  125.532725  141.340125  160.322308  115.380782  \n",
       "gbar_kdr     3.787249    3.164570    3.846042    3.103724    3.335470  \n",
       "\n",
       "[4 rows x 34 columns]"
      ]
     },
     "execution_count": 10,
     "metadata": {},
     "output_type": "execute_result"
    }
   ],
   "source": [
    "df_param.set_axis(param_labels, inplace=True)\n",
    "df_param"
   ]
  },
  {
   "cell_type": "code",
   "execution_count": 11,
   "metadata": {},
   "outputs": [
    {
     "data": {
      "text/plain": [
       "'dap_models_4_param_1x20'"
      ]
     },
     "execution_count": 11,
     "metadata": {},
     "output_type": "execute_result"
    }
   ],
   "source": [
    "fname_start = dir[0].find('dap_')\n",
    "fname_stop = dir[0].find('n_')    \n",
    "fname = dir[0][fname_start:fname_stop]\n",
    "fname"
   ]
  },
  {
   "cell_type": "code",
   "execution_count": 12,
   "metadata": {},
   "outputs": [
    {
     "data": {
      "text/plain": [
       "30"
      ]
     },
     "execution_count": 12,
     "metadata": {},
     "output_type": "execute_result"
    }
   ],
   "source": [
    "dir[0].find('m_')\n",
    "    "
   ]
  },
  {
   "cell_type": "code",
   "execution_count": 13,
   "metadata": {},
   "outputs": [],
   "source": [
    "df_param.to_csv(fname + '.csv')"
   ]
  },
  {
   "cell_type": "markdown",
   "metadata": {},
   "source": [
    "## Load DAP Cell"
   ]
  },
  {
   "cell_type": "code",
   "execution_count": 14,
   "metadata": {},
   "outputs": [],
   "source": [
    "from dap import DAP, DAPBe\n",
    "from dap import DAPcython\n",
    "from dap.utils import obs_params_gbar, obs_params, load_current\n",
    "\n",
    "from tqdm import tqdm"
   ]
  },
  {
   "cell_type": "code",
   "execution_count": 15,
   "metadata": {},
   "outputs": [],
   "source": [
    "dt = 1e-2\n",
    "params, labels = obs_params(reduced_model=False)"
   ]
  },
  {
   "cell_type": "code",
   "execution_count": 16,
   "metadata": {},
   "outputs": [],
   "source": [
    "data_dir = '/home/alteska/Desktop/LFI_DAP/data/rawData/2015_08_26b.dat'    # best cell"
   ]
  },
  {
   "cell_type": "code",
   "execution_count": 17,
   "metadata": {},
   "outputs": [],
   "source": [
    "# load the data\n",
    "Ir, vr, tr, t_onr, t_offr, dtr = load_current(data_dir, protocol='rampIV', ramp_amp=3.1)\n",
    "Is, vs, ts, t_ons, t_offs, dts = load_current(data_dir, protocol='IV', ramp_amp=1)"
   ]
  },
  {
   "cell_type": "code",
   "execution_count": 18,
   "metadata": {},
   "outputs": [],
   "source": [
    "### define a model\n",
    "dap = DAPcython(-75, params)\n",
    "\n",
    "#### run models\n",
    "U_step = dap.simulate(dts, ts, Is)\n",
    "U_ramp = dap.simulate(dtr, tr, Ir)"
   ]
  },
  {
   "cell_type": "code",
   "execution_count": 19,
   "metadata": {},
   "outputs": [
    {
     "data": {
      "image/png": "[encoded data removed]",
      "text/plain": [
       "<Figure size 1440x720 with 2 Axes>"
      ]
     },
     "metadata": {
      "needs_background": "light"
     },
     "output_type": "display_data"
    }
   ],
   "source": [
    "fig, ax = plt.subplots(2, 1, figsize=(20, 10));\n",
    "ax[0].plot(tr, U_ramp)\n",
    "ax[0].plot(tr, vr)\n",
    "ax[0].plot(tr, Ir)\n",
    "ax[1].plot(ts, U_step)\n",
    "ax[1].plot(ts, vs)\n",
    "ax[1].plot(ts, Is)\n",
    "\n",
    "plt.show()"
   ]
  },
  {
   "cell_type": "markdown",
   "metadata": {},
   "source": [
    "## Test Dap with different parameters"
   ]
  },
  {
   "cell_type": "code",
   "execution_count": 20,
   "metadata": {},
   "outputs": [],
   "source": [
    "from scipy.spatial import distance"
   ]
  },
  {
   "cell_type": "code",
   "execution_count": 21,
   "metadata": {},
   "outputs": [
    {
     "name": "stdout",
     "output_type": "stream",
     "text": [
      "2657.4856021815035\n",
      "488.06363176925214\n",
      "3145.5492339507555\n"
     ]
    }
   ],
   "source": [
    "d_step = distance.euclidean(vs, U_step)\n",
    "d_ramp = distance.euclidean(vr, U_ramp)\n",
    "\n",
    "print(d_step)\n",
    "print(d_ramp)\n",
    "print(d_step + d_ramp)"
   ]
  },
  {
   "cell_type": "markdown",
   "metadata": {},
   "source": [
    "## Run all of the Cells and save distances to Data Frame"
   ]
  },
  {
   "cell_type": "code",
   "execution_count": 22,
   "metadata": {},
   "outputs": [
    {
     "name": "stdout",
     "output_type": "stream",
     "text": [
      "gbar_nap\n",
      "gbar_leak\n",
      "gbar_nat\n",
      "gbar_kdr\n"
     ]
    }
   ],
   "source": [
    "for col in df_param.transpose():\n",
    "    print(col)"
   ]
  },
  {
   "cell_type": "code",
   "execution_count": 23,
   "metadata": {},
   "outputs": [
    {
     "data": {
      "text/html": [
       "<div>\n",
       "<style scoped>\n",
       "    .dataframe tbody tr th:only-of-type {\n",
       "        vertical-align: middle;\n",
       "    }\n",
       "\n",
       "    .dataframe tbody tr th {\n",
       "        vertical-align: top;\n",
       "    }\n",
       "\n",
       "    .dataframe thead th {\n",
       "        text-align: right;\n",
       "    }\n",
       "</style>\n",
       "<table border=\"1\" class=\"dataframe\">\n",
       "  <thead>\n",
       "    <tr style=\"text-align: right;\">\n",
       "      <th></th>\n",
       "      <th>gbar_nap</th>\n",
       "      <th>gbar_leak</th>\n",
       "      <th>gbar_nat</th>\n",
       "      <th>gbar_kdr</th>\n",
       "    </tr>\n",
       "  </thead>\n",
       "  <tbody>\n",
       "    <tr>\n",
       "      <th>1x14</th>\n",
       "      <td>17.173732</td>\n",
       "      <td>1.074666</td>\n",
       "      <td>131.422942</td>\n",
       "      <td>3.410514</td>\n",
       "    </tr>\n",
       "    <tr>\n",
       "      <th>1x35</th>\n",
       "      <td>17.097219</td>\n",
       "      <td>1.039869</td>\n",
       "      <td>117.684230</td>\n",
       "      <td>3.737484</td>\n",
       "    </tr>\n",
       "    <tr>\n",
       "      <th>1x9</th>\n",
       "      <td>19.007380</td>\n",
       "      <td>0.991425</td>\n",
       "      <td>95.365731</td>\n",
       "      <td>2.976070</td>\n",
       "    </tr>\n",
       "    <tr>\n",
       "      <th>1x19</th>\n",
       "      <td>16.370543</td>\n",
       "      <td>1.028504</td>\n",
       "      <td>141.774573</td>\n",
       "      <td>3.430032</td>\n",
       "    </tr>\n",
       "    <tr>\n",
       "      <th>1x24</th>\n",
       "      <td>15.153335</td>\n",
       "      <td>1.100184</td>\n",
       "      <td>163.721094</td>\n",
       "      <td>3.055541</td>\n",
       "    </tr>\n",
       "  </tbody>\n",
       "</table>\n",
       "</div>"
      ],
      "text/plain": [
       "       gbar_nap  gbar_leak    gbar_nat  gbar_kdr\n",
       "1x14  17.173732   1.074666  131.422942  3.410514\n",
       "1x35  17.097219   1.039869  117.684230  3.737484\n",
       "1x9   19.007380   0.991425   95.365731  2.976070\n",
       "1x19  16.370543   1.028504  141.774573  3.430032\n",
       "1x24  15.153335   1.100184  163.721094  3.055541"
      ]
     },
     "execution_count": 23,
     "metadata": {},
     "output_type": "execute_result"
    }
   ],
   "source": [
    "df_paramT = df_param.transpose()\n",
    "df_paramT.head()"
   ]
  },
  {
   "cell_type": "code",
   "execution_count": 25,
   "metadata": {},
   "outputs": [
    {
     "name": "stderr",
     "output_type": "stream",
     "text": [
      "34it [00:00, 986.55it/s]"
     ]
    },
    {
     "name": "stdout",
     "output_type": "stream",
     "text": [
      "[ 17.17373166   1.07466564 131.4229416    3.41051369]\n",
      "[ 17.09721873   1.03986853 117.68422996   3.73748401]\n",
      "[19.00737963  0.99142478 95.36573095  2.97607025]\n",
      "[ 16.37054294   1.02850442 141.77457317   3.43003207]\n",
      "[ 15.15333474   1.10018439 163.72109415   3.05554065]\n",
      "[ 16.51589093   1.12175491 120.13933654   3.41498453]\n",
      "[ 14.38706171   1.09387398 164.14991852   3.12816641]\n",
      "[ 16.18338775   1.03586845 108.91678075   2.99427778]\n",
      "[ 16.58671404   1.0469092  169.62574313   3.17433147]\n",
      "[ 18.93419008   1.02568183 115.4652864    3.19455252]\n",
      "[19.11305081  1.13461096 53.63939949  3.22064719]\n",
      "[ 16.88477104   1.07203738 158.74480351   3.11392804]\n",
      "[ 16.04161636   1.03296868 117.14503041   3.52624066]\n",
      "[13.53028988  1.23721347 14.69079417  1.8480818 ]\n",
      "[ 17.11043949   1.06137359 122.22405741   3.52946127]\n",
      "[16.54360443  0.42887156 12.79867335  2.06949372]\n",
      "[ 17.13881202   1.01865215 102.83873217   3.44127277]\n",
      "[18.91970691  1.06986134 89.98923246  3.85574242]\n",
      "[ 16.42225787   1.02584304 147.32780549   3.63114086]\n",
      "[ 16.90263866   1.08422494 118.18822079   3.51969153]\n",
      "[ 16.58680841   1.04624934 125.77953199   3.45536933]\n",
      "[19.07689558  0.9947012  34.40207692  2.96580302]\n",
      "[ 16.54737612   1.09579462 150.66083143   3.40387847]\n",
      "[18.43482501  0.94644284 22.69762567  3.33646993]\n",
      "[17.68756035  1.07179733 95.58360295  3.46470258]\n",
      "[ 16.33934135   0.99038921 153.13078836   3.13495989]\n",
      "[ 15.02463471   1.09573696 178.0501325    3.20731116]\n",
      "[ 16.74995547   1.12460762 118.79689161   3.08609389]\n",
      "[ 15.3664893    1.03157755 166.83482207   3.10393769]\n",
      "[ 18.05089337   1.07150983 113.72699686   3.78724877]\n",
      "[ 19.54317504   1.08542352 125.53272543   3.16457043]\n",
      "[ 16.07784091   0.99872097 141.34012548   3.84604205]\n",
      "[ 16.41206361   1.04461262 160.32230789   3.1037237 ]\n",
      "[ 16.12609457   1.05032257 115.38078196   3.33547034]\n"
     ]
    },
    {
     "name": "stderr",
     "output_type": "stream",
     "text": [
      "\n"
     ]
    }
   ],
   "source": [
    "for i,j in tqdm(df_paramT.iterrows()):\n",
    "    # get parameters\n",
    "    par_temp = j.values\n",
    "    print(par_temp)"
   ]
  },
  {
   "cell_type": "code",
   "execution_count": null,
   "metadata": {},
   "outputs": [],
   "source": [
    "for i,j in tqdm(df_paramT.iterrows()):\n",
    "    # get parameters\n",
    "    par_temp = j.values\n",
    "\n",
    "    # define a model\n",
    "    dap = DAPcython(-75, j)\n",
    "\n",
    "    # run model\n",
    "    U_step_x = dap.simulate(dts, ts, Is)\n",
    "    U_ramp_x = dap.simulate(dtr, tr, Ir)\n",
    "    \n",
    "    # calculate distance for both currents\n",
    "    dis_step = distance.euclidean(vs, U_step_x)\n",
    "    dis_ramp = distance.euclidean(vr, U_ramp_x)\n",
    "    \n",
    "    # save into new columns\n",
    "    df_paramT.loc[i, 'distance_ramp'] = dis_ramp\n",
    "    df_paramT.loc[i, 'distance_step'] = dis_step\n",
    "    df_paramT.loc[i, 'distance_sum'] = dis_ramp + dis_step"
   ]
  },
  {
   "cell_type": "code",
   "execution_count": null,
   "metadata": {},
   "outputs": [],
   "source": [
    "df_paramT"
   ]
  },
  {
   "cell_type": "markdown",
   "metadata": {},
   "source": [
    "## Visualize"
   ]
  },
  {
   "cell_type": "code",
   "execution_count": null,
   "metadata": {},
   "outputs": [],
   "source": [
    "# define a model\n",
    "dap = DAPcython(-75, df_param.ns39.values)\n",
    "\n",
    "# run model\n",
    "U_step_x = dap_x.simulate(dts, ts, Is)\n",
    "U_ramp_x = dap_x.simulate(dtr, tr, Ir)"
   ]
  },
  {
   "cell_type": "code",
   "execution_count": null,
   "metadata": {},
   "outputs": [],
   "source": [
    "fig, ax = plt.subplots(3, 1, figsize=(20, 20));\n",
    "ax[0].plot(tr, vr, label='goal', c='b')\n",
    "ax[0].plot(tr, U_ramp, label='best fit', c='g')\n",
    "ax[0].plot(tr, U_ramp_x, label='test', c='r')\n",
    "ax[0].plot(tr, Ir)\n",
    "\n",
    "ax[1].plot(ts, U_step, label='best_fit')\n",
    "ax[1].plot(ts, vs, label='goal')\n",
    "ax[1].plot(ts, Is)\n",
    "ax[1].legend()\n",
    "\n",
    "ax[2].plot(ts, U_step_x, label='test')\n",
    "ax[2].plot(ts, vs, label='goal')\n",
    "ax[2].plot(ts, Is)\n",
    "ax[2].legend();"
   ]
  },
  {
   "cell_type": "code",
   "execution_count": null,
   "metadata": {},
   "outputs": [],
   "source": []
  }
 ],
 "metadata": {
  "kernelspec": {
   "display_name": "dap_kernel",
   "language": "python",
   "name": "dap_kernel"
  },
  "language_info": {
   "codemirror_mode": {
    "name": "ipython",
    "version": 3
   },
   "file_extension": ".py",
   "mimetype": "text/x-python",
   "name": "python",
   "nbconvert_exporter": "python",
   "pygments_lexer": "ipython3",
   "version": "3.7.3"
  }
 },
 "nbformat": 4,
 "nbformat_minor": 2
}
