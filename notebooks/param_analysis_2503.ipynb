{
 "cells": [
  {
   "cell_type": "markdown",
   "metadata": {},
   "source": [
    "# Analysis of Parameters Ranges"
   ]
  },
  {
   "cell_type": "code",
   "execution_count": 1,
   "metadata": {},
   "outputs": [],
   "source": [
    "import os\n",
    "import glob\n",
    "import numpy as np\n",
    "import pandas as pd\n",
    "import matplotlib.pyplot  as plt\n",
    "import seaborn as sns"
   ]
  },
  {
   "cell_type": "code",
   "execution_count": 2,
   "metadata": {},
   "outputs": [],
   "source": [
    "import sys\n",
    "import warnings\n",
    "\n",
    "if not sys.warnoptions:\n",
    "    warnings.simplefilter(\"ignore\")"
   ]
  },
  {
   "cell_type": "code",
   "execution_count": 3,
   "metadata": {},
   "outputs": [],
   "source": [
    "os.chdir('../parameter_data/')"
   ]
  },
  {
   "cell_type": "code",
   "execution_count": 4,
   "metadata": {},
   "outputs": [
    {
     "data": {
      "text/plain": [
       "['candidate_mat.npy', 'parameters.npy']"
      ]
     },
     "execution_count": 4,
     "metadata": {},
     "output_type": "execute_result"
    }
   ],
   "source": [
    "glob.glob('*')"
   ]
  },
  {
   "cell_type": "markdown",
   "metadata": {},
   "source": [
    "### Get the data"
   ]
  },
  {
   "cell_type": "code",
   "execution_count": 5,
   "metadata": {},
   "outputs": [
    {
     "data": {
      "text/plain": [
       "array([[  0.61648518, -88.88869149, -26.64532777, ...,   0.50074763,\n",
       "          0.76206104,   0.23946831],\n",
       "       [  0.59682268, -91.62445108, -26.59099145, ...,   0.40387807,\n",
       "          0.66250468,   0.24500668],\n",
       "       [  0.60895454, -90.73228459, -25.242958  , ...,   0.48010979,\n",
       "          0.70598227,   0.21735294],\n",
       "       ...,\n",
       "       [  0.71663105, -87.73061225, -32.97497516, ...,   0.51949051,\n",
       "          0.66080303,   0.23351357],\n",
       "       [  0.69043881, -84.81899708, -30.0507494 , ...,   0.50909909,\n",
       "          0.75228829,   0.24304842],\n",
       "       [  0.603398  , -82.50752654, -31.46439607, ...,   0.36752545,\n",
       "          0.67875701,   0.20823445]])"
      ]
     },
     "execution_count": 5,
     "metadata": {},
     "output_type": "execute_result"
    }
   ],
   "source": [
    "candidate_mat = np.load('candidate_mat.npy')\n",
    "candidate_mat"
   ]
  },
  {
   "cell_type": "code",
   "execution_count": 6,
   "metadata": {},
   "outputs": [
    {
     "data": {
      "text/plain": [
       "array(['soma cm', 'pas e', 'hcn_slow ehcn', 'pas g', 'nap gbar',\n",
       "       'nat gbar', 'kdr gbar', 'hcn_slow gbar', 'nap m_vh', 'nap h_vh',\n",
       "       'nat m_vh', 'nat h_vh', 'kdr n_vh', 'hcn_slow n_vh', 'nap m_vs',\n",
       "       'nap h_vs', 'nat m_vs', 'nat h_vs', 'kdr n_vs', 'hcn_slow n_vs',\n",
       "       'nap m_tau_min', 'nap h_tau_min', 'nat m_tau_min', 'nat h_tau_min',\n",
       "       'kdr n_tau_min', 'hcn_slow n_tau_min', 'nap m_tau_max',\n",
       "       'nap h_tau_max', 'nat m_tau_max', 'nat h_tau_max', 'kdr n_tau_max',\n",
       "       'hcn_slow n_tau_max', 'nap m_tau_delta', 'nap h_tau_delta',\n",
       "       'nat m_tau_delta', 'nat h_tau_delta', 'kdr n_tau_delta',\n",
       "       'hcn_slow n_tau_delta'], dtype='<U20')"
      ]
     },
     "execution_count": 6,
     "metadata": {},
     "output_type": "execute_result"
    }
   ],
   "source": [
    "parameters = np.load('parameters.npy')\n",
    "parameters"
   ]
  },
  {
   "cell_type": "code",
   "execution_count": 7,
   "metadata": {},
   "outputs": [
    {
     "data": {
      "text/plain": [
       "(38,)"
      ]
     },
     "execution_count": 7,
     "metadata": {},
     "output_type": "execute_result"
    }
   ],
   "source": [
    "np.shape(parameters)"
   ]
  },
  {
   "cell_type": "code",
   "execution_count": 8,
   "metadata": {},
   "outputs": [
    {
     "data": {
      "text/plain": [
       "(3587, 38)"
      ]
     },
     "execution_count": 8,
     "metadata": {},
     "output_type": "execute_result"
    }
   ],
   "source": [
    "np.shape(candidate_mat)"
   ]
  },
  {
   "cell_type": "markdown",
   "metadata": {},
   "source": [
    "### Create a Data Frame to analyse the data"
   ]
  },
  {
   "cell_type": "code",
   "execution_count": 9,
   "metadata": {},
   "outputs": [
    {
     "data": {
      "text/html": [
       "<div>\n",
       "<style scoped>\n",
       "    .dataframe tbody tr th:only-of-type {\n",
       "        vertical-align: middle;\n",
       "    }\n",
       "\n",
       "    .dataframe tbody tr th {\n",
       "        vertical-align: top;\n",
       "    }\n",
       "\n",
       "    .dataframe thead th {\n",
       "        text-align: right;\n",
       "    }\n",
       "</style>\n",
       "<table border=\"1\" class=\"dataframe\">\n",
       "  <thead>\n",
       "    <tr style=\"text-align: right;\">\n",
       "      <th></th>\n",
       "      <th>soma cm</th>\n",
       "      <th>pas e</th>\n",
       "      <th>hcn_slow ehcn</th>\n",
       "      <th>pas g</th>\n",
       "      <th>nap gbar</th>\n",
       "      <th>nat gbar</th>\n",
       "      <th>kdr gbar</th>\n",
       "      <th>hcn_slow gbar</th>\n",
       "      <th>nap m_vh</th>\n",
       "      <th>nap h_vh</th>\n",
       "      <th>...</th>\n",
       "      <th>nat m_tau_max</th>\n",
       "      <th>nat h_tau_max</th>\n",
       "      <th>kdr n_tau_max</th>\n",
       "      <th>hcn_slow n_tau_max</th>\n",
       "      <th>nap m_tau_delta</th>\n",
       "      <th>nap h_tau_delta</th>\n",
       "      <th>nat m_tau_delta</th>\n",
       "      <th>nat h_tau_delta</th>\n",
       "      <th>kdr n_tau_delta</th>\n",
       "      <th>hcn_slow n_tau_delta</th>\n",
       "    </tr>\n",
       "  </thead>\n",
       "  <tbody>\n",
       "    <tr>\n",
       "      <th>0</th>\n",
       "      <td>0.616485</td>\n",
       "      <td>-88.888691</td>\n",
       "      <td>-26.645328</td>\n",
       "      <td>0.000471</td>\n",
       "      <td>0.020111</td>\n",
       "      <td>0.232053</td>\n",
       "      <td>0.003153</td>\n",
       "      <td>0.000055</td>\n",
       "      <td>-51.665051</td>\n",
       "      <td>-90.981843</td>\n",
       "      <td>...</td>\n",
       "      <td>0.190930</td>\n",
       "      <td>8.145806</td>\n",
       "      <td>22.634366</td>\n",
       "      <td>124.001014</td>\n",
       "      <td>0.545596</td>\n",
       "      <td>0.342924</td>\n",
       "      <td>0.162071</td>\n",
       "      <td>0.500748</td>\n",
       "      <td>0.762061</td>\n",
       "      <td>0.239468</td>\n",
       "    </tr>\n",
       "    <tr>\n",
       "      <th>1</th>\n",
       "      <td>0.596823</td>\n",
       "      <td>-91.624451</td>\n",
       "      <td>-26.590991</td>\n",
       "      <td>0.000513</td>\n",
       "      <td>0.023565</td>\n",
       "      <td>0.168030</td>\n",
       "      <td>0.003484</td>\n",
       "      <td>0.000061</td>\n",
       "      <td>-48.355176</td>\n",
       "      <td>-88.851411</td>\n",
       "      <td>...</td>\n",
       "      <td>0.141218</td>\n",
       "      <td>7.836678</td>\n",
       "      <td>25.482275</td>\n",
       "      <td>63.337909</td>\n",
       "      <td>0.602264</td>\n",
       "      <td>0.380449</td>\n",
       "      <td>0.263240</td>\n",
       "      <td>0.403878</td>\n",
       "      <td>0.662505</td>\n",
       "      <td>0.245007</td>\n",
       "    </tr>\n",
       "    <tr>\n",
       "      <th>2</th>\n",
       "      <td>0.608955</td>\n",
       "      <td>-90.732285</td>\n",
       "      <td>-25.242958</td>\n",
       "      <td>0.000464</td>\n",
       "      <td>0.005876</td>\n",
       "      <td>0.052087</td>\n",
       "      <td>0.002710</td>\n",
       "      <td>0.000046</td>\n",
       "      <td>-60.010816</td>\n",
       "      <td>-83.212027</td>\n",
       "      <td>...</td>\n",
       "      <td>0.166599</td>\n",
       "      <td>8.195646</td>\n",
       "      <td>21.649134</td>\n",
       "      <td>200.302938</td>\n",
       "      <td>0.561893</td>\n",
       "      <td>0.507277</td>\n",
       "      <td>0.210160</td>\n",
       "      <td>0.480110</td>\n",
       "      <td>0.705982</td>\n",
       "      <td>0.217353</td>\n",
       "    </tr>\n",
       "    <tr>\n",
       "      <th>3</th>\n",
       "      <td>0.540574</td>\n",
       "      <td>-94.122529</td>\n",
       "      <td>-24.816305</td>\n",
       "      <td>0.000406</td>\n",
       "      <td>0.021301</td>\n",
       "      <td>0.225367</td>\n",
       "      <td>0.002515</td>\n",
       "      <td>0.000057</td>\n",
       "      <td>-42.871096</td>\n",
       "      <td>-77.229900</td>\n",
       "      <td>...</td>\n",
       "      <td>0.166070</td>\n",
       "      <td>8.270304</td>\n",
       "      <td>11.871889</td>\n",
       "      <td>129.665572</td>\n",
       "      <td>0.571574</td>\n",
       "      <td>0.534262</td>\n",
       "      <td>0.262775</td>\n",
       "      <td>0.528138</td>\n",
       "      <td>0.647706</td>\n",
       "      <td>0.224376</td>\n",
       "    </tr>\n",
       "    <tr>\n",
       "      <th>4</th>\n",
       "      <td>0.632373</td>\n",
       "      <td>-92.919817</td>\n",
       "      <td>-34.132161</td>\n",
       "      <td>0.000396</td>\n",
       "      <td>0.024663</td>\n",
       "      <td>0.118415</td>\n",
       "      <td>0.003418</td>\n",
       "      <td>0.000056</td>\n",
       "      <td>-54.678098</td>\n",
       "      <td>-75.422268</td>\n",
       "      <td>...</td>\n",
       "      <td>0.101789</td>\n",
       "      <td>8.379927</td>\n",
       "      <td>12.136184</td>\n",
       "      <td>161.569357</td>\n",
       "      <td>0.515033</td>\n",
       "      <td>0.469515</td>\n",
       "      <td>0.244417</td>\n",
       "      <td>0.382867</td>\n",
       "      <td>0.798568</td>\n",
       "      <td>0.269788</td>\n",
       "    </tr>\n",
       "  </tbody>\n",
       "</table>\n",
       "<p>5 rows × 38 columns</p>\n",
       "</div>"
      ],
      "text/plain": [
       "    soma cm      pas e  hcn_slow ehcn     pas g  nap gbar  nat gbar  kdr gbar  \\\n",
       "0  0.616485 -88.888691     -26.645328  0.000471  0.020111  0.232053  0.003153   \n",
       "1  0.596823 -91.624451     -26.590991  0.000513  0.023565  0.168030  0.003484   \n",
       "2  0.608955 -90.732285     -25.242958  0.000464  0.005876  0.052087  0.002710   \n",
       "3  0.540574 -94.122529     -24.816305  0.000406  0.021301  0.225367  0.002515   \n",
       "4  0.632373 -92.919817     -34.132161  0.000396  0.024663  0.118415  0.003418   \n",
       "\n",
       "   hcn_slow gbar   nap m_vh   nap h_vh          ...           nat m_tau_max  \\\n",
       "0       0.000055 -51.665051 -90.981843          ...                0.190930   \n",
       "1       0.000061 -48.355176 -88.851411          ...                0.141218   \n",
       "2       0.000046 -60.010816 -83.212027          ...                0.166599   \n",
       "3       0.000057 -42.871096 -77.229900          ...                0.166070   \n",
       "4       0.000056 -54.678098 -75.422268          ...                0.101789   \n",
       "\n",
       "   nat h_tau_max  kdr n_tau_max  hcn_slow n_tau_max  nap m_tau_delta  \\\n",
       "0       8.145806      22.634366          124.001014         0.545596   \n",
       "1       7.836678      25.482275           63.337909         0.602264   \n",
       "2       8.195646      21.649134          200.302938         0.561893   \n",
       "3       8.270304      11.871889          129.665572         0.571574   \n",
       "4       8.379927      12.136184          161.569357         0.515033   \n",
       "\n",
       "   nap h_tau_delta  nat m_tau_delta  nat h_tau_delta  kdr n_tau_delta  \\\n",
       "0         0.342924         0.162071         0.500748         0.762061   \n",
       "1         0.380449         0.263240         0.403878         0.662505   \n",
       "2         0.507277         0.210160         0.480110         0.705982   \n",
       "3         0.534262         0.262775         0.528138         0.647706   \n",
       "4         0.469515         0.244417         0.382867         0.798568   \n",
       "\n",
       "   hcn_slow n_tau_delta  \n",
       "0              0.239468  \n",
       "1              0.245007  \n",
       "2              0.217353  \n",
       "3              0.224376  \n",
       "4              0.269788  \n",
       "\n",
       "[5 rows x 38 columns]"
      ]
     },
     "execution_count": 9,
     "metadata": {},
     "output_type": "execute_result"
    }
   ],
   "source": [
    "df = pd.DataFrame(data=candidate_mat, columns=parameters)\n",
    "df.head()"
   ]
  },
  {
   "cell_type": "code",
   "execution_count": 10,
   "metadata": {},
   "outputs": [],
   "source": [
    "labels = ['gbar_nap', 'gbar_leak', 'gbar_nat', 'gbar_kdr', 'gbar_hcn',\n",
    "          'nap_h_tau_max', 'nap_h_vs', 'nap_m_tau_max', 'nap_m_vs',\n",
    "          'kdr_n_tau_max', 'kdr_n_vs']"
   ]
  },
  {
   "cell_type": "markdown",
   "metadata": {},
   "source": [
    "### Comments:\n",
    "* leak gbar is missing"
   ]
  },
  {
   "cell_type": "code",
   "execution_count": 11,
   "metadata": {},
   "outputs": [
    {
     "data": {
      "text/plain": [
       "array(['soma cm', 'pas e', 'hcn_slow ehcn', 'pas g', 'nap gbar',\n",
       "       'nat gbar', 'kdr gbar', 'hcn_slow gbar', 'nap m_vh', 'nap h_vh',\n",
       "       'nat m_vh', 'nat h_vh', 'kdr n_vh', 'hcn_slow n_vh', 'nap m_vs',\n",
       "       'nap h_vs', 'nat m_vs', 'nat h_vs', 'kdr n_vs', 'hcn_slow n_vs',\n",
       "       'nap m_tau_min', 'nap h_tau_min', 'nat m_tau_min', 'nat h_tau_min',\n",
       "       'kdr n_tau_min', 'hcn_slow n_tau_min', 'nap m_tau_max',\n",
       "       'nap h_tau_max', 'nat m_tau_max', 'nat h_tau_max', 'kdr n_tau_max',\n",
       "       'hcn_slow n_tau_max', 'nap m_tau_delta', 'nap h_tau_delta',\n",
       "       'nat m_tau_delta', 'nat h_tau_delta', 'kdr n_tau_delta',\n",
       "       'hcn_slow n_tau_delta'], dtype='<U20')"
      ]
     },
     "execution_count": 11,
     "metadata": {},
     "output_type": "execute_result"
    }
   ],
   "source": [
    "parameters"
   ]
  },
  {
   "cell_type": "code",
   "execution_count": 12,
   "metadata": {},
   "outputs": [],
   "source": [
    "labels_corr = [ 'nap gbar', 'nat gbar', 'kdr gbar', 'hcn_slow gbar', 'nap h_tau_max', 'nap h_vs', 'nap m_tau_max', 'nap m_vs', 'kdr n_tau_max', 'kdr n_vs']"
   ]
  },
  {
   "cell_type": "markdown",
   "metadata": {},
   "source": [
    "## Get a subset dataframe of only the important parameters"
   ]
  },
  {
   "cell_type": "code",
   "execution_count": 13,
   "metadata": {},
   "outputs": [
    {
     "data": {
      "text/html": [
       "<div>\n",
       "<style scoped>\n",
       "    .dataframe tbody tr th:only-of-type {\n",
       "        vertical-align: middle;\n",
       "    }\n",
       "\n",
       "    .dataframe tbody tr th {\n",
       "        vertical-align: top;\n",
       "    }\n",
       "\n",
       "    .dataframe thead th {\n",
       "        text-align: right;\n",
       "    }\n",
       "</style>\n",
       "<table border=\"1\" class=\"dataframe\">\n",
       "  <thead>\n",
       "    <tr style=\"text-align: right;\">\n",
       "      <th></th>\n",
       "      <th>nap gbar</th>\n",
       "      <th>nat gbar</th>\n",
       "      <th>kdr gbar</th>\n",
       "      <th>hcn_slow gbar</th>\n",
       "      <th>nap h_tau_max</th>\n",
       "      <th>nap h_vs</th>\n",
       "      <th>nap m_tau_max</th>\n",
       "      <th>nap m_vs</th>\n",
       "      <th>kdr n_tau_max</th>\n",
       "      <th>kdr n_vs</th>\n",
       "    </tr>\n",
       "  </thead>\n",
       "  <tbody>\n",
       "    <tr>\n",
       "      <th>0</th>\n",
       "      <td>0.020111</td>\n",
       "      <td>0.232053</td>\n",
       "      <td>0.003153</td>\n",
       "      <td>0.000055</td>\n",
       "      <td>16.332823</td>\n",
       "      <td>-12.690311</td>\n",
       "      <td>11.720596</td>\n",
       "      <td>17.751735</td>\n",
       "      <td>22.634366</td>\n",
       "      <td>20.010466</td>\n",
       "    </tr>\n",
       "    <tr>\n",
       "      <th>1</th>\n",
       "      <td>0.023565</td>\n",
       "      <td>0.168030</td>\n",
       "      <td>0.003484</td>\n",
       "      <td>0.000061</td>\n",
       "      <td>8.235972</td>\n",
       "      <td>-10.606912</td>\n",
       "      <td>15.791822</td>\n",
       "      <td>8.723055</td>\n",
       "      <td>25.482275</td>\n",
       "      <td>19.769795</td>\n",
       "    </tr>\n",
       "    <tr>\n",
       "      <th>2</th>\n",
       "      <td>0.005876</td>\n",
       "      <td>0.052087</td>\n",
       "      <td>0.002710</td>\n",
       "      <td>0.000046</td>\n",
       "      <td>6.548112</td>\n",
       "      <td>-19.615674</td>\n",
       "      <td>7.653676</td>\n",
       "      <td>6.919458</td>\n",
       "      <td>21.649134</td>\n",
       "      <td>18.672183</td>\n",
       "    </tr>\n",
       "    <tr>\n",
       "      <th>3</th>\n",
       "      <td>0.021301</td>\n",
       "      <td>0.225367</td>\n",
       "      <td>0.002515</td>\n",
       "      <td>0.000057</td>\n",
       "      <td>9.998991</td>\n",
       "      <td>-12.109257</td>\n",
       "      <td>22.898534</td>\n",
       "      <td>14.834796</td>\n",
       "      <td>11.871889</td>\n",
       "      <td>13.862445</td>\n",
       "    </tr>\n",
       "    <tr>\n",
       "      <th>4</th>\n",
       "      <td>0.024663</td>\n",
       "      <td>0.118415</td>\n",
       "      <td>0.003418</td>\n",
       "      <td>0.000056</td>\n",
       "      <td>11.737879</td>\n",
       "      <td>-10.059995</td>\n",
       "      <td>10.310122</td>\n",
       "      <td>15.075959</td>\n",
       "      <td>12.136184</td>\n",
       "      <td>13.999521</td>\n",
       "    </tr>\n",
       "  </tbody>\n",
       "</table>\n",
       "</div>"
      ],
      "text/plain": [
       "   nap gbar  nat gbar  kdr gbar  hcn_slow gbar  nap h_tau_max   nap h_vs  \\\n",
       "0  0.020111  0.232053  0.003153       0.000055      16.332823 -12.690311   \n",
       "1  0.023565  0.168030  0.003484       0.000061       8.235972 -10.606912   \n",
       "2  0.005876  0.052087  0.002710       0.000046       6.548112 -19.615674   \n",
       "3  0.021301  0.225367  0.002515       0.000057       9.998991 -12.109257   \n",
       "4  0.024663  0.118415  0.003418       0.000056      11.737879 -10.059995   \n",
       "\n",
       "   nap m_tau_max   nap m_vs  kdr n_tau_max   kdr n_vs  \n",
       "0      11.720596  17.751735      22.634366  20.010466  \n",
       "1      15.791822   8.723055      25.482275  19.769795  \n",
       "2       7.653676   6.919458      21.649134  18.672183  \n",
       "3      22.898534  14.834796      11.871889  13.862445  \n",
       "4      10.310122  15.075959      12.136184  13.999521  "
      ]
     },
     "execution_count": 13,
     "metadata": {},
     "output_type": "execute_result"
    }
   ],
   "source": [
    "df_selected = df[labels_corr]\n",
    "df_selected.head()"
   ]
  },
  {
   "cell_type": "markdown",
   "metadata": {},
   "source": [
    "### Find Minima and Maxima of the selected dataframe"
   ]
  },
  {
   "cell_type": "code",
   "execution_count": 14,
   "metadata": {},
   "outputs": [],
   "source": [
    "df_min = df_selected.min()\n",
    "df_max = df_selected.max()"
   ]
  },
  {
   "cell_type": "code",
   "execution_count": 15,
   "metadata": {},
   "outputs": [
    {
     "data": {
      "image/png": "[encoded data removed]",
      "text/plain": [
       "<Figure size 1440x504 with 10 Axes>"
      ]
     },
     "metadata": {},
     "output_type": "display_data"
    }
   ],
   "source": [
    "s = 5 \n",
    "fig, axes = plt.subplots(nrows=2, ncols=s, figsize=(20,7))\n",
    "\n",
    "for i, col in enumerate(df_selected.columns):\n",
    "    j = int(np.floor(i/s))\n",
    "    k = i%s\n",
    "    \n",
    "    sns.distplot(df_selected[col], ax=axes[j, k])\n",
    "    axes[j, k].axvline(df_min[col], c='g', alpha=0.5)\n",
    "    axes[j, k].axvline(df_max[col], c='r', alpha=0.5)"
   ]
  },
  {
   "cell_type": "code",
   "execution_count": 16,
   "metadata": {},
   "outputs": [],
   "source": [
    "df_range = np.concatenate((df_min, df_max))"
   ]
  },
  {
   "cell_type": "code",
   "execution_count": 17,
   "metadata": {},
   "outputs": [
    {
     "data": {
      "text/plain": [
       "array([[  0.0053,   0.042 ,   0.0021,   0.    ,   3.6612, -29.187 ,\n",
       "          5.3794,   6.1161,  11.2869,   8.8477],\n",
       "       [  0.0253,   0.2419,   0.0041,   0.0001,  23.6525,  -9.1942,\n",
       "         25.3259,  26.0367,  31.2848,  28.8409]])"
      ]
     },
     "execution_count": 17,
     "metadata": {},
     "output_type": "execute_result"
    }
   ],
   "source": [
    "np.set_printoptions(precision=4, suppress=True)\n",
    "df_range.reshape(2,10)"
   ]
  },
  {
   "cell_type": "markdown",
   "metadata": {},
   "source": [
    "### Get the right values for the ranges"
   ]
  },
  {
   "cell_type": "code",
   "execution_count": 18,
   "metadata": {},
   "outputs": [
    {
     "data": {
      "text/plain": [
       "nap gbar          0.025264\n",
       "nat gbar          0.241855\n",
       "kdr gbar          0.004125\n",
       "hcn_slow gbar     0.000063\n",
       "nap h_tau_max    23.652543\n",
       "nap h_vs         -9.194209\n",
       "nap m_tau_max    25.325943\n",
       "nap m_vs         26.036685\n",
       "kdr n_tau_max    31.284760\n",
       "kdr n_vs         28.840857\n",
       "dtype: float64"
      ]
     },
     "execution_count": 18,
     "metadata": {},
     "output_type": "execute_result"
    }
   ],
   "source": [
    "df_max "
   ]
  },
  {
   "cell_type": "code",
   "execution_count": 19,
   "metadata": {},
   "outputs": [
    {
     "data": {
      "text/plain": [
       "nap gbar          0.005273\n",
       "nat gbar          0.041952\n",
       "kdr gbar          0.002125\n",
       "hcn_slow gbar     0.000043\n",
       "nap h_tau_max     3.661207\n",
       "nap h_vs        -29.187046\n",
       "nap m_tau_max     5.379366\n",
       "nap m_vs          6.116066\n",
       "kdr n_tau_max    11.286899\n",
       "kdr n_vs          8.847706\n",
       "dtype: float64"
      ]
     },
     "execution_count": 19,
     "metadata": {},
     "output_type": "execute_result"
    }
   ],
   "source": [
    "df_min"
   ]
  },
  {
   "cell_type": "code",
   "execution_count": 20,
   "metadata": {},
   "outputs": [
    {
     "data": {
      "text/html": [
       "<div>\n",
       "<style scoped>\n",
       "    .dataframe tbody tr th:only-of-type {\n",
       "        vertical-align: middle;\n",
       "    }\n",
       "\n",
       "    .dataframe tbody tr th {\n",
       "        vertical-align: top;\n",
       "    }\n",
       "\n",
       "    .dataframe thead th {\n",
       "        text-align: right;\n",
       "    }\n",
       "</style>\n",
       "<table border=\"1\" class=\"dataframe\">\n",
       "  <thead>\n",
       "    <tr style=\"text-align: right;\">\n",
       "      <th></th>\n",
       "      <th>nap gbar</th>\n",
       "      <th>nat gbar</th>\n",
       "      <th>kdr gbar</th>\n",
       "      <th>hcn_slow gbar</th>\n",
       "      <th>nap h_tau_max</th>\n",
       "      <th>nap h_vs</th>\n",
       "      <th>nap m_tau_max</th>\n",
       "      <th>nap m_vs</th>\n",
       "      <th>kdr n_tau_max</th>\n",
       "      <th>kdr n_vs</th>\n",
       "    </tr>\n",
       "  </thead>\n",
       "  <tbody>\n",
       "    <tr>\n",
       "      <th>min</th>\n",
       "      <td>0.005273</td>\n",
       "      <td>0.041952</td>\n",
       "      <td>0.002125</td>\n",
       "      <td>0.000043</td>\n",
       "      <td>3.661207</td>\n",
       "      <td>-29.187046</td>\n",
       "      <td>5.379366</td>\n",
       "      <td>6.116066</td>\n",
       "      <td>11.286899</td>\n",
       "      <td>8.847706</td>\n",
       "    </tr>\n",
       "    <tr>\n",
       "      <th>max</th>\n",
       "      <td>0.025264</td>\n",
       "      <td>0.241855</td>\n",
       "      <td>0.004125</td>\n",
       "      <td>0.000063</td>\n",
       "      <td>23.652543</td>\n",
       "      <td>-9.194209</td>\n",
       "      <td>25.325943</td>\n",
       "      <td>26.036685</td>\n",
       "      <td>31.284760</td>\n",
       "      <td>28.840857</td>\n",
       "    </tr>\n",
       "  </tbody>\n",
       "</table>\n",
       "</div>"
      ],
      "text/plain": [
       "     nap gbar  nat gbar  kdr gbar  hcn_slow gbar  nap h_tau_max   nap h_vs  \\\n",
       "min  0.005273  0.041952  0.002125       0.000043       3.661207 -29.187046   \n",
       "max  0.025264  0.241855  0.004125       0.000063      23.652543  -9.194209   \n",
       "\n",
       "     nap m_tau_max   nap m_vs  kdr n_tau_max   kdr n_vs  \n",
       "min       5.379366   6.116066      11.286899   8.847706  \n",
       "max      25.325943  26.036685      31.284760  28.840857  "
      ]
     },
     "execution_count": 20,
     "metadata": {},
     "output_type": "execute_result"
    }
   ],
   "source": [
    "df_range = pd.DataFrame(data=[df_min, df_max], index=['min', 'max'])\n",
    "df_range"
   ]
  },
  {
   "cell_type": "code",
   "execution_count": 21,
   "metadata": {},
   "outputs": [],
   "source": [
    "df_range = df_range.transpose()"
   ]
  },
  {
   "cell_type": "code",
   "execution_count": 22,
   "metadata": {},
   "outputs": [
    {
     "data": {
      "text/html": [
       "<div>\n",
       "<style scoped>\n",
       "    .dataframe tbody tr th:only-of-type {\n",
       "        vertical-align: middle;\n",
       "    }\n",
       "\n",
       "    .dataframe tbody tr th {\n",
       "        vertical-align: top;\n",
       "    }\n",
       "\n",
       "    .dataframe thead th {\n",
       "        text-align: right;\n",
       "    }\n",
       "</style>\n",
       "<table border=\"1\" class=\"dataframe\">\n",
       "  <thead>\n",
       "    <tr style=\"text-align: right;\">\n",
       "      <th></th>\n",
       "      <th>min</th>\n",
       "      <th>max</th>\n",
       "      <th>subs</th>\n",
       "    </tr>\n",
       "  </thead>\n",
       "  <tbody>\n",
       "    <tr>\n",
       "      <th>nap gbar</th>\n",
       "      <td>0.005273</td>\n",
       "      <td>0.025264</td>\n",
       "      <td>0.019991</td>\n",
       "    </tr>\n",
       "    <tr>\n",
       "      <th>nat gbar</th>\n",
       "      <td>0.041952</td>\n",
       "      <td>0.241855</td>\n",
       "      <td>0.199903</td>\n",
       "    </tr>\n",
       "    <tr>\n",
       "      <th>kdr gbar</th>\n",
       "      <td>0.002125</td>\n",
       "      <td>0.004125</td>\n",
       "      <td>0.001999</td>\n",
       "    </tr>\n",
       "    <tr>\n",
       "      <th>hcn_slow gbar</th>\n",
       "      <td>0.000043</td>\n",
       "      <td>0.000063</td>\n",
       "      <td>0.000020</td>\n",
       "    </tr>\n",
       "    <tr>\n",
       "      <th>nap h_tau_max</th>\n",
       "      <td>3.661207</td>\n",
       "      <td>23.652543</td>\n",
       "      <td>19.991336</td>\n",
       "    </tr>\n",
       "    <tr>\n",
       "      <th>nap h_vs</th>\n",
       "      <td>-29.187046</td>\n",
       "      <td>-9.194209</td>\n",
       "      <td>19.992837</td>\n",
       "    </tr>\n",
       "    <tr>\n",
       "      <th>nap m_tau_max</th>\n",
       "      <td>5.379366</td>\n",
       "      <td>25.325943</td>\n",
       "      <td>19.946577</td>\n",
       "    </tr>\n",
       "    <tr>\n",
       "      <th>nap m_vs</th>\n",
       "      <td>6.116066</td>\n",
       "      <td>26.036685</td>\n",
       "      <td>19.920620</td>\n",
       "    </tr>\n",
       "    <tr>\n",
       "      <th>kdr n_tau_max</th>\n",
       "      <td>11.286899</td>\n",
       "      <td>31.284760</td>\n",
       "      <td>19.997861</td>\n",
       "    </tr>\n",
       "    <tr>\n",
       "      <th>kdr n_vs</th>\n",
       "      <td>8.847706</td>\n",
       "      <td>28.840857</td>\n",
       "      <td>19.993151</td>\n",
       "    </tr>\n",
       "  </tbody>\n",
       "</table>\n",
       "</div>"
      ],
      "text/plain": [
       "                     min        max       subs\n",
       "nap gbar        0.005273   0.025264   0.019991\n",
       "nat gbar        0.041952   0.241855   0.199903\n",
       "kdr gbar        0.002125   0.004125   0.001999\n",
       "hcn_slow gbar   0.000043   0.000063   0.000020\n",
       "nap h_tau_max   3.661207  23.652543  19.991336\n",
       "nap h_vs      -29.187046  -9.194209  19.992837\n",
       "nap m_tau_max   5.379366  25.325943  19.946577\n",
       "nap m_vs        6.116066  26.036685  19.920620\n",
       "kdr n_tau_max  11.286899  31.284760  19.997861\n",
       "kdr n_vs        8.847706  28.840857  19.993151"
      ]
     },
     "execution_count": 22,
     "metadata": {},
     "output_type": "execute_result"
    }
   ],
   "source": [
    "df_range['subs'] = df_range['max'] - df_range['min']\n",
    "df_range"
   ]
  },
  {
   "cell_type": "code",
   "execution_count": 23,
   "metadata": {},
   "outputs": [
    {
     "data": {
      "text/html": [
       "<div>\n",
       "<style scoped>\n",
       "    .dataframe tbody tr th:only-of-type {\n",
       "        vertical-align: middle;\n",
       "    }\n",
       "\n",
       "    .dataframe tbody tr th {\n",
       "        vertical-align: top;\n",
       "    }\n",
       "\n",
       "    .dataframe thead th {\n",
       "        text-align: right;\n",
       "    }\n",
       "</style>\n",
       "<table border=\"1\" class=\"dataframe\">\n",
       "  <thead>\n",
       "    <tr style=\"text-align: right;\">\n",
       "      <th></th>\n",
       "      <th>min</th>\n",
       "      <th>max</th>\n",
       "      <th>subs</th>\n",
       "      <th>10_per</th>\n",
       "    </tr>\n",
       "  </thead>\n",
       "  <tbody>\n",
       "    <tr>\n",
       "      <th>nap gbar</th>\n",
       "      <td>0.005273</td>\n",
       "      <td>0.025264</td>\n",
       "      <td>0.019991</td>\n",
       "      <td>0.001999</td>\n",
       "    </tr>\n",
       "    <tr>\n",
       "      <th>nat gbar</th>\n",
       "      <td>0.041952</td>\n",
       "      <td>0.241855</td>\n",
       "      <td>0.199903</td>\n",
       "      <td>0.019990</td>\n",
       "    </tr>\n",
       "    <tr>\n",
       "      <th>kdr gbar</th>\n",
       "      <td>0.002125</td>\n",
       "      <td>0.004125</td>\n",
       "      <td>0.001999</td>\n",
       "      <td>0.000200</td>\n",
       "    </tr>\n",
       "    <tr>\n",
       "      <th>hcn_slow gbar</th>\n",
       "      <td>0.000043</td>\n",
       "      <td>0.000063</td>\n",
       "      <td>0.000020</td>\n",
       "      <td>0.000002</td>\n",
       "    </tr>\n",
       "    <tr>\n",
       "      <th>nap h_tau_max</th>\n",
       "      <td>3.661207</td>\n",
       "      <td>23.652543</td>\n",
       "      <td>19.991336</td>\n",
       "      <td>1.999134</td>\n",
       "    </tr>\n",
       "    <tr>\n",
       "      <th>nap h_vs</th>\n",
       "      <td>-29.187046</td>\n",
       "      <td>-9.194209</td>\n",
       "      <td>19.992837</td>\n",
       "      <td>1.999284</td>\n",
       "    </tr>\n",
       "    <tr>\n",
       "      <th>nap m_tau_max</th>\n",
       "      <td>5.379366</td>\n",
       "      <td>25.325943</td>\n",
       "      <td>19.946577</td>\n",
       "      <td>1.994658</td>\n",
       "    </tr>\n",
       "    <tr>\n",
       "      <th>nap m_vs</th>\n",
       "      <td>6.116066</td>\n",
       "      <td>26.036685</td>\n",
       "      <td>19.920620</td>\n",
       "      <td>1.992062</td>\n",
       "    </tr>\n",
       "    <tr>\n",
       "      <th>kdr n_tau_max</th>\n",
       "      <td>11.286899</td>\n",
       "      <td>31.284760</td>\n",
       "      <td>19.997861</td>\n",
       "      <td>1.999786</td>\n",
       "    </tr>\n",
       "    <tr>\n",
       "      <th>kdr n_vs</th>\n",
       "      <td>8.847706</td>\n",
       "      <td>28.840857</td>\n",
       "      <td>19.993151</td>\n",
       "      <td>1.999315</td>\n",
       "    </tr>\n",
       "  </tbody>\n",
       "</table>\n",
       "</div>"
      ],
      "text/plain": [
       "                     min        max       subs    10_per\n",
       "nap gbar        0.005273   0.025264   0.019991  0.001999\n",
       "nat gbar        0.041952   0.241855   0.199903  0.019990\n",
       "kdr gbar        0.002125   0.004125   0.001999  0.000200\n",
       "hcn_slow gbar   0.000043   0.000063   0.000020  0.000002\n",
       "nap h_tau_max   3.661207  23.652543  19.991336  1.999134\n",
       "nap h_vs      -29.187046  -9.194209  19.992837  1.999284\n",
       "nap m_tau_max   5.379366  25.325943  19.946577  1.994658\n",
       "nap m_vs        6.116066  26.036685  19.920620  1.992062\n",
       "kdr n_tau_max  11.286899  31.284760  19.997861  1.999786\n",
       "kdr n_vs        8.847706  28.840857  19.993151  1.999315"
      ]
     },
     "execution_count": 23,
     "metadata": {},
     "output_type": "execute_result"
    }
   ],
   "source": [
    "df_range['10_per'] = 0.1 *  df_range['subs']\n",
    "df_range"
   ]
  },
  {
   "cell_type": "code",
   "execution_count": 24,
   "metadata": {},
   "outputs": [],
   "source": [
    "# df_range['new_min'] = df_range['min'].map(np.sign) * (np.abs(df_range['min']) - np.abs(df_range['10_per']))\n",
    "# df_range['new_max'] = df_range['max'].map(np.sign) * (np.abs(df_range['max']) + np.abs(df_range['10_per']))\n",
    "# df_range"
   ]
  },
  {
   "cell_type": "code",
   "execution_count": 25,
   "metadata": {},
   "outputs": [
    {
     "data": {
      "text/html": [
       "<div>\n",
       "<style scoped>\n",
       "    .dataframe tbody tr th:only-of-type {\n",
       "        vertical-align: middle;\n",
       "    }\n",
       "\n",
       "    .dataframe tbody tr th {\n",
       "        vertical-align: top;\n",
       "    }\n",
       "\n",
       "    .dataframe thead th {\n",
       "        text-align: right;\n",
       "    }\n",
       "</style>\n",
       "<table border=\"1\" class=\"dataframe\">\n",
       "  <thead>\n",
       "    <tr style=\"text-align: right;\">\n",
       "      <th></th>\n",
       "      <th>min</th>\n",
       "      <th>max</th>\n",
       "      <th>subs</th>\n",
       "      <th>10_per</th>\n",
       "      <th>new_max</th>\n",
       "      <th>new_min</th>\n",
       "    </tr>\n",
       "  </thead>\n",
       "  <tbody>\n",
       "    <tr>\n",
       "      <th>nap gbar</th>\n",
       "      <td>0.005273</td>\n",
       "      <td>0.025264</td>\n",
       "      <td>0.019991</td>\n",
       "      <td>0.001999</td>\n",
       "      <td>0.027263</td>\n",
       "      <td>0.003274</td>\n",
       "    </tr>\n",
       "    <tr>\n",
       "      <th>nat gbar</th>\n",
       "      <td>0.041952</td>\n",
       "      <td>0.241855</td>\n",
       "      <td>0.199903</td>\n",
       "      <td>0.019990</td>\n",
       "      <td>0.261845</td>\n",
       "      <td>0.021962</td>\n",
       "    </tr>\n",
       "    <tr>\n",
       "      <th>kdr gbar</th>\n",
       "      <td>0.002125</td>\n",
       "      <td>0.004125</td>\n",
       "      <td>0.001999</td>\n",
       "      <td>0.000200</td>\n",
       "      <td>0.004325</td>\n",
       "      <td>0.001925</td>\n",
       "    </tr>\n",
       "    <tr>\n",
       "      <th>hcn_slow gbar</th>\n",
       "      <td>0.000043</td>\n",
       "      <td>0.000063</td>\n",
       "      <td>0.000020</td>\n",
       "      <td>0.000002</td>\n",
       "      <td>0.000065</td>\n",
       "      <td>0.000041</td>\n",
       "    </tr>\n",
       "    <tr>\n",
       "      <th>nap h_tau_max</th>\n",
       "      <td>3.661207</td>\n",
       "      <td>23.652543</td>\n",
       "      <td>19.991336</td>\n",
       "      <td>1.999134</td>\n",
       "      <td>25.651677</td>\n",
       "      <td>1.662074</td>\n",
       "    </tr>\n",
       "    <tr>\n",
       "      <th>nap h_vs</th>\n",
       "      <td>-29.187046</td>\n",
       "      <td>-9.194209</td>\n",
       "      <td>19.992837</td>\n",
       "      <td>1.999284</td>\n",
       "      <td>-7.194925</td>\n",
       "      <td>-31.186329</td>\n",
       "    </tr>\n",
       "    <tr>\n",
       "      <th>nap m_tau_max</th>\n",
       "      <td>5.379366</td>\n",
       "      <td>25.325943</td>\n",
       "      <td>19.946577</td>\n",
       "      <td>1.994658</td>\n",
       "      <td>27.320601</td>\n",
       "      <td>3.384709</td>\n",
       "    </tr>\n",
       "    <tr>\n",
       "      <th>nap m_vs</th>\n",
       "      <td>6.116066</td>\n",
       "      <td>26.036685</td>\n",
       "      <td>19.920620</td>\n",
       "      <td>1.992062</td>\n",
       "      <td>28.028747</td>\n",
       "      <td>4.124004</td>\n",
       "    </tr>\n",
       "    <tr>\n",
       "      <th>kdr n_tau_max</th>\n",
       "      <td>11.286899</td>\n",
       "      <td>31.284760</td>\n",
       "      <td>19.997861</td>\n",
       "      <td>1.999786</td>\n",
       "      <td>33.284546</td>\n",
       "      <td>9.287113</td>\n",
       "    </tr>\n",
       "    <tr>\n",
       "      <th>kdr n_vs</th>\n",
       "      <td>8.847706</td>\n",
       "      <td>28.840857</td>\n",
       "      <td>19.993151</td>\n",
       "      <td>1.999315</td>\n",
       "      <td>30.840173</td>\n",
       "      <td>6.848391</td>\n",
       "    </tr>\n",
       "  </tbody>\n",
       "</table>\n",
       "</div>"
      ],
      "text/plain": [
       "                     min        max       subs    10_per    new_max    new_min\n",
       "nap gbar        0.005273   0.025264   0.019991  0.001999   0.027263   0.003274\n",
       "nat gbar        0.041952   0.241855   0.199903  0.019990   0.261845   0.021962\n",
       "kdr gbar        0.002125   0.004125   0.001999  0.000200   0.004325   0.001925\n",
       "hcn_slow gbar   0.000043   0.000063   0.000020  0.000002   0.000065   0.000041\n",
       "nap h_tau_max   3.661207  23.652543  19.991336  1.999134  25.651677   1.662074\n",
       "nap h_vs      -29.187046  -9.194209  19.992837  1.999284  -7.194925 -31.186329\n",
       "nap m_tau_max   5.379366  25.325943  19.946577  1.994658  27.320601   3.384709\n",
       "nap m_vs        6.116066  26.036685  19.920620  1.992062  28.028747   4.124004\n",
       "kdr n_tau_max  11.286899  31.284760  19.997861  1.999786  33.284546   9.287113\n",
       "kdr n_vs        8.847706  28.840857  19.993151  1.999315  30.840173   6.848391"
      ]
     },
     "execution_count": 25,
     "metadata": {},
     "output_type": "execute_result"
    }
   ],
   "source": [
    "df_range['new_max'] =  df_range['max'] + df_range['10_per']\n",
    "df_range['new_min'] =  df_range['min'] - df_range['10_per']\n",
    "df_range"
   ]
  },
  {
   "cell_type": "code",
   "execution_count": 27,
   "metadata": {},
   "outputs": [
    {
     "data": {
      "text/plain": [
       "<xarray.Dataset>\n",
       "Dimensions:  (index: 10)\n",
       "Coordinates:\n",
       "  * index    (index) object 'nap gbar' 'nat gbar' 'kdr gbar' 'hcn_slow gbar' ...\n",
       "Data variables:\n",
       "    min      (index) float64 0.005273 0.04195 0.002125 4.322e-05 3.661 ...\n",
       "    max      (index) float64 0.02526 0.2419 0.004125 6.319e-05 23.65 -9.194 ...\n",
       "    subs     (index) float64 0.01999 0.1999 0.001999 1.997e-05 19.99 19.99 ...\n",
       "    10_per   (index) float64 0.001999 0.01999 0.0001999 1.997e-06 1.999 ...\n",
       "    new_max  (index) float64 0.02726 0.2618 0.004325 6.519e-05 25.65 -7.195 ...\n",
       "    new_min  (index) float64 0.003274 0.02196 0.001925 4.123e-05 1.662 ..."
      ]
     },
     "execution_count": 27,
     "metadata": {},
     "output_type": "execute_result"
    }
   ],
   "source": [
    "df_range.to_xarray()"
   ]
  },
  {
   "cell_type": "code",
   "execution_count": 28,
   "metadata": {},
   "outputs": [
    {
     "data": {
      "text/plain": [
       "nap gbar          0.003274\n",
       "nat gbar          0.021962\n",
       "kdr gbar          0.001925\n",
       "hcn_slow gbar     0.000041\n",
       "nap h_tau_max     1.662074\n",
       "nap h_vs        -31.186329\n",
       "nap m_tau_max     3.384709\n",
       "nap m_vs          4.124004\n",
       "kdr n_tau_max     9.287113\n",
       "kdr n_vs          6.848391\n",
       "Name: new_min, dtype: float64"
      ]
     },
     "execution_count": 28,
     "metadata": {},
     "output_type": "execute_result"
    }
   ],
   "source": [
    "df_range.new_min"
   ]
  },
  {
   "cell_type": "code",
   "execution_count": 29,
   "metadata": {},
   "outputs": [
    {
     "data": {
      "text/plain": [
       "nap gbar          0.027263\n",
       "nat gbar          0.261845\n",
       "kdr gbar          0.004325\n",
       "hcn_slow gbar     0.000065\n",
       "nap h_tau_max    25.651677\n",
       "nap h_vs         -7.194925\n",
       "nap m_tau_max    27.320601\n",
       "nap m_vs         28.028747\n",
       "kdr n_tau_max    33.284546\n",
       "kdr n_vs         30.840173\n",
       "Name: new_max, dtype: float64"
      ]
     },
     "execution_count": 29,
     "metadata": {},
     "output_type": "execute_result"
    }
   ],
   "source": [
    "df_range.new_max"
   ]
  }
 ],
 "metadata": {
  "kernelspec": {
   "display_name": "Python 3",
   "language": "python",
   "name": "python3"
  },
  "language_info": {
   "codemirror_mode": {
    "name": "ipython",
    "version": 3
   },
   "file_extension": ".py",
   "mimetype": "text/x-python",
   "name": "python",
   "nbconvert_exporter": "python",
   "pygments_lexer": "ipython3",
   "version": "3.6.8"
  }
 },
 "nbformat": 4,
 "nbformat_minor": 2
}
