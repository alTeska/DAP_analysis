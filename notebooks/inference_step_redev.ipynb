{
 "cells": [
  {
   "cell_type": "code",
   "execution_count": 1,
   "metadata": {},
   "outputs": [],
   "source": [
    "import os\n",
    "import pandas as pd\n",
    "import numpy as np\n",
    "import matplotlib.pyplot as plt\n",
    "os.chdir('../')"
   ]
  },
  {
   "cell_type": "code",
   "execution_count": 2,
   "metadata": {},
   "outputs": [],
   "source": [
    "from utils_analysis import logs_to_plot\n",
    "\n",
    "from delfi.distribution import Uniform\n",
    "from delfi.generator import Default\n",
    "from delfi.inference import SNPE  # , Basic, CDELFI\n",
    "\n",
    "from dap.utils import (obs_params, syn_obs_stats, syn_obs_data,\n",
    "                       load_current, load_prior_ranges)\n",
    "from dap.dap_sumstats_moments import DAPSummaryStatsMoments\n",
    "from dap.dap_simulator import DAPSimulator\n",
    "from dap import DAPcython"
   ]
  },
  {
   "cell_type": "code",
   "execution_count": 3,
   "metadata": {},
   "outputs": [],
   "source": [
    "# General Settings Pick\n",
    "name = '_test_step_save'\n",
    "directory = 'pickle/dap_model' + name\n",
    "direct_out = 'plots/dap_models' + name + '/'\n",
    "\n",
    "n_hiddens = [6]\n",
    "n_samples = 1000\n",
    "n_rounds = 1\n",
    "n_params = 2\n",
    "\n",
    "n_summary = 17\n",
    "n_components = 1\n",
    "reg_lambda = 0.01"
   ]
  },
  {
   "cell_type": "code",
   "execution_count": 4,
   "metadata": {},
   "outputs": [],
   "source": [
    "# picking experiments observables\n",
    "observables = {'loss.lprobs', 'imputation_values', 'h1.mW', 'h1.mb', 'h2.mW',\n",
    "               'h2.mb', 'weights.mW', 'weights.mb', 'means.mW0', 'means.mW1',\n",
    "               'means.mb0', 'means.mb1', 'precisions.mW0', 'precisions.mW1',\n",
    "               'precisions.mb0', 'precisions.mb1'}"
   ]
  },
  {
   "cell_type": "code",
   "execution_count": null,
   "metadata": {},
   "outputs": [],
   "source": [
    "# Load the current\n",
    "data_dir = '/home/alteska/Desktop/LFI_DAP/data/rawData/2015_08_26b.dat'    # best cell\n",
    "protocol = 'rampIV' # 'IV' # 'rampIV' # 'Zap20'\n",
    "ramp_amp = 3.1\n",
    "I, v, t, t_on, t_off, dt = load_current(data_dir, protocol=protocol, ramp_amp=ramp_amp)\n",
    "I_step, v_step, t_step, t_on_step, t_off_step, dt_step = load_current(data_dir, protocol='IV', ramp_amp=1)\n",
    "Istep = I_step[2500:18700]\n",
    "vstep = v_step[2500:18700]"
   ]
  },
  {
   "cell_type": "code",
   "execution_count": null,
   "metadata": {},
   "outputs": [],
   "source": [
    "# Set up themodel\n",
    "params, labels = obs_params(reduced_model=True)\n",
    "dap = DAPcython(-75, params)\n",
    "U = dap.simulate(dt, t, I)\n",
    "U_step = dap.simulate(dt_step, t_step, Istep)"
   ]
  },
  {
   "cell_type": "code",
   "execution_count": null,
   "metadata": {},
   "outputs": [],
   "source": [
    "# generate data format for SNPE / OBSERVABLE\n",
    "x_o = {'data': v.reshape(-1),\n",
    "       'time': t,\n",
    "       'dt': dt,\n",
    "       'I': I}"
   ]
  },
  {
   "cell_type": "code",
   "execution_count": null,
   "metadata": {},
   "outputs": [
    {
     "name": "stdout",
     "output_type": "stream",
     "text": [
      "[3.274 0.1  ] [27.263  2.   ] ['gbar_nap', 'gbar_leak']\n"
     ]
    }
   ],
   "source": [
    "# Setup Priors\n",
    "prior_min, prior_max, labels = load_prior_ranges(n_params)\n",
    "prior_unif = Uniform(lower=prior_min, upper=prior_max)\n",
    "print(prior_min, prior_max, labels)"
   ]
  },
  {
   "cell_type": "code",
   "execution_count": null,
   "metadata": {},
   "outputs": [],
   "source": [
    "# Summary Statistics\n",
    "S = syn_obs_stats(x_o['I'], params=params, dt=x_o['dt'], t_on=t_on, t_off=t_off,\n",
    "                  n_summary=n_summary, summary_stats=0, data=x_o)\n",
    "\n",
    "M = DAPSimulator(x_o['I'], x_o['dt'], -75)\n",
    "\n",
    "s = DAPSummaryStatsMoments(t_on, t_off, n_summary=n_summary)\n",
    "G = Default(model=M, prior=prior_unif, summary=s)  # Generator"
   ]
  },
  {
   "cell_type": "code",
   "execution_count": null,
   "metadata": {},
   "outputs": [],
   "source": [
    "# Runing the simulation\n",
    "inf_snpe = SNPE(generator=G, n_components=n_components, n_hiddens=n_hiddens, obs=S,\n",
    "                reg_lambda=reg_lambda, pilot_samples=0)"
   ]
  },
  {
   "cell_type": "code",
   "execution_count": null,
   "metadata": {},
   "outputs": [
    {
     "name": "stdout",
     "output_type": "stream",
     "text": [
      "obs (1, 12)\n",
      "mean (1, 12)\n",
      "std (12,)\n"
     ]
    }
   ],
   "source": [
    "# inf_snpe.centre_on_obs()\n",
    "# inf_snpe.conditional_norm()\n",
    "inf_snpe.standardize_init()"
   ]
  },
  {
   "cell_type": "code",
   "execution_count": null,
   "metadata": {},
   "outputs": [
    {
     "name": "stderr",
     "output_type": "stream",
     "text": [
      "Draw parameters (round 1) : 100%|██████████| 1000/1000 [00:00<00:00, 23751.65it/s]\n",
      "Run simulations (round 1) :  72%|███████▏  | 719/1000 [05:42<02:01,  2.31it/s]"
     ]
    }
   ],
   "source": [
    "logs, tds, posteriors = inf_snpe.run(n_train=[n_samples], n_rounds=n_rounds,\n",
    "                                     proposal=prior_unif, monitor=observables)"
   ]
  },
  {
   "cell_type": "code",
   "execution_count": null,
   "metadata": {},
   "outputs": [],
   "source": [
    "logs2, tds2, posteriors2 = inf_snpe.run(n_train=[n_samples], n_rounds=n_rounds,\n",
    "                                     proposal=prior_unif, monitor=observables)"
   ]
  },
  {
   "cell_type": "code",
   "execution_count": null,
   "metadata": {},
   "outputs": [],
   "source": [
    "# Analyse results\n",
    "samples_prior = prior_unif.gen(n_samples=int(5e5))\n",
    "samples_posterior = posteriors[-1].gen(n_samples=int(5e5))\n",
    "\n",
    "print('posterior:', posteriors[-1].mean)\n",
    "\n",
    "x_post = syn_obs_data(I, dt, posteriors[-1].mean)\n",
    "x_post_step = syn_obs_data(I_step, dt, posteriors[-1].mean)\n",
    "\n",
    "idx = np.arange(0, len(x_o['data']))"
   ]
  },
  {
   "cell_type": "code",
   "execution_count": null,
   "metadata": {},
   "outputs": [],
   "source": [
    "# Analyse results\n",
    "samples_posterior2 = posteriors2[-1].gen(n_samples=int(5e5))\n",
    "\n",
    "print('posterior:', posteriors2[-1].mean)\n",
    "\n",
    "x_post2 = syn_obs_data(I, dt, posteriors2[-1].mean)\n",
    "x_post_step2 = syn_obs_data(I_step, dt, posteriors[-1].mean)\n"
   ]
  },
  {
   "cell_type": "code",
   "execution_count": null,
   "metadata": {},
   "outputs": [],
   "source": [
    "# Create Plots\n",
    "simulation, axes = plt.subplots(3, 1, figsize=(16,14))\n",
    "axes[0].plot(idx, x_o['I'], c='g', label='goal')\n",
    "axes[0].plot(idx, x_post['I'], label='posterior')\n",
    "axes[0].set_title('current')\n",
    "axes[0].legend()\n",
    "\n",
    "axes[1].plot(idx, x_o['data'], c='g', label='goal')\n",
    "axes[1].plot(idx, x_post['data'], c='b', label='posterior')\n",
    "axes[1].plot(idx, x_post2['data'], label='posterior2')\n",
    "axes[1].plot(idx, U, c='pink', label='best fit')\n",
    "axes[1].set_title('Voltage trace')\n",
    "axes[1].legend()\n",
    "\n",
    "axes[2].plot(t_step, v_step, c='g', label='goal')\n",
    "axes[2].plot(t_step, x_post_step['data'], c='b', label='posterior')\n",
    "axes[2].plot(t_step, x_post_step2['data'], label='posterior2')\n",
    "axes[2].plot(t_step, U_step, c='pink', label='best fit')\n",
    "axes[2].set_title('Voltage trace step current')\n",
    "axes[2].legend()"
   ]
  },
  {
   "cell_type": "code",
   "execution_count": null,
   "metadata": {},
   "outputs": [],
   "source": [
    "distr_comb, axes = plt.subplots(nrows=n_params, figsize=(20, 16))\n",
    "for ii, l in enumerate(labels):\n",
    "\n",
    "    axes[ii].hist(samples_prior[:, ii], bins='auto', label='prior')\n",
    "    axes[ii].hist(samples_posterior[:, ii], bins='auto', label='posterior')\n",
    "\n",
    "    axes[ii].set_title(l)\n",
    "    axes[ii].annotate(l+': '+str(round(posteriors[-1].mean[ii], 2)),\n",
    "                    xy=(1, 0), xycoords='axes fraction', fontsize=12,\n",
    "                    xytext=(-5, 5), textcoords='offset points',\n",
    "                    ha='right', va='bottom')\n",
    "\n",
    "    axes[ii].legend()"
   ]
  },
  {
   "cell_type": "code",
   "execution_count": null,
   "metadata": {},
   "outputs": [],
   "source": [
    "distr_comb, axes = plt.subplots(nrows=n_params, figsize=(20, 16))\n",
    "for ii, l in enumerate(labels):\n",
    "\n",
    "    axes[ii].hist(samples_prior[:, ii], bins='auto', label='prior')\n",
    "    axes[ii].hist(samples_posterior2[:, ii], bins='auto', label='posterior')\n",
    "\n",
    "    axes[ii].set_title(l)\n",
    "    axes[ii].annotate(l+': '+str(round(posteriors2[-1].mean[ii], 2)),\n",
    "                    xy=(1, 0), xycoords='axes fraction', fontsize=12,\n",
    "                    xytext=(-5, 5), textcoords='offset points',\n",
    "                    ha='right', va='bottom')\n",
    "\n",
    "    axes[ii].legend()"
   ]
  },
  {
   "cell_type": "code",
   "execution_count": null,
   "metadata": {},
   "outputs": [],
   "source": [
    "loss, ax = plt.subplots(1,2)\n",
    "ax[0].plot(logs[0]['loss'])\n",
    "ax[1].plot(logs2[0]['loss']);"
   ]
  },
  {
   "cell_type": "code",
   "execution_count": null,
   "metadata": {},
   "outputs": [],
   "source": [
    "# Save hyperparameters\n",
    "hyper = {\n",
    "    'name': name,\n",
    "    'means': str(posteriors[-1].mean),\n",
    "    'n_rounds': n_rounds,\n",
    "    'n_summary': n_summary,\n",
    "    'n_samples': n_samples,\n",
    "    'n_hidden': str(n_hiddens),\n",
    "    'n_components': n_components,\n",
    "    'protocol': protocol,\n",
    "    'ramp_amp': ramp_amp,\n",
    "    'prior_min': str([0, 1]),\n",
    "    'prior_max': str([0.5, 30]),\n",
    "}\n",
    "\n",
    "hyperparams = pd.DataFrame(hyper, index=[0])\n",
    "hyperparams"
   ]
  },
  {
   "cell_type": "code",
   "execution_count": null,
   "metadata": {},
   "outputs": [],
   "source": [
    "# Save parameters\n",
    "parameters = pd.DataFrame(data=posteriors[-1].mean, index=labels,\n",
    "                          columns=['mean param'])\n",
    "parameters"
   ]
  }
 ],
 "metadata": {
  "kernelspec": {
   "display_name": "dap_kernel",
   "language": "python",
   "name": "dap_kernel"
  },
  "language_info": {
   "codemirror_mode": {
    "name": "ipython",
    "version": 3
   },
   "file_extension": ".py",
   "mimetype": "text/x-python",
   "name": "python",
   "nbconvert_exporter": "python",
   "pygments_lexer": "ipython3",
   "version": "3.7.3"
  }
 },
 "nbformat": 4,
 "nbformat_minor": 2
}
